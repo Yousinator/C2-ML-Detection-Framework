{
 "cells": [
  {
   "cell_type": "code",
   "execution_count": 21,
   "metadata": {},
   "outputs": [],
   "source": [
    "import pandas as pd\n",
    "import prisma_ml as prisma\n",
    "import numpy as np\n",
    "from sklearn.preprocessing import LabelEncoder, StandardScaler, MinMaxScaler\n",
    "from sklearn.neighbors import KNeighborsClassifier\n",
    "from sklearn.ensemble import RandomForestClassifier\n",
    "from sklearn.svm import SVC\n",
    "from sklearn.linear_model import LogisticRegression\n",
    "import pickle\n",
    "from sklearn.metrics import classification_report, roc_auc_score\n",
    "import mlflow\n",
    "import mlflow.sklearn\n",
    "from xgboost import XGBClassifier\n",
    "from sklearn.model_selection import learning_curve\n",
    "import matplotlib.pyplot as plt\n",
    "from sklearn.model_selection import GridSearchCV\n",
    "from sklearn.model_selection import train_test_split "
   ]
  },
  {
   "cell_type": "code",
   "execution_count": 22,
   "metadata": {},
   "outputs": [],
   "source": [
    "df = pd.read_csv(r\"../../data/processed/emotet_static.csv\")"
   ]
  },
  {
   "cell_type": "markdown",
   "metadata": {},
   "source": [
    "## EDA"
   ]
  },
  {
   "cell_type": "code",
   "execution_count": 23,
   "metadata": {},
   "outputs": [
    {
     "data": {
      "text/markdown": [
       "### Shape:"
      ],
      "text/plain": [
       "<IPython.core.display.Markdown object>"
      ]
     },
     "metadata": {},
     "output_type": "display_data"
    },
    {
     "data": {
      "text/plain": [
       "(79646, 32)"
      ]
     },
     "metadata": {},
     "output_type": "display_data"
    },
    {
     "data": {
      "text/markdown": [
       "### Columns and Metadata:"
      ],
      "text/plain": [
       "<IPython.core.display.Markdown object>"
      ]
     },
     "metadata": {},
     "output_type": "display_data"
    },
    {
     "data": {
      "text/html": [
       "<style type=\"text/css\">\n",
       "#T_f41ac th {\n",
       "  text-align: left;\n",
       "}\n",
       "#T_f41ac_row0_col0, #T_f41ac_row0_col1, #T_f41ac_row0_col2, #T_f41ac_row1_col0, #T_f41ac_row1_col1, #T_f41ac_row1_col2, #T_f41ac_row2_col0, #T_f41ac_row2_col1, #T_f41ac_row2_col2, #T_f41ac_row3_col0, #T_f41ac_row3_col1, #T_f41ac_row3_col2, #T_f41ac_row4_col0, #T_f41ac_row4_col1, #T_f41ac_row4_col2, #T_f41ac_row5_col0, #T_f41ac_row5_col1, #T_f41ac_row5_col2, #T_f41ac_row6_col0, #T_f41ac_row6_col1, #T_f41ac_row6_col2, #T_f41ac_row7_col0, #T_f41ac_row7_col1, #T_f41ac_row7_col2, #T_f41ac_row8_col0, #T_f41ac_row8_col1, #T_f41ac_row8_col2, #T_f41ac_row9_col0, #T_f41ac_row9_col1, #T_f41ac_row9_col2, #T_f41ac_row10_col0, #T_f41ac_row10_col1, #T_f41ac_row10_col2, #T_f41ac_row11_col0, #T_f41ac_row11_col1, #T_f41ac_row11_col2, #T_f41ac_row12_col0, #T_f41ac_row12_col1, #T_f41ac_row12_col2, #T_f41ac_row13_col0, #T_f41ac_row13_col1, #T_f41ac_row13_col2, #T_f41ac_row14_col0, #T_f41ac_row14_col1, #T_f41ac_row14_col2, #T_f41ac_row15_col0, #T_f41ac_row15_col1, #T_f41ac_row15_col2, #T_f41ac_row16_col0, #T_f41ac_row16_col1, #T_f41ac_row16_col2, #T_f41ac_row17_col0, #T_f41ac_row17_col1, #T_f41ac_row17_col2, #T_f41ac_row18_col0, #T_f41ac_row18_col1, #T_f41ac_row18_col2, #T_f41ac_row19_col0, #T_f41ac_row19_col1, #T_f41ac_row19_col2, #T_f41ac_row20_col0, #T_f41ac_row20_col1, #T_f41ac_row20_col2, #T_f41ac_row21_col0, #T_f41ac_row21_col1, #T_f41ac_row21_col2, #T_f41ac_row22_col0, #T_f41ac_row22_col1, #T_f41ac_row22_col2, #T_f41ac_row23_col0, #T_f41ac_row23_col1, #T_f41ac_row23_col2, #T_f41ac_row24_col0, #T_f41ac_row24_col1, #T_f41ac_row24_col2, #T_f41ac_row25_col0, #T_f41ac_row25_col1, #T_f41ac_row25_col2, #T_f41ac_row26_col0, #T_f41ac_row26_col1, #T_f41ac_row26_col2, #T_f41ac_row27_col0, #T_f41ac_row27_col1, #T_f41ac_row27_col2, #T_f41ac_row28_col0, #T_f41ac_row28_col1, #T_f41ac_row28_col2, #T_f41ac_row29_col0, #T_f41ac_row29_col1, #T_f41ac_row29_col2, #T_f41ac_row30_col0, #T_f41ac_row30_col1, #T_f41ac_row30_col2, #T_f41ac_row31_col0, #T_f41ac_row31_col1, #T_f41ac_row31_col2 {\n",
       "  text-align: left;\n",
       "}\n",
       "</style>\n",
       "<table id=\"T_f41ac\">\n",
       "  <thead>\n",
       "    <tr>\n",
       "      <th class=\"blank level0\" >&nbsp;</th>\n",
       "      <th id=\"T_f41ac_level0_col0\" class=\"col_heading level0 col0\" >Data Type</th>\n",
       "      <th id=\"T_f41ac_level0_col1\" class=\"col_heading level0 col1\" >Null Values</th>\n",
       "      <th id=\"T_f41ac_level0_col2\" class=\"col_heading level0 col2\" >Percentage of Nulls</th>\n",
       "    </tr>\n",
       "  </thead>\n",
       "  <tbody>\n",
       "    <tr>\n",
       "      <th id=\"T_f41ac_level0_row0\" class=\"row_heading level0 row0\" >Duration</th>\n",
       "      <td id=\"T_f41ac_row0_col0\" class=\"data row0 col0\" >float64</td>\n",
       "      <td id=\"T_f41ac_row0_col1\" class=\"data row0 col1\" >0</td>\n",
       "      <td id=\"T_f41ac_row0_col2\" class=\"data row0 col2\" >0.0</td>\n",
       "    </tr>\n",
       "    <tr>\n",
       "      <th id=\"T_f41ac_level0_row1\" class=\"row_heading level0 row1\" >Source Port</th>\n",
       "      <td id=\"T_f41ac_row1_col0\" class=\"data row1 col0\" >int64</td>\n",
       "      <td id=\"T_f41ac_row1_col1\" class=\"data row1 col1\" >0</td>\n",
       "      <td id=\"T_f41ac_row1_col2\" class=\"data row1 col2\" >0.0</td>\n",
       "    </tr>\n",
       "    <tr>\n",
       "      <th id=\"T_f41ac_level0_row2\" class=\"row_heading level0 row2\" >Destination Port</th>\n",
       "      <td id=\"T_f41ac_row2_col0\" class=\"data row2 col0\" >int64</td>\n",
       "      <td id=\"T_f41ac_row2_col1\" class=\"data row2 col1\" >0</td>\n",
       "      <td id=\"T_f41ac_row2_col2\" class=\"data row2 col2\" >0.0</td>\n",
       "    </tr>\n",
       "    <tr>\n",
       "      <th id=\"T_f41ac_level0_row3\" class=\"row_heading level0 row3\" >Protocol</th>\n",
       "      <td id=\"T_f41ac_row3_col0\" class=\"data row3 col0\" >object</td>\n",
       "      <td id=\"T_f41ac_row3_col1\" class=\"data row3 col1\" >0</td>\n",
       "      <td id=\"T_f41ac_row3_col2\" class=\"data row3 col2\" >0.0</td>\n",
       "    </tr>\n",
       "    <tr>\n",
       "      <th id=\"T_f41ac_level0_row4\" class=\"row_heading level0 row4\" >Flags</th>\n",
       "      <td id=\"T_f41ac_row4_col0\" class=\"data row4 col0\" >object</td>\n",
       "      <td id=\"T_f41ac_row4_col1\" class=\"data row4 col1\" >0</td>\n",
       "      <td id=\"T_f41ac_row4_col2\" class=\"data row4 col2\" >0.0</td>\n",
       "    </tr>\n",
       "    <tr>\n",
       "      <th id=\"T_f41ac_level0_row5\" class=\"row_heading level0 row5\" >Packets</th>\n",
       "      <td id=\"T_f41ac_row5_col0\" class=\"data row5 col0\" >int64</td>\n",
       "      <td id=\"T_f41ac_row5_col1\" class=\"data row5 col1\" >0</td>\n",
       "      <td id=\"T_f41ac_row5_col2\" class=\"data row5 col2\" >0.0</td>\n",
       "    </tr>\n",
       "    <tr>\n",
       "      <th id=\"T_f41ac_level0_row6\" class=\"row_heading level0 row6\" >Bytes</th>\n",
       "      <td id=\"T_f41ac_row6_col0\" class=\"data row6 col0\" >int64</td>\n",
       "      <td id=\"T_f41ac_row6_col1\" class=\"data row6 col1\" >0</td>\n",
       "      <td id=\"T_f41ac_row6_col2\" class=\"data row6 col2\" >0.0</td>\n",
       "    </tr>\n",
       "    <tr>\n",
       "      <th id=\"T_f41ac_level0_row7\" class=\"row_heading level0 row7\" >Mean Payload Size</th>\n",
       "      <td id=\"T_f41ac_row7_col0\" class=\"data row7 col0\" >float64</td>\n",
       "      <td id=\"T_f41ac_row7_col1\" class=\"data row7 col1\" >0</td>\n",
       "      <td id=\"T_f41ac_row7_col2\" class=\"data row7 col2\" >0.0</td>\n",
       "    </tr>\n",
       "    <tr>\n",
       "      <th id=\"T_f41ac_level0_row8\" class=\"row_heading level0 row8\" >Std Payload Size</th>\n",
       "      <td id=\"T_f41ac_row8_col0\" class=\"data row8 col0\" >float64</td>\n",
       "      <td id=\"T_f41ac_row8_col1\" class=\"data row8 col1\" >0</td>\n",
       "      <td id=\"T_f41ac_row8_col2\" class=\"data row8 col2\" >0.0</td>\n",
       "    </tr>\n",
       "    <tr>\n",
       "      <th id=\"T_f41ac_level0_row9\" class=\"row_heading level0 row9\" >Min Payload Size</th>\n",
       "      <td id=\"T_f41ac_row9_col0\" class=\"data row9 col0\" >int64</td>\n",
       "      <td id=\"T_f41ac_row9_col1\" class=\"data row9 col1\" >0</td>\n",
       "      <td id=\"T_f41ac_row9_col2\" class=\"data row9 col2\" >0.0</td>\n",
       "    </tr>\n",
       "    <tr>\n",
       "      <th id=\"T_f41ac_level0_row10\" class=\"row_heading level0 row10\" >Max Payload Size</th>\n",
       "      <td id=\"T_f41ac_row10_col0\" class=\"data row10 col0\" >int64</td>\n",
       "      <td id=\"T_f41ac_row10_col1\" class=\"data row10 col1\" >0</td>\n",
       "      <td id=\"T_f41ac_row10_col2\" class=\"data row10 col2\" >0.0</td>\n",
       "    </tr>\n",
       "    <tr>\n",
       "      <th id=\"T_f41ac_level0_row11\" class=\"row_heading level0 row11\" >Mean Entropy</th>\n",
       "      <td id=\"T_f41ac_row11_col0\" class=\"data row11 col0\" >float64</td>\n",
       "      <td id=\"T_f41ac_row11_col1\" class=\"data row11 col1\" >0</td>\n",
       "      <td id=\"T_f41ac_row11_col2\" class=\"data row11 col2\" >0.0</td>\n",
       "    </tr>\n",
       "    <tr>\n",
       "      <th id=\"T_f41ac_level0_row12\" class=\"row_heading level0 row12\" >Min Entropy</th>\n",
       "      <td id=\"T_f41ac_row12_col0\" class=\"data row12 col0\" >float64</td>\n",
       "      <td id=\"T_f41ac_row12_col1\" class=\"data row12 col1\" >0</td>\n",
       "      <td id=\"T_f41ac_row12_col2\" class=\"data row12 col2\" >0.0</td>\n",
       "    </tr>\n",
       "    <tr>\n",
       "      <th id=\"T_f41ac_level0_row13\" class=\"row_heading level0 row13\" >Max Entropy</th>\n",
       "      <td id=\"T_f41ac_row13_col0\" class=\"data row13 col0\" >float64</td>\n",
       "      <td id=\"T_f41ac_row13_col1\" class=\"data row13 col1\" >0</td>\n",
       "      <td id=\"T_f41ac_row13_col2\" class=\"data row13 col2\" >0.0</td>\n",
       "    </tr>\n",
       "    <tr>\n",
       "      <th id=\"T_f41ac_level0_row14\" class=\"row_heading level0 row14\" >Mean Inter-Packet Interval</th>\n",
       "      <td id=\"T_f41ac_row14_col0\" class=\"data row14 col0\" >float64</td>\n",
       "      <td id=\"T_f41ac_row14_col1\" class=\"data row14 col1\" >0</td>\n",
       "      <td id=\"T_f41ac_row14_col2\" class=\"data row14 col2\" >0.0</td>\n",
       "    </tr>\n",
       "    <tr>\n",
       "      <th id=\"T_f41ac_level0_row15\" class=\"row_heading level0 row15\" >Min Inter-Packet Interval</th>\n",
       "      <td id=\"T_f41ac_row15_col0\" class=\"data row15 col0\" >float64</td>\n",
       "      <td id=\"T_f41ac_row15_col1\" class=\"data row15 col1\" >0</td>\n",
       "      <td id=\"T_f41ac_row15_col2\" class=\"data row15 col2\" >0.0</td>\n",
       "    </tr>\n",
       "    <tr>\n",
       "      <th id=\"T_f41ac_level0_row16\" class=\"row_heading level0 row16\" >Max Inter-Packet Interval</th>\n",
       "      <td id=\"T_f41ac_row16_col0\" class=\"data row16 col0\" >float64</td>\n",
       "      <td id=\"T_f41ac_row16_col1\" class=\"data row16 col1\" >0</td>\n",
       "      <td id=\"T_f41ac_row16_col2\" class=\"data row16 col2\" >0.0</td>\n",
       "    </tr>\n",
       "    <tr>\n",
       "      <th id=\"T_f41ac_level0_row17\" class=\"row_heading level0 row17\" >Label</th>\n",
       "      <td id=\"T_f41ac_row17_col0\" class=\"data row17 col0\" >object</td>\n",
       "      <td id=\"T_f41ac_row17_col1\" class=\"data row17 col1\" >0</td>\n",
       "      <td id=\"T_f41ac_row17_col2\" class=\"data row17 col2\" >0.0</td>\n",
       "    </tr>\n",
       "    <tr>\n",
       "      <th id=\"T_f41ac_level0_row18\" class=\"row_heading level0 row18\" >Bytes per Packet</th>\n",
       "      <td id=\"T_f41ac_row18_col0\" class=\"data row18 col0\" >float64</td>\n",
       "      <td id=\"T_f41ac_row18_col1\" class=\"data row18 col1\" >0</td>\n",
       "      <td id=\"T_f41ac_row18_col2\" class=\"data row18 col2\" >0.0</td>\n",
       "    </tr>\n",
       "    <tr>\n",
       "      <th id=\"T_f41ac_level0_row19\" class=\"row_heading level0 row19\" >Packets per Second</th>\n",
       "      <td id=\"T_f41ac_row19_col0\" class=\"data row19 col0\" >float64</td>\n",
       "      <td id=\"T_f41ac_row19_col1\" class=\"data row19 col1\" >0</td>\n",
       "      <td id=\"T_f41ac_row19_col2\" class=\"data row19 col2\" >0.0</td>\n",
       "    </tr>\n",
       "    <tr>\n",
       "      <th id=\"T_f41ac_level0_row20\" class=\"row_heading level0 row20\" >Bytes per Second</th>\n",
       "      <td id=\"T_f41ac_row20_col0\" class=\"data row20 col0\" >float64</td>\n",
       "      <td id=\"T_f41ac_row20_col1\" class=\"data row20 col1\" >0</td>\n",
       "      <td id=\"T_f41ac_row20_col2\" class=\"data row20 col2\" >0.0</td>\n",
       "    </tr>\n",
       "    <tr>\n",
       "      <th id=\"T_f41ac_level0_row21\" class=\"row_heading level0 row21\" >Is Encrypted Traffic</th>\n",
       "      <td id=\"T_f41ac_row21_col0\" class=\"data row21 col0\" >int64</td>\n",
       "      <td id=\"T_f41ac_row21_col1\" class=\"data row21 col1\" >0</td>\n",
       "      <td id=\"T_f41ac_row21_col2\" class=\"data row21 col2\" >0.0</td>\n",
       "    </tr>\n",
       "    <tr>\n",
       "      <th id=\"T_f41ac_level0_row22\" class=\"row_heading level0 row22\" >Common Port Usage</th>\n",
       "      <td id=\"T_f41ac_row22_col0\" class=\"data row22 col0\" >int64</td>\n",
       "      <td id=\"T_f41ac_row22_col1\" class=\"data row22 col1\" >0</td>\n",
       "      <td id=\"T_f41ac_row22_col2\" class=\"data row22 col2\" >0.0</td>\n",
       "    </tr>\n",
       "    <tr>\n",
       "      <th id=\"T_f41ac_level0_row23\" class=\"row_heading level0 row23\" >flags_count</th>\n",
       "      <td id=\"T_f41ac_row23_col0\" class=\"data row23 col0\" >int64</td>\n",
       "      <td id=\"T_f41ac_row23_col1\" class=\"data row23 col1\" >0</td>\n",
       "      <td id=\"T_f41ac_row23_col2\" class=\"data row23 col2\" >0.0</td>\n",
       "    </tr>\n",
       "    <tr>\n",
       "      <th id=\"T_f41ac_level0_row24\" class=\"row_heading level0 row24\" >syn_count</th>\n",
       "      <td id=\"T_f41ac_row24_col0\" class=\"data row24 col0\" >int64</td>\n",
       "      <td id=\"T_f41ac_row24_col1\" class=\"data row24 col1\" >0</td>\n",
       "      <td id=\"T_f41ac_row24_col2\" class=\"data row24 col2\" >0.0</td>\n",
       "    </tr>\n",
       "    <tr>\n",
       "      <th id=\"T_f41ac_level0_row25\" class=\"row_heading level0 row25\" >ack_count</th>\n",
       "      <td id=\"T_f41ac_row25_col0\" class=\"data row25 col0\" >int64</td>\n",
       "      <td id=\"T_f41ac_row25_col1\" class=\"data row25 col1\" >0</td>\n",
       "      <td id=\"T_f41ac_row25_col2\" class=\"data row25 col2\" >0.0</td>\n",
       "    </tr>\n",
       "    <tr>\n",
       "      <th id=\"T_f41ac_level0_row26\" class=\"row_heading level0 row26\" >fin_count</th>\n",
       "      <td id=\"T_f41ac_row26_col0\" class=\"data row26 col0\" >int64</td>\n",
       "      <td id=\"T_f41ac_row26_col1\" class=\"data row26 col1\" >0</td>\n",
       "      <td id=\"T_f41ac_row26_col2\" class=\"data row26 col2\" >0.0</td>\n",
       "    </tr>\n",
       "    <tr>\n",
       "      <th id=\"T_f41ac_level0_row27\" class=\"row_heading level0 row27\" >is_http</th>\n",
       "      <td id=\"T_f41ac_row27_col0\" class=\"data row27 col0\" >int64</td>\n",
       "      <td id=\"T_f41ac_row27_col1\" class=\"data row27 col1\" >0</td>\n",
       "      <td id=\"T_f41ac_row27_col2\" class=\"data row27 col2\" >0.0</td>\n",
       "    </tr>\n",
       "    <tr>\n",
       "      <th id=\"T_f41ac_level0_row28\" class=\"row_heading level0 row28\" >is_internal_ip</th>\n",
       "      <td id=\"T_f41ac_row28_col0\" class=\"data row28 col0\" >int64</td>\n",
       "      <td id=\"T_f41ac_row28_col1\" class=\"data row28 col1\" >0</td>\n",
       "      <td id=\"T_f41ac_row28_col2\" class=\"data row28 col2\" >0.0</td>\n",
       "    </tr>\n",
       "    <tr>\n",
       "      <th id=\"T_f41ac_level0_row29\" class=\"row_heading level0 row29\" >direction</th>\n",
       "      <td id=\"T_f41ac_row29_col0\" class=\"data row29 col0\" >object</td>\n",
       "      <td id=\"T_f41ac_row29_col1\" class=\"data row29 col1\" >0</td>\n",
       "      <td id=\"T_f41ac_row29_col2\" class=\"data row29 col2\" >0.0</td>\n",
       "    </tr>\n",
       "    <tr>\n",
       "      <th id=\"T_f41ac_level0_row30\" class=\"row_heading level0 row30\" >short_duration</th>\n",
       "      <td id=\"T_f41ac_row30_col0\" class=\"data row30 col0\" >int64</td>\n",
       "      <td id=\"T_f41ac_row30_col1\" class=\"data row30 col1\" >0</td>\n",
       "      <td id=\"T_f41ac_row30_col2\" class=\"data row30 col2\" >0.0</td>\n",
       "    </tr>\n",
       "    <tr>\n",
       "      <th id=\"T_f41ac_level0_row31\" class=\"row_heading level0 row31\" >single_packet</th>\n",
       "      <td id=\"T_f41ac_row31_col0\" class=\"data row31 col0\" >int64</td>\n",
       "      <td id=\"T_f41ac_row31_col1\" class=\"data row31 col1\" >0</td>\n",
       "      <td id=\"T_f41ac_row31_col2\" class=\"data row31 col2\" >0.0</td>\n",
       "    </tr>\n",
       "  </tbody>\n",
       "</table>\n"
      ],
      "text/plain": [
       "<pandas.io.formats.style.Styler at 0x7ff122985cc0>"
      ]
     },
     "metadata": {},
     "output_type": "display_data"
    },
    {
     "data": {
      "text/markdown": [
       "### Duplicated Rows:"
      ],
      "text/plain": [
       "<IPython.core.display.Markdown object>"
      ]
     },
     "metadata": {},
     "output_type": "display_data"
    },
    {
     "data": {
      "text/html": [
       "<div>\n",
       "<style scoped>\n",
       "    .dataframe tbody tr th:only-of-type {\n",
       "        vertical-align: middle;\n",
       "    }\n",
       "\n",
       "    .dataframe tbody tr th {\n",
       "        vertical-align: top;\n",
       "    }\n",
       "\n",
       "    .dataframe thead th {\n",
       "        text-align: right;\n",
       "    }\n",
       "</style>\n",
       "<table border=\"1\" class=\"dataframe\">\n",
       "  <thead>\n",
       "    <tr style=\"text-align: right;\">\n",
       "      <th></th>\n",
       "      <th>Duplicated Rows Count</th>\n",
       "    </tr>\n",
       "  </thead>\n",
       "  <tbody>\n",
       "    <tr>\n",
       "      <th>Total</th>\n",
       "      <td>0</td>\n",
       "    </tr>\n",
       "  </tbody>\n",
       "</table>\n",
       "</div>"
      ],
      "text/plain": [
       "       Duplicated Rows Count\n",
       "Total                      0"
      ]
     },
     "metadata": {},
     "output_type": "display_data"
    }
   ],
   "source": [
    "info = prisma.DatasetInformation(df)\n",
    "\n",
    "df.drop_duplicates(inplace=True)\n",
    "\n",
    "info.dataframe_summary()"
   ]
  },
  {
   "cell_type": "markdown",
   "metadata": {},
   "source": [
    "### Categorical"
   ]
  },
  {
   "cell_type": "code",
   "execution_count": 24,
   "metadata": {},
   "outputs": [
    {
     "data": {
      "text/markdown": [
       "### Categorical Columns Summary:"
      ],
      "text/plain": [
       "<IPython.core.display.Markdown object>"
      ]
     },
     "metadata": {},
     "output_type": "display_data"
    },
    {
     "data": {
      "text/html": [
       "<style type=\"text/css\">\n",
       "#T_2cb4d th {\n",
       "  text-align: left;\n",
       "}\n",
       "#T_2cb4d_row0_col0, #T_2cb4d_row0_col1, #T_2cb4d_row0_col2, #T_2cb4d_row0_col3, #T_2cb4d_row1_col0, #T_2cb4d_row1_col1, #T_2cb4d_row1_col2, #T_2cb4d_row1_col3, #T_2cb4d_row2_col0, #T_2cb4d_row2_col1, #T_2cb4d_row2_col2, #T_2cb4d_row2_col3, #T_2cb4d_row3_col0, #T_2cb4d_row3_col1, #T_2cb4d_row3_col2, #T_2cb4d_row3_col3 {\n",
       "  text-align: left;\n",
       "}\n",
       "</style>\n",
       "<table id=\"T_2cb4d\">\n",
       "  <thead>\n",
       "    <tr>\n",
       "      <th class=\"blank level0\" >&nbsp;</th>\n",
       "      <th id=\"T_2cb4d_level0_col0\" class=\"col_heading level0 col0\" >Column</th>\n",
       "      <th id=\"T_2cb4d_level0_col1\" class=\"col_heading level0 col1\" >Unique Values Count</th>\n",
       "      <th id=\"T_2cb4d_level0_col2\" class=\"col_heading level0 col2\" >Top Value</th>\n",
       "      <th id=\"T_2cb4d_level0_col3\" class=\"col_heading level0 col3\" >Top Value Percentage</th>\n",
       "    </tr>\n",
       "  </thead>\n",
       "  <tbody>\n",
       "    <tr>\n",
       "      <th id=\"T_2cb4d_level0_row0\" class=\"row_heading level0 row0\" >0</th>\n",
       "      <td id=\"T_2cb4d_row0_col0\" class=\"data row0 col0\" >Protocol</td>\n",
       "      <td id=\"T_2cb4d_row0_col1\" class=\"data row0 col1\" >4</td>\n",
       "      <td id=\"T_2cb4d_row0_col2\" class=\"data row0 col2\" >TCP</td>\n",
       "      <td id=\"T_2cb4d_row0_col3\" class=\"data row0 col3\" >76.17%</td>\n",
       "    </tr>\n",
       "    <tr>\n",
       "      <th id=\"T_2cb4d_level0_row1\" class=\"row_heading level0 row1\" >1</th>\n",
       "      <td id=\"T_2cb4d_row1_col0\" class=\"data row1 col0\" >Flags</td>\n",
       "      <td id=\"T_2cb4d_row1_col1\" class=\"data row1 col1\" >14</td>\n",
       "      <td id=\"T_2cb4d_row1_col2\" class=\"data row1 col2\" >SYN</td>\n",
       "      <td id=\"T_2cb4d_row1_col3\" class=\"data row1 col3\" >51.50%</td>\n",
       "    </tr>\n",
       "    <tr>\n",
       "      <th id=\"T_2cb4d_level0_row2\" class=\"row_heading level0 row2\" >2</th>\n",
       "      <td id=\"T_2cb4d_row2_col0\" class=\"data row2 col0\" >Label</td>\n",
       "      <td id=\"T_2cb4d_row2_col1\" class=\"data row2 col1\" >2</td>\n",
       "      <td id=\"T_2cb4d_row2_col2\" class=\"data row2 col2\" >Benign</td>\n",
       "      <td id=\"T_2cb4d_row2_col3\" class=\"data row2 col3\" >53.87%</td>\n",
       "    </tr>\n",
       "    <tr>\n",
       "      <th id=\"T_2cb4d_level0_row3\" class=\"row_heading level0 row3\" >3</th>\n",
       "      <td id=\"T_2cb4d_row3_col0\" class=\"data row3 col0\" >direction</td>\n",
       "      <td id=\"T_2cb4d_row3_col1\" class=\"data row3 col1\" >1</td>\n",
       "      <td id=\"T_2cb4d_row3_col2\" class=\"data row3 col2\" >outbound</td>\n",
       "      <td id=\"T_2cb4d_row3_col3\" class=\"data row3 col3\" >100.00%</td>\n",
       "    </tr>\n",
       "  </tbody>\n",
       "</table>\n"
      ],
      "text/plain": [
       "<pandas.io.formats.style.Styler at 0x7ff122986da0>"
      ]
     },
     "metadata": {},
     "output_type": "display_data"
    },
    {
     "data": {
      "text/markdown": [
       "### Column: Protocol"
      ],
      "text/plain": [
       "<IPython.core.display.Markdown object>"
      ]
     },
     "metadata": {},
     "output_type": "display_data"
    },
    {
     "data": {
      "text/markdown": [
       "#### Value Counts and Percentage Distribution:"
      ],
      "text/plain": [
       "<IPython.core.display.Markdown object>"
      ]
     },
     "metadata": {},
     "output_type": "display_data"
    },
    {
     "data": {
      "text/html": [
       "<style type=\"text/css\">\n",
       "#T_f71c4_row0_col0, #T_f71c4_row0_col1, #T_f71c4_row0_col2, #T_f71c4_row1_col0, #T_f71c4_row1_col1, #T_f71c4_row1_col2, #T_f71c4_row2_col0, #T_f71c4_row2_col1, #T_f71c4_row2_col2, #T_f71c4_row3_col0, #T_f71c4_row3_col1, #T_f71c4_row3_col2 {\n",
       "  text-align: left;\n",
       "}\n",
       "</style>\n",
       "<table id=\"T_f71c4\">\n",
       "  <thead>\n",
       "    <tr>\n",
       "      <th class=\"blank level0\" >&nbsp;</th>\n",
       "      <th id=\"T_f71c4_level0_col0\" class=\"col_heading level0 col0\" >Value</th>\n",
       "      <th id=\"T_f71c4_level0_col1\" class=\"col_heading level0 col1\" >Count</th>\n",
       "      <th id=\"T_f71c4_level0_col2\" class=\"col_heading level0 col2\" >Percentage</th>\n",
       "    </tr>\n",
       "  </thead>\n",
       "  <tbody>\n",
       "    <tr>\n",
       "      <th id=\"T_f71c4_level0_row0\" class=\"row_heading level0 row0\" >0</th>\n",
       "      <td id=\"T_f71c4_row0_col0\" class=\"data row0 col0\" >TCP</td>\n",
       "      <td id=\"T_f71c4_row0_col1\" class=\"data row0 col1\" >60663</td>\n",
       "      <td id=\"T_f71c4_row0_col2\" class=\"data row0 col2\" >76.165784</td>\n",
       "    </tr>\n",
       "    <tr>\n",
       "      <th id=\"T_f71c4_level0_row1\" class=\"row_heading level0 row1\" >1</th>\n",
       "      <td id=\"T_f71c4_row1_col0\" class=\"data row1 col0\" >HTTP</td>\n",
       "      <td id=\"T_f71c4_row1_col1\" class=\"data row1 col1\" >14216</td>\n",
       "      <td id=\"T_f71c4_row1_col2\" class=\"data row1 col2\" >17.848982</td>\n",
       "    </tr>\n",
       "    <tr>\n",
       "      <th id=\"T_f71c4_level0_row2\" class=\"row_heading level0 row2\" >2</th>\n",
       "      <td id=\"T_f71c4_row2_col0\" class=\"data row2 col0\" >DATA-TEXT-LINES</td>\n",
       "      <td id=\"T_f71c4_row2_col1\" class=\"data row2 col1\" >4743</td>\n",
       "      <td id=\"T_f71c4_row2_col2\" class=\"data row2 col2\" >5.955101</td>\n",
       "    </tr>\n",
       "    <tr>\n",
       "      <th id=\"T_f71c4_level0_row3\" class=\"row_heading level0 row3\" >3</th>\n",
       "      <td id=\"T_f71c4_row3_col0\" class=\"data row3 col0\" >XML</td>\n",
       "      <td id=\"T_f71c4_row3_col1\" class=\"data row3 col1\" >24</td>\n",
       "      <td id=\"T_f71c4_row3_col2\" class=\"data row3 col2\" >0.030133</td>\n",
       "    </tr>\n",
       "  </tbody>\n",
       "</table>\n"
      ],
      "text/plain": [
       "<pandas.io.formats.style.Styler at 0x7ff19516db10>"
      ]
     },
     "metadata": {},
     "output_type": "display_data"
    },
    {
     "data": {
      "text/markdown": [
       "---"
      ],
      "text/plain": [
       "<IPython.core.display.Markdown object>"
      ]
     },
     "metadata": {},
     "output_type": "display_data"
    },
    {
     "data": {
      "text/markdown": [
       "### Column: Flags"
      ],
      "text/plain": [
       "<IPython.core.display.Markdown object>"
      ]
     },
     "metadata": {},
     "output_type": "display_data"
    },
    {
     "data": {
      "text/markdown": [
       "#### Value Counts and Percentage Distribution:"
      ],
      "text/plain": [
       "<IPython.core.display.Markdown object>"
      ]
     },
     "metadata": {},
     "output_type": "display_data"
    },
    {
     "data": {
      "text/html": [
       "<style type=\"text/css\">\n",
       "#T_dbd7f_row0_col0, #T_dbd7f_row0_col1, #T_dbd7f_row0_col2, #T_dbd7f_row1_col0, #T_dbd7f_row1_col1, #T_dbd7f_row1_col2, #T_dbd7f_row2_col0, #T_dbd7f_row2_col1, #T_dbd7f_row2_col2, #T_dbd7f_row3_col0, #T_dbd7f_row3_col1, #T_dbd7f_row3_col2, #T_dbd7f_row4_col0, #T_dbd7f_row4_col1, #T_dbd7f_row4_col2, #T_dbd7f_row5_col0, #T_dbd7f_row5_col1, #T_dbd7f_row5_col2, #T_dbd7f_row6_col0, #T_dbd7f_row6_col1, #T_dbd7f_row6_col2, #T_dbd7f_row7_col0, #T_dbd7f_row7_col1, #T_dbd7f_row7_col2, #T_dbd7f_row8_col0, #T_dbd7f_row8_col1, #T_dbd7f_row8_col2, #T_dbd7f_row9_col0, #T_dbd7f_row9_col1, #T_dbd7f_row9_col2, #T_dbd7f_row10_col0, #T_dbd7f_row10_col1, #T_dbd7f_row10_col2, #T_dbd7f_row11_col0, #T_dbd7f_row11_col1, #T_dbd7f_row11_col2, #T_dbd7f_row12_col0, #T_dbd7f_row12_col1, #T_dbd7f_row12_col2, #T_dbd7f_row13_col0, #T_dbd7f_row13_col1, #T_dbd7f_row13_col2 {\n",
       "  text-align: left;\n",
       "}\n",
       "</style>\n",
       "<table id=\"T_dbd7f\">\n",
       "  <thead>\n",
       "    <tr>\n",
       "      <th class=\"blank level0\" >&nbsp;</th>\n",
       "      <th id=\"T_dbd7f_level0_col0\" class=\"col_heading level0 col0\" >Value</th>\n",
       "      <th id=\"T_dbd7f_level0_col1\" class=\"col_heading level0 col1\" >Count</th>\n",
       "      <th id=\"T_dbd7f_level0_col2\" class=\"col_heading level0 col2\" >Percentage</th>\n",
       "    </tr>\n",
       "  </thead>\n",
       "  <tbody>\n",
       "    <tr>\n",
       "      <th id=\"T_dbd7f_level0_row0\" class=\"row_heading level0 row0\" >0</th>\n",
       "      <td id=\"T_dbd7f_row0_col0\" class=\"data row0 col0\" >SYN</td>\n",
       "      <td id=\"T_dbd7f_row0_col1\" class=\"data row0 col1\" >41015</td>\n",
       "      <td id=\"T_dbd7f_row0_col2\" class=\"data row0 col2\" >51.496623</td>\n",
       "    </tr>\n",
       "    <tr>\n",
       "      <th id=\"T_dbd7f_level0_row1\" class=\"row_heading level0 row1\" >1</th>\n",
       "      <td id=\"T_dbd7f_row1_col0\" class=\"data row1 col0\" >PSH,ACK</td>\n",
       "      <td id=\"T_dbd7f_row1_col1\" class=\"data row1 col1\" >18926</td>\n",
       "      <td id=\"T_dbd7f_row1_col2\" class=\"data row1 col2\" >23.762650</td>\n",
       "    </tr>\n",
       "    <tr>\n",
       "      <th id=\"T_dbd7f_level0_row2\" class=\"row_heading level0 row2\" >2</th>\n",
       "      <td id=\"T_dbd7f_row2_col0\" class=\"data row2 col0\" >FIN,SYN,ACK</td>\n",
       "      <td id=\"T_dbd7f_row2_col1\" class=\"data row2 col1\" >9294</td>\n",
       "      <td id=\"T_dbd7f_row2_col2\" class=\"data row2 col2\" >11.669136</td>\n",
       "    </tr>\n",
       "    <tr>\n",
       "      <th id=\"T_dbd7f_level0_row3\" class=\"row_heading level0 row3\" >3</th>\n",
       "      <td id=\"T_dbd7f_row3_col0\" class=\"data row3 col0\" >SYN,RST,ACK</td>\n",
       "      <td id=\"T_dbd7f_row3_col1\" class=\"data row3 col1\" >6277</td>\n",
       "      <td id=\"T_dbd7f_row3_col2\" class=\"data row3 col2\" >7.881124</td>\n",
       "    </tr>\n",
       "    <tr>\n",
       "      <th id=\"T_dbd7f_level0_row4\" class=\"row_heading level0 row4\" >4</th>\n",
       "      <td id=\"T_dbd7f_row4_col0\" class=\"data row4 col0\" >FIN,SYN,RST,ACK</td>\n",
       "      <td id=\"T_dbd7f_row4_col1\" class=\"data row4 col1\" >2958</td>\n",
       "      <td id=\"T_dbd7f_row4_col2\" class=\"data row4 col2\" >3.713934</td>\n",
       "    </tr>\n",
       "    <tr>\n",
       "      <th id=\"T_dbd7f_level0_row5\" class=\"row_heading level0 row5\" >5</th>\n",
       "      <td id=\"T_dbd7f_row5_col0\" class=\"data row5 col0\" >FIN,SYN,PSH,ACK</td>\n",
       "      <td id=\"T_dbd7f_row5_col1\" class=\"data row5 col1\" >556</td>\n",
       "      <td id=\"T_dbd7f_row5_col2\" class=\"data row5 col2\" >0.698089</td>\n",
       "    </tr>\n",
       "    <tr>\n",
       "      <th id=\"T_dbd7f_level0_row6\" class=\"row_heading level0 row6\" >6</th>\n",
       "      <td id=\"T_dbd7f_row6_col0\" class=\"data row6 col0\" >SYN,ACK</td>\n",
       "      <td id=\"T_dbd7f_row6_col1\" class=\"data row6 col1\" >289</td>\n",
       "      <td id=\"T_dbd7f_row6_col2\" class=\"data row6 col2\" >0.362856</td>\n",
       "    </tr>\n",
       "    <tr>\n",
       "      <th id=\"T_dbd7f_level0_row7\" class=\"row_heading level0 row7\" >7</th>\n",
       "      <td id=\"T_dbd7f_row7_col0\" class=\"data row7 col0\" >FIN,SYN,RST,PSH,ACK</td>\n",
       "      <td id=\"T_dbd7f_row7_col1\" class=\"data row7 col1\" >119</td>\n",
       "      <td id=\"T_dbd7f_row7_col2\" class=\"data row7 col2\" >0.149411</td>\n",
       "    </tr>\n",
       "    <tr>\n",
       "      <th id=\"T_dbd7f_level0_row8\" class=\"row_heading level0 row8\" >8</th>\n",
       "      <td id=\"T_dbd7f_row8_col0\" class=\"data row8 col0\" >SYN,RST</td>\n",
       "      <td id=\"T_dbd7f_row8_col1\" class=\"data row8 col1\" >64</td>\n",
       "      <td id=\"T_dbd7f_row8_col2\" class=\"data row8 col2\" >0.080356</td>\n",
       "    </tr>\n",
       "    <tr>\n",
       "      <th id=\"T_dbd7f_level0_row9\" class=\"row_heading level0 row9\" >9</th>\n",
       "      <td id=\"T_dbd7f_row9_col0\" class=\"data row9 col0\" >SYN,PSH,ACK</td>\n",
       "      <td id=\"T_dbd7f_row9_col1\" class=\"data row9 col1\" >53</td>\n",
       "      <td id=\"T_dbd7f_row9_col2\" class=\"data row9 col2\" >0.066544</td>\n",
       "    </tr>\n",
       "    <tr>\n",
       "      <th id=\"T_dbd7f_level0_row10\" class=\"row_heading level0 row10\" >10</th>\n",
       "      <td id=\"T_dbd7f_row10_col0\" class=\"data row10 col0\" >FIN,ACK</td>\n",
       "      <td id=\"T_dbd7f_row10_col1\" class=\"data row10 col1\" >49</td>\n",
       "      <td id=\"T_dbd7f_row10_col2\" class=\"data row10 col2\" >0.061522</td>\n",
       "    </tr>\n",
       "    <tr>\n",
       "      <th id=\"T_dbd7f_level0_row11\" class=\"row_heading level0 row11\" >11</th>\n",
       "      <td id=\"T_dbd7f_row11_col0\" class=\"data row11 col0\" >SYN,RST,PSH,ACK</td>\n",
       "      <td id=\"T_dbd7f_row11_col1\" class=\"data row11 col1\" >36</td>\n",
       "      <td id=\"T_dbd7f_row11_col2\" class=\"data row11 col2\" >0.045200</td>\n",
       "    </tr>\n",
       "    <tr>\n",
       "      <th id=\"T_dbd7f_level0_row12\" class=\"row_heading level0 row12\" >12</th>\n",
       "      <td id=\"T_dbd7f_row12_col0\" class=\"data row12 col0\" >FIN,PSH,ACK</td>\n",
       "      <td id=\"T_dbd7f_row12_col1\" class=\"data row12 col1\" >9</td>\n",
       "      <td id=\"T_dbd7f_row12_col2\" class=\"data row12 col2\" >0.011300</td>\n",
       "    </tr>\n",
       "    <tr>\n",
       "      <th id=\"T_dbd7f_level0_row13\" class=\"row_heading level0 row13\" >13</th>\n",
       "      <td id=\"T_dbd7f_row13_col0\" class=\"data row13 col0\" >RST</td>\n",
       "      <td id=\"T_dbd7f_row13_col1\" class=\"data row13 col1\" >1</td>\n",
       "      <td id=\"T_dbd7f_row13_col2\" class=\"data row13 col2\" >0.001256</td>\n",
       "    </tr>\n",
       "  </tbody>\n",
       "</table>\n"
      ],
      "text/plain": [
       "<pandas.io.formats.style.Styler at 0x7ff19516e6e0>"
      ]
     },
     "metadata": {},
     "output_type": "display_data"
    },
    {
     "data": {
      "text/markdown": [
       "---"
      ],
      "text/plain": [
       "<IPython.core.display.Markdown object>"
      ]
     },
     "metadata": {},
     "output_type": "display_data"
    },
    {
     "data": {
      "text/markdown": [
       "### Column: Label"
      ],
      "text/plain": [
       "<IPython.core.display.Markdown object>"
      ]
     },
     "metadata": {},
     "output_type": "display_data"
    },
    {
     "data": {
      "text/markdown": [
       "#### Value Counts and Percentage Distribution:"
      ],
      "text/plain": [
       "<IPython.core.display.Markdown object>"
      ]
     },
     "metadata": {},
     "output_type": "display_data"
    },
    {
     "data": {
      "text/html": [
       "<style type=\"text/css\">\n",
       "#T_31e75_row0_col0, #T_31e75_row0_col1, #T_31e75_row0_col2, #T_31e75_row1_col0, #T_31e75_row1_col1, #T_31e75_row1_col2 {\n",
       "  text-align: left;\n",
       "}\n",
       "</style>\n",
       "<table id=\"T_31e75\">\n",
       "  <thead>\n",
       "    <tr>\n",
       "      <th class=\"blank level0\" >&nbsp;</th>\n",
       "      <th id=\"T_31e75_level0_col0\" class=\"col_heading level0 col0\" >Value</th>\n",
       "      <th id=\"T_31e75_level0_col1\" class=\"col_heading level0 col1\" >Count</th>\n",
       "      <th id=\"T_31e75_level0_col2\" class=\"col_heading level0 col2\" >Percentage</th>\n",
       "    </tr>\n",
       "  </thead>\n",
       "  <tbody>\n",
       "    <tr>\n",
       "      <th id=\"T_31e75_level0_row0\" class=\"row_heading level0 row0\" >0</th>\n",
       "      <td id=\"T_31e75_row0_col0\" class=\"data row0 col0\" >Benign</td>\n",
       "      <td id=\"T_31e75_row0_col1\" class=\"data row0 col1\" >42907</td>\n",
       "      <td id=\"T_31e75_row0_col2\" class=\"data row0 col2\" >53.872134</td>\n",
       "    </tr>\n",
       "    <tr>\n",
       "      <th id=\"T_31e75_level0_row1\" class=\"row_heading level0 row1\" >1</th>\n",
       "      <td id=\"T_31e75_row1_col0\" class=\"data row1 col0\" >Emotet</td>\n",
       "      <td id=\"T_31e75_row1_col1\" class=\"data row1 col1\" >36739</td>\n",
       "      <td id=\"T_31e75_row1_col2\" class=\"data row1 col2\" >46.127866</td>\n",
       "    </tr>\n",
       "  </tbody>\n",
       "</table>\n"
      ],
      "text/plain": [
       "<pandas.io.formats.style.Styler at 0x7ff1954ed690>"
      ]
     },
     "metadata": {},
     "output_type": "display_data"
    },
    {
     "data": {
      "text/markdown": [
       "---"
      ],
      "text/plain": [
       "<IPython.core.display.Markdown object>"
      ]
     },
     "metadata": {},
     "output_type": "display_data"
    },
    {
     "data": {
      "text/markdown": [
       "### Column: direction"
      ],
      "text/plain": [
       "<IPython.core.display.Markdown object>"
      ]
     },
     "metadata": {},
     "output_type": "display_data"
    },
    {
     "data": {
      "text/markdown": [
       "#### Value Counts and Percentage Distribution:"
      ],
      "text/plain": [
       "<IPython.core.display.Markdown object>"
      ]
     },
     "metadata": {},
     "output_type": "display_data"
    },
    {
     "data": {
      "text/html": [
       "<style type=\"text/css\">\n",
       "#T_f378d_row0_col0, #T_f378d_row0_col1, #T_f378d_row0_col2 {\n",
       "  text-align: left;\n",
       "}\n",
       "</style>\n",
       "<table id=\"T_f378d\">\n",
       "  <thead>\n",
       "    <tr>\n",
       "      <th class=\"blank level0\" >&nbsp;</th>\n",
       "      <th id=\"T_f378d_level0_col0\" class=\"col_heading level0 col0\" >Value</th>\n",
       "      <th id=\"T_f378d_level0_col1\" class=\"col_heading level0 col1\" >Count</th>\n",
       "      <th id=\"T_f378d_level0_col2\" class=\"col_heading level0 col2\" >Percentage</th>\n",
       "    </tr>\n",
       "  </thead>\n",
       "  <tbody>\n",
       "    <tr>\n",
       "      <th id=\"T_f378d_level0_row0\" class=\"row_heading level0 row0\" >0</th>\n",
       "      <td id=\"T_f378d_row0_col0\" class=\"data row0 col0\" >outbound</td>\n",
       "      <td id=\"T_f378d_row0_col1\" class=\"data row0 col1\" >79646</td>\n",
       "      <td id=\"T_f378d_row0_col2\" class=\"data row0 col2\" >100.000000</td>\n",
       "    </tr>\n",
       "  </tbody>\n",
       "</table>\n"
      ],
      "text/plain": [
       "<pandas.io.formats.style.Styler at 0x7ff19516db10>"
      ]
     },
     "metadata": {},
     "output_type": "display_data"
    },
    {
     "data": {
      "text/markdown": [
       "---"
      ],
      "text/plain": [
       "<IPython.core.display.Markdown object>"
      ]
     },
     "metadata": {},
     "output_type": "display_data"
    }
   ],
   "source": [
    "info = prisma.DatasetInformation(df)\n",
    "\n",
    "info.categorical_summary()"
   ]
  },
  {
   "cell_type": "markdown",
   "metadata": {},
   "source": [
    "### Numerical"
   ]
  },
  {
   "cell_type": "code",
   "execution_count": null,
   "metadata": {},
   "outputs": [],
   "source": []
  },
  {
   "cell_type": "markdown",
   "metadata": {},
   "source": [
    "## Modeling"
   ]
  },
  {
   "cell_type": "markdown",
   "metadata": {},
   "source": [
    "### Final Data Prep"
   ]
  },
  {
   "cell_type": "code",
   "execution_count": 25,
   "metadata": {},
   "outputs": [],
   "source": [
    "def save_as_pickle(path, variable):\n",
    "    with open(path, \"wb\") as file:\n",
    "        pickle.dump(variable, file)"
   ]
  },
  {
   "cell_type": "markdown",
   "metadata": {},
   "source": [
    "#### Encoding"
   ]
  },
  {
   "cell_type": "code",
   "execution_count": 26,
   "metadata": {},
   "outputs": [],
   "source": [
    "encoder = LabelEncoder()\n",
    "\n",
    "# Columns to encode\n",
    "columns_to_encode = [\"Protocol\", \"Flags\", \"Label\", \"direction\"]\n",
    "\n",
    "# Apply label encoding to each column\n",
    "for column in columns_to_encode:\n",
    "    # Fit label encoder and return encoded labels\n",
    "    path = \"../../variables/emotet/static_no_pca\" + column + \"_Encoder.pkl\"\n",
    "    df[column] = encoder.fit_transform(df[column])\n",
    "    save_as_pickle(path, encoder)"
   ]
  },
  {
   "cell_type": "code",
   "execution_count": 27,
   "metadata": {},
   "outputs": [
    {
     "name": "stdout",
     "output_type": "stream",
     "text": [
      "Index(['Duration', 'Source Port', 'Destination Port', 'Protocol', 'Flags',\n",
      "       'Packets', 'Bytes', 'Mean Payload Size', 'Std Payload Size',\n",
      "       'Min Payload Size', 'Max Payload Size', 'Mean Entropy', 'Min Entropy',\n",
      "       'Max Entropy', 'Mean Inter-Packet Interval',\n",
      "       'Min Inter-Packet Interval', 'Max Inter-Packet Interval',\n",
      "       'Bytes per Packet', 'Packets per Second', 'Bytes per Second',\n",
      "       'Is Encrypted Traffic', 'Common Port Usage', 'flags_count', 'syn_count',\n",
      "       'ack_count', 'fin_count', 'is_http', 'is_internal_ip', 'direction',\n",
      "       'short_duration', 'single_packet'],\n",
      "      dtype='object')\n"
     ]
    },
    {
     "data": {
      "text/html": [
       "<div>\n",
       "<style scoped>\n",
       "    .dataframe tbody tr th:only-of-type {\n",
       "        vertical-align: middle;\n",
       "    }\n",
       "\n",
       "    .dataframe tbody tr th {\n",
       "        vertical-align: top;\n",
       "    }\n",
       "\n",
       "    .dataframe thead th {\n",
       "        text-align: right;\n",
       "    }\n",
       "</style>\n",
       "<table border=\"1\" class=\"dataframe\">\n",
       "  <thead>\n",
       "    <tr style=\"text-align: right;\">\n",
       "      <th></th>\n",
       "      <th>index</th>\n",
       "      <th>Duration</th>\n",
       "      <th>Source Port</th>\n",
       "      <th>Destination Port</th>\n",
       "      <th>Protocol</th>\n",
       "      <th>Flags</th>\n",
       "      <th>Packets</th>\n",
       "      <th>Bytes</th>\n",
       "      <th>Mean Payload Size</th>\n",
       "      <th>Std Payload Size</th>\n",
       "      <th>...</th>\n",
       "      <th>flags_count</th>\n",
       "      <th>syn_count</th>\n",
       "      <th>ack_count</th>\n",
       "      <th>fin_count</th>\n",
       "      <th>is_http</th>\n",
       "      <th>is_internal_ip</th>\n",
       "      <th>direction</th>\n",
       "      <th>short_duration</th>\n",
       "      <th>single_packet</th>\n",
       "      <th>Label</th>\n",
       "    </tr>\n",
       "  </thead>\n",
       "  <tbody>\n",
       "    <tr>\n",
       "      <th>0</th>\n",
       "      <td>0</td>\n",
       "      <td>-0.235028</td>\n",
       "      <td>0.194350</td>\n",
       "      <td>-0.945769</td>\n",
       "      <td>0.518607</td>\n",
       "      <td>-1.994489</td>\n",
       "      <td>0.292076</td>\n",
       "      <td>-0.029907</td>\n",
       "      <td>-0.524180</td>\n",
       "      <td>0.347024</td>\n",
       "      <td>...</td>\n",
       "      <td>1.326952</td>\n",
       "      <td>0.559436</td>\n",
       "      <td>1.032079</td>\n",
       "      <td>2.265765</td>\n",
       "      <td>-0.466123</td>\n",
       "      <td>0.566901</td>\n",
       "      <td>0.0</td>\n",
       "      <td>1.701821</td>\n",
       "      <td>-0.580762</td>\n",
       "      <td>0.0</td>\n",
       "    </tr>\n",
       "    <tr>\n",
       "      <th>1</th>\n",
       "      <td>1</td>\n",
       "      <td>-0.235028</td>\n",
       "      <td>-2.083208</td>\n",
       "      <td>1.412910</td>\n",
       "      <td>0.518607</td>\n",
       "      <td>-1.994489</td>\n",
       "      <td>0.292076</td>\n",
       "      <td>-0.031978</td>\n",
       "      <td>-0.534970</td>\n",
       "      <td>0.346977</td>\n",
       "      <td>...</td>\n",
       "      <td>1.326952</td>\n",
       "      <td>0.559436</td>\n",
       "      <td>1.032079</td>\n",
       "      <td>2.265765</td>\n",
       "      <td>-0.466123</td>\n",
       "      <td>-1.763976</td>\n",
       "      <td>0.0</td>\n",
       "      <td>1.701821</td>\n",
       "      <td>-0.580762</td>\n",
       "      <td>0.0</td>\n",
       "    </tr>\n",
       "    <tr>\n",
       "      <th>2</th>\n",
       "      <td>2</td>\n",
       "      <td>-0.235028</td>\n",
       "      <td>0.194350</td>\n",
       "      <td>-0.945769</td>\n",
       "      <td>-1.225838</td>\n",
       "      <td>-0.384668</td>\n",
       "      <td>-0.560901</td>\n",
       "      <td>-0.034308</td>\n",
       "      <td>-0.017037</td>\n",
       "      <td>0.347314</td>\n",
       "      <td>...</td>\n",
       "      <td>0.243789</td>\n",
       "      <td>-1.787514</td>\n",
       "      <td>1.032079</td>\n",
       "      <td>-0.441352</td>\n",
       "      <td>2.145358</td>\n",
       "      <td>0.566901</td>\n",
       "      <td>0.0</td>\n",
       "      <td>1.701821</td>\n",
       "      <td>1.721875</td>\n",
       "      <td>0.0</td>\n",
       "    </tr>\n",
       "    <tr>\n",
       "      <th>3</th>\n",
       "      <td>3</td>\n",
       "      <td>-0.235028</td>\n",
       "      <td>-2.083208</td>\n",
       "      <td>1.412910</td>\n",
       "      <td>-2.970283</td>\n",
       "      <td>-0.384668</td>\n",
       "      <td>-0.560901</td>\n",
       "      <td>-0.013081</td>\n",
       "      <td>0.425364</td>\n",
       "      <td>0.347339</td>\n",
       "      <td>...</td>\n",
       "      <td>0.243789</td>\n",
       "      <td>-1.787514</td>\n",
       "      <td>1.032079</td>\n",
       "      <td>-0.441352</td>\n",
       "      <td>-0.466123</td>\n",
       "      <td>-1.763976</td>\n",
       "      <td>0.0</td>\n",
       "      <td>1.701821</td>\n",
       "      <td>1.721875</td>\n",
       "      <td>0.0</td>\n",
       "    </tr>\n",
       "    <tr>\n",
       "      <th>4</th>\n",
       "      <td>4</td>\n",
       "      <td>-0.235005</td>\n",
       "      <td>0.194397</td>\n",
       "      <td>-0.561283</td>\n",
       "      <td>0.518607</td>\n",
       "      <td>0.420242</td>\n",
       "      <td>0.007750</td>\n",
       "      <td>-0.033532</td>\n",
       "      <td>-0.482817</td>\n",
       "      <td>0.346979</td>\n",
       "      <td>...</td>\n",
       "      <td>-0.839375</td>\n",
       "      <td>0.559436</td>\n",
       "      <td>-0.968918</td>\n",
       "      <td>-0.441352</td>\n",
       "      <td>-0.466123</td>\n",
       "      <td>0.566901</td>\n",
       "      <td>0.0</td>\n",
       "      <td>-0.587606</td>\n",
       "      <td>-0.580762</td>\n",
       "      <td>0.0</td>\n",
       "    </tr>\n",
       "    <tr>\n",
       "      <th>...</th>\n",
       "      <td>...</td>\n",
       "      <td>...</td>\n",
       "      <td>...</td>\n",
       "      <td>...</td>\n",
       "      <td>...</td>\n",
       "      <td>...</td>\n",
       "      <td>...</td>\n",
       "      <td>...</td>\n",
       "      <td>...</td>\n",
       "      <td>...</td>\n",
       "      <td>...</td>\n",
       "      <td>...</td>\n",
       "      <td>...</td>\n",
       "      <td>...</td>\n",
       "      <td>...</td>\n",
       "      <td>...</td>\n",
       "      <td>...</td>\n",
       "      <td>...</td>\n",
       "      <td>...</td>\n",
       "      <td>...</td>\n",
       "      <td>...</td>\n",
       "    </tr>\n",
       "    <tr>\n",
       "      <th>79620</th>\n",
       "      <td>79641</td>\n",
       "      <td>-0.235005</td>\n",
       "      <td>0.445278</td>\n",
       "      <td>-0.561283</td>\n",
       "      <td>0.518607</td>\n",
       "      <td>0.420242</td>\n",
       "      <td>0.007750</td>\n",
       "      <td>-0.033532</td>\n",
       "      <td>-0.482817</td>\n",
       "      <td>0.346979</td>\n",
       "      <td>...</td>\n",
       "      <td>-0.839375</td>\n",
       "      <td>0.559436</td>\n",
       "      <td>-0.968918</td>\n",
       "      <td>-0.441352</td>\n",
       "      <td>-0.466123</td>\n",
       "      <td>0.566901</td>\n",
       "      <td>0.0</td>\n",
       "      <td>-0.587606</td>\n",
       "      <td>-0.580762</td>\n",
       "      <td>1.0</td>\n",
       "    </tr>\n",
       "    <tr>\n",
       "      <th>79621</th>\n",
       "      <td>79642</td>\n",
       "      <td>-0.234987</td>\n",
       "      <td>0.445324</td>\n",
       "      <td>-0.561283</td>\n",
       "      <td>0.518607</td>\n",
       "      <td>0.822697</td>\n",
       "      <td>0.292076</td>\n",
       "      <td>-0.029907</td>\n",
       "      <td>-0.524180</td>\n",
       "      <td>0.347024</td>\n",
       "      <td>...</td>\n",
       "      <td>0.243789</td>\n",
       "      <td>0.559436</td>\n",
       "      <td>1.032079</td>\n",
       "      <td>-0.441352</td>\n",
       "      <td>-0.466123</td>\n",
       "      <td>0.566901</td>\n",
       "      <td>0.0</td>\n",
       "      <td>-0.587606</td>\n",
       "      <td>-0.580762</td>\n",
       "      <td>1.0</td>\n",
       "    </tr>\n",
       "    <tr>\n",
       "      <th>79622</th>\n",
       "      <td>79643</td>\n",
       "      <td>-0.234988</td>\n",
       "      <td>-1.711945</td>\n",
       "      <td>1.672823</td>\n",
       "      <td>0.518607</td>\n",
       "      <td>-1.994489</td>\n",
       "      <td>0.007750</td>\n",
       "      <td>-0.040780</td>\n",
       "      <td>-0.533172</td>\n",
       "      <td>0.346979</td>\n",
       "      <td>...</td>\n",
       "      <td>1.326952</td>\n",
       "      <td>0.559436</td>\n",
       "      <td>1.032079</td>\n",
       "      <td>2.265765</td>\n",
       "      <td>-0.466123</td>\n",
       "      <td>-1.763976</td>\n",
       "      <td>0.0</td>\n",
       "      <td>-0.587606</td>\n",
       "      <td>-0.580762</td>\n",
       "      <td>0.0</td>\n",
       "    </tr>\n",
       "    <tr>\n",
       "      <th>79623</th>\n",
       "      <td>79644</td>\n",
       "      <td>-0.235028</td>\n",
       "      <td>0.445324</td>\n",
       "      <td>-0.561283</td>\n",
       "      <td>-1.225838</td>\n",
       "      <td>-0.384668</td>\n",
       "      <td>-0.560901</td>\n",
       "      <td>0.049305</td>\n",
       "      <td>1.725593</td>\n",
       "      <td>-2.535088</td>\n",
       "      <td>...</td>\n",
       "      <td>0.243789</td>\n",
       "      <td>-1.787514</td>\n",
       "      <td>1.032079</td>\n",
       "      <td>-0.441352</td>\n",
       "      <td>2.145358</td>\n",
       "      <td>0.566901</td>\n",
       "      <td>0.0</td>\n",
       "      <td>1.701821</td>\n",
       "      <td>1.721875</td>\n",
       "      <td>1.0</td>\n",
       "    </tr>\n",
       "    <tr>\n",
       "      <th>79624</th>\n",
       "      <td>79645</td>\n",
       "      <td>-0.235028</td>\n",
       "      <td>-1.711945</td>\n",
       "      <td>1.672823</td>\n",
       "      <td>-1.225838</td>\n",
       "      <td>-0.384668</td>\n",
       "      <td>-0.560901</td>\n",
       "      <td>-0.023436</td>\n",
       "      <td>0.209559</td>\n",
       "      <td>-0.617467</td>\n",
       "      <td>...</td>\n",
       "      <td>0.243789</td>\n",
       "      <td>-1.787514</td>\n",
       "      <td>1.032079</td>\n",
       "      <td>-0.441352</td>\n",
       "      <td>2.145358</td>\n",
       "      <td>-1.763976</td>\n",
       "      <td>0.0</td>\n",
       "      <td>1.701821</td>\n",
       "      <td>1.721875</td>\n",
       "      <td>0.0</td>\n",
       "    </tr>\n",
       "  </tbody>\n",
       "</table>\n",
       "<p>79625 rows × 33 columns</p>\n",
       "</div>"
      ],
      "text/plain": [
       "       index  Duration  Source Port  Destination Port  Protocol     Flags  \\\n",
       "0          0 -0.235028     0.194350         -0.945769  0.518607 -1.994489   \n",
       "1          1 -0.235028    -2.083208          1.412910  0.518607 -1.994489   \n",
       "2          2 -0.235028     0.194350         -0.945769 -1.225838 -0.384668   \n",
       "3          3 -0.235028    -2.083208          1.412910 -2.970283 -0.384668   \n",
       "4          4 -0.235005     0.194397         -0.561283  0.518607  0.420242   \n",
       "...      ...       ...          ...               ...       ...       ...   \n",
       "79620  79641 -0.235005     0.445278         -0.561283  0.518607  0.420242   \n",
       "79621  79642 -0.234987     0.445324         -0.561283  0.518607  0.822697   \n",
       "79622  79643 -0.234988    -1.711945          1.672823  0.518607 -1.994489   \n",
       "79623  79644 -0.235028     0.445324         -0.561283 -1.225838 -0.384668   \n",
       "79624  79645 -0.235028    -1.711945          1.672823 -1.225838 -0.384668   \n",
       "\n",
       "        Packets     Bytes  Mean Payload Size  Std Payload Size  ...  \\\n",
       "0      0.292076 -0.029907          -0.524180          0.347024  ...   \n",
       "1      0.292076 -0.031978          -0.534970          0.346977  ...   \n",
       "2     -0.560901 -0.034308          -0.017037          0.347314  ...   \n",
       "3     -0.560901 -0.013081           0.425364          0.347339  ...   \n",
       "4      0.007750 -0.033532          -0.482817          0.346979  ...   \n",
       "...         ...       ...                ...               ...  ...   \n",
       "79620  0.007750 -0.033532          -0.482817          0.346979  ...   \n",
       "79621  0.292076 -0.029907          -0.524180          0.347024  ...   \n",
       "79622  0.007750 -0.040780          -0.533172          0.346979  ...   \n",
       "79623 -0.560901  0.049305           1.725593         -2.535088  ...   \n",
       "79624 -0.560901 -0.023436           0.209559         -0.617467  ...   \n",
       "\n",
       "       flags_count  syn_count  ack_count  fin_count   is_http  is_internal_ip  \\\n",
       "0         1.326952   0.559436   1.032079   2.265765 -0.466123        0.566901   \n",
       "1         1.326952   0.559436   1.032079   2.265765 -0.466123       -1.763976   \n",
       "2         0.243789  -1.787514   1.032079  -0.441352  2.145358        0.566901   \n",
       "3         0.243789  -1.787514   1.032079  -0.441352 -0.466123       -1.763976   \n",
       "4        -0.839375   0.559436  -0.968918  -0.441352 -0.466123        0.566901   \n",
       "...            ...        ...        ...        ...       ...             ...   \n",
       "79620    -0.839375   0.559436  -0.968918  -0.441352 -0.466123        0.566901   \n",
       "79621     0.243789   0.559436   1.032079  -0.441352 -0.466123        0.566901   \n",
       "79622     1.326952   0.559436   1.032079   2.265765 -0.466123       -1.763976   \n",
       "79623     0.243789  -1.787514   1.032079  -0.441352  2.145358        0.566901   \n",
       "79624     0.243789  -1.787514   1.032079  -0.441352  2.145358       -1.763976   \n",
       "\n",
       "       direction  short_duration  single_packet  Label  \n",
       "0            0.0        1.701821      -0.580762    0.0  \n",
       "1            0.0        1.701821      -0.580762    0.0  \n",
       "2            0.0        1.701821       1.721875    0.0  \n",
       "3            0.0        1.701821       1.721875    0.0  \n",
       "4            0.0       -0.587606      -0.580762    0.0  \n",
       "...          ...             ...            ...    ...  \n",
       "79620        0.0       -0.587606      -0.580762    1.0  \n",
       "79621        0.0       -0.587606      -0.580762    1.0  \n",
       "79622        0.0       -0.587606      -0.580762    0.0  \n",
       "79623        0.0        1.701821       1.721875    1.0  \n",
       "79624        0.0        1.701821       1.721875    0.0  \n",
       "\n",
       "[79625 rows x 33 columns]"
      ]
     },
     "execution_count": 27,
     "metadata": {},
     "output_type": "execute_result"
    }
   ],
   "source": [
    "label_column = df[\"Label\"]\n",
    "dropped_df = df.drop(\"Label\", axis=1)\n",
    "\n",
    "# Initialize and apply MinMaxScaler to the dropped_df\n",
    "scaler = StandardScaler()\n",
    "scaled_dropped_df = scaler.fit_transform(dropped_df.to_numpy())\n",
    "print(dropped_df.columns)\n",
    "# Create a DataFrame from the scaled dropped_df\n",
    "df = pd.DataFrame(scaled_dropped_df, columns=dropped_df.columns)\n",
    "\n",
    "# Reattach the 'Status' column\n",
    "df[\"Label\"] = label_column\n",
    "\n",
    "df.dropna(inplace=True)\n",
    "df.reset_index()"
   ]
  },
  {
   "cell_type": "markdown",
   "metadata": {},
   "source": [
    "#### Type Casting"
   ]
  },
  {
   "cell_type": "code",
   "execution_count": 28,
   "metadata": {},
   "outputs": [],
   "source": [
    "df[\"Bytes\"] = df[\"Bytes\"].astype(\"float64\")\n",
    "df[\"Duration\"] = df[\"Duration\"].astype(\"float64\")\n",
    "df[\"Packets\"] = df[\"Packets\"].astype(\"float64\")\n",
    "df[\"flags_count\"] = df[\"flags_count\"].astype(\"float64\")"
   ]
  },
  {
   "cell_type": "markdown",
   "metadata": {},
   "source": [
    "### Data Splitting"
   ]
  },
  {
   "cell_type": "markdown",
   "metadata": {},
   "source": [
    "## Models"
   ]
  },
  {
   "cell_type": "markdown",
   "metadata": {},
   "source": [
    "### Splitting"
   ]
  },
  {
   "cell_type": "code",
   "execution_count": 29,
   "metadata": {},
   "outputs": [],
   "source": [
    "# Reset the index to convert it to a normal column (if needed)\n",
    "df_reset = df.reset_index(drop=True)  # This will drop the old index column\n",
    "X = df_reset.drop(\"Label\", axis=1)  # Now drop the Label\n",
    "if \"index\" in X.columns:\n",
    "    X.drop(\"index\", axis=1, inplace=True)\n",
    "y = df[\"Label\"]\n",
    "\n",
    "\n",
    "# Assuming `X` is the feature matrix and `y` is the target variable\n",
    "X_train, X_temp, y_train, y_temp = train_test_split(\n",
    "    X, y, test_size=0.3, stratify=y, random_state=42\n",
    ")\n",
    "X_val, X_test, y_val, y_test = train_test_split(\n",
    "    X_temp, y_temp, test_size=0.5, stratify=y_temp, random_state=42\n",
    ")"
   ]
  },
  {
   "cell_type": "markdown",
   "metadata": {},
   "source": [
    "### KNN"
   ]
  },
  {
   "cell_type": "code",
   "execution_count": 30,
   "metadata": {},
   "outputs": [
    {
     "name": "stdout",
     "output_type": "stream",
     "text": [
      "Fitting 5 folds for each of 6 candidates, totalling 30 fits\n"
     ]
    },
    {
     "name": "stdout",
     "output_type": "stream",
     "text": [
      "[CV] END ....................metric=euclidean, n_neighbors=5; total time=   6.1s\n",
      "[CV] END ....................metric=euclidean, n_neighbors=7; total time=   6.2s\n",
      "[CV] END ....................metric=euclidean, n_neighbors=7; total time=   6.3s\n",
      "[CV] END ....................metric=euclidean, n_neighbors=7; total time=   6.5s\n",
      "[CV] END ....................metric=euclidean, n_neighbors=7; total time=   6.6s\n",
      "[CV] END ....................metric=euclidean, n_neighbors=3; total time=   6.7s\n",
      "[CV] END ....................metric=euclidean, n_neighbors=5; total time=   6.8s\n",
      "[CV] END ....................metric=euclidean, n_neighbors=3; total time=   7.3s\n",
      "[CV] END ....................metric=euclidean, n_neighbors=3; total time=   7.3s\n",
      "[CV] END ....................metric=euclidean, n_neighbors=3; total time=   7.3s\n",
      "[CV] END ....................metric=euclidean, n_neighbors=5; total time=   7.4s\n",
      "[CV] END ....................metric=euclidean, n_neighbors=7; total time=   7.4s\n",
      "[CV] END ....................metric=euclidean, n_neighbors=5; total time=   7.4s\n",
      "[CV] END ....................metric=euclidean, n_neighbors=3; total time=   7.5s\n",
      "[CV] END ....................metric=euclidean, n_neighbors=5; total time=   7.5s\n",
      "[CV] END ....................metric=manhattan, n_neighbors=3; total time=  21.3s\n",
      "[CV] END ....................metric=manhattan, n_neighbors=3; total time=  20.5s\n",
      "[CV] END ....................metric=manhattan, n_neighbors=3; total time=  20.7s\n",
      "[CV] END ....................metric=manhattan, n_neighbors=3; total time=  20.6s\n",
      "[CV] END ....................metric=manhattan, n_neighbors=3; total time=  20.4s\n",
      "[CV] END ....................metric=manhattan, n_neighbors=5; total time=  20.4s\n",
      "[CV] END ....................metric=manhattan, n_neighbors=5; total time=  20.3s\n",
      "[CV] END ....................metric=manhattan, n_neighbors=5; total time=  20.5s\n",
      "[CV] END ....................metric=manhattan, n_neighbors=5; total time=  20.3s\n",
      "[CV] END ....................metric=manhattan, n_neighbors=5; total time=  20.4s\n",
      "[CV] END ....................metric=manhattan, n_neighbors=7; total time=  20.2s\n",
      "[CV] END ....................metric=manhattan, n_neighbors=7; total time=  20.3s\n",
      "[CV] END ....................metric=manhattan, n_neighbors=7; total time=  20.3s\n",
      "[CV] END ....................metric=manhattan, n_neighbors=7; total time=  20.2s\n",
      "[CV] END ....................metric=manhattan, n_neighbors=7; total time=  20.4s\n",
      "Best Parameters for KNN: {'metric': 'manhattan', 'n_neighbors': 7}\n"
     ]
    },
    {
     "name": "stderr",
     "output_type": "stream",
     "text": [
      "/home/yousinator/.cache/pypoetry/virtualenvs/c2-detection-TvTzD0kY-py3.10/lib/python3.10/site-packages/numpy/ma/core.py:2820: RuntimeWarning: invalid value encountered in cast\n",
      "  _data = np.array(data, dtype=dtype, copy=copy,\n"
     ]
    }
   ],
   "source": [
    "from sklearn.neighbors import KNeighborsClassifier\n",
    "\n",
    "# Define the model\n",
    "knn_model = KNeighborsClassifier()\n",
    "\n",
    "# Define hyperparameter grid\n",
    "param_grid = {\n",
    "    \"n_neighbors\": [3, 5, 7,],  # Number of neighbors to use\n",
    "    \"metric\": [\"euclidean\", \"manhattan\"],  # Distance metric\n",
    "}\n",
    "\n",
    "# Perform Grid Search\n",
    "grid_knn = GridSearchCV(\n",
    "    estimator=knn_model,\n",
    "    param_grid=param_grid,\n",
    "    scoring=\"f1\",\n",
    "    cv=5,\n",
    "    n_jobs=-1,\n",
    "    verbose=2,\n",
    ")\n",
    "grid_knn.fit(X_train, y_train)\n",
    "\n",
    "# Best parameters\n",
    "print(\"Best Parameters for KNN:\", grid_knn.best_params_)"
   ]
  },
  {
   "cell_type": "markdown",
   "metadata": {},
   "source": [
    "## XGB"
   ]
  },
  {
   "cell_type": "code",
   "execution_count": 31,
   "metadata": {},
   "outputs": [
    {
     "name": "stdout",
     "output_type": "stream",
     "text": [
      "Fitting 5 folds for each of 9 candidates, totalling 45 fits\n"
     ]
    },
    {
     "name": "stderr",
     "output_type": "stream",
     "text": [
      "/home/yousinator/.cache/pypoetry/virtualenvs/c2-detection-TvTzD0kY-py3.10/lib/python3.10/site-packages/xgboost/core.py:158: UserWarning: [20:41:38] WARNING: /workspace/src/learner.cc:740: \n",
      "Parameters: { \"use_label_encoder\" } are not used.\n",
      "\n",
      "  warnings.warn(smsg, UserWarning)\n",
      "/home/yousinator/.cache/pypoetry/virtualenvs/c2-detection-TvTzD0kY-py3.10/lib/python3.10/site-packages/xgboost/core.py:158: UserWarning: [20:41:38] WARNING: /workspace/src/learner.cc:740: \n",
      "Parameters: { \"use_label_encoder\" } are not used.\n",
      "\n",
      "  warnings.warn(smsg, UserWarning)\n",
      "/home/yousinator/.cache/pypoetry/virtualenvs/c2-detection-TvTzD0kY-py3.10/lib/python3.10/site-packages/xgboost/core.py:158: UserWarning: [20:41:38] WARNING: /workspace/src/learner.cc:740: \n",
      "Parameters: { \"use_label_encoder\" } are not used.\n",
      "\n",
      "  warnings.warn(smsg, UserWarning)\n",
      "/home/yousinator/.cache/pypoetry/virtualenvs/c2-detection-TvTzD0kY-py3.10/lib/python3.10/site-packages/xgboost/core.py:158: UserWarning: [20:41:38] WARNING: /workspace/src/learner.cc:740: \n",
      "Parameters: { \"use_label_encoder\" } are not used.\n",
      "\n",
      "  warnings.warn(smsg, UserWarning)\n",
      "/home/yousinator/.cache/pypoetry/virtualenvs/c2-detection-TvTzD0kY-py3.10/lib/python3.10/site-packages/xgboost/core.py:158: UserWarning: [20:41:38] WARNING: /workspace/src/learner.cc:740: \n",
      "Parameters: { \"use_label_encoder\" } are not used.\n",
      "\n",
      "  warnings.warn(smsg, UserWarning)\n",
      "/home/yousinator/.cache/pypoetry/virtualenvs/c2-detection-TvTzD0kY-py3.10/lib/python3.10/site-packages/xgboost/core.py:158: UserWarning: [20:41:38] WARNING: /workspace/src/learner.cc:740: \n",
      "Parameters: { \"use_label_encoder\" } are not used.\n",
      "\n",
      "  warnings.warn(smsg, UserWarning)\n",
      "/home/yousinator/.cache/pypoetry/virtualenvs/c2-detection-TvTzD0kY-py3.10/lib/python3.10/site-packages/xgboost/core.py:158: UserWarning: [20:41:38] WARNING: /workspace/src/learner.cc:740: \n",
      "Parameters: { \"use_label_encoder\" } are not used.\n",
      "\n",
      "  warnings.warn(smsg, UserWarning)\n",
      "/home/yousinator/.cache/pypoetry/virtualenvs/c2-detection-TvTzD0kY-py3.10/lib/python3.10/site-packages/xgboost/core.py:158: UserWarning: [20:41:38] WARNING: /workspace/src/learner.cc:740: \n",
      "Parameters: { \"use_label_encoder\" } are not used.\n",
      "\n",
      "  warnings.warn(smsg, UserWarning)\n",
      "/home/yousinator/.cache/pypoetry/virtualenvs/c2-detection-TvTzD0kY-py3.10/lib/python3.10/site-packages/xgboost/core.py:158: UserWarning: [20:41:38] WARNING: /workspace/src/learner.cc:740: \n",
      "Parameters: { \"use_label_encoder\" } are not used.\n",
      "\n",
      "  warnings.warn(smsg, UserWarning)\n",
      "/home/yousinator/.cache/pypoetry/virtualenvs/c2-detection-TvTzD0kY-py3.10/lib/python3.10/site-packages/xgboost/core.py:158: UserWarning: [20:41:38] WARNING: /workspace/src/learner.cc:740: \n",
      "Parameters: { \"use_label_encoder\" } are not used.\n",
      "\n",
      "  warnings.warn(smsg, UserWarning)\n",
      "/home/yousinator/.cache/pypoetry/virtualenvs/c2-detection-TvTzD0kY-py3.10/lib/python3.10/site-packages/xgboost/core.py:158: UserWarning: [20:41:38] WARNING: /workspace/src/learner.cc:740: \n",
      "Parameters: { \"use_label_encoder\" } are not used.\n",
      "\n",
      "  warnings.warn(smsg, UserWarning)\n",
      "/home/yousinator/.cache/pypoetry/virtualenvs/c2-detection-TvTzD0kY-py3.10/lib/python3.10/site-packages/xgboost/core.py:158: UserWarning: [20:41:38] WARNING: /workspace/src/learner.cc:740: \n",
      "Parameters: { \"use_label_encoder\" } are not used.\n",
      "\n",
      "  warnings.warn(smsg, UserWarning)\n",
      "/home/yousinator/.cache/pypoetry/virtualenvs/c2-detection-TvTzD0kY-py3.10/lib/python3.10/site-packages/xgboost/core.py:158: UserWarning: [20:41:38] WARNING: /workspace/src/learner.cc:740: \n",
      "Parameters: { \"use_label_encoder\" } are not used.\n",
      "\n",
      "  warnings.warn(smsg, UserWarning)\n",
      "/home/yousinator/.cache/pypoetry/virtualenvs/c2-detection-TvTzD0kY-py3.10/lib/python3.10/site-packages/xgboost/core.py:158: UserWarning: [20:41:38] WARNING: /workspace/src/learner.cc:740: \n",
      "Parameters: { \"use_label_encoder\" } are not used.\n",
      "\n",
      "  warnings.warn(smsg, UserWarning)\n",
      "/home/yousinator/.cache/pypoetry/virtualenvs/c2-detection-TvTzD0kY-py3.10/lib/python3.10/site-packages/xgboost/core.py:158: UserWarning: [20:41:38] WARNING: /workspace/src/learner.cc:740: \n",
      "Parameters: { \"use_label_encoder\" } are not used.\n",
      "\n",
      "  warnings.warn(smsg, UserWarning)\n",
      "/home/yousinator/.cache/pypoetry/virtualenvs/c2-detection-TvTzD0kY-py3.10/lib/python3.10/site-packages/xgboost/core.py:158: UserWarning: [20:41:38] WARNING: /workspace/src/learner.cc:740: \n",
      "Parameters: { \"use_label_encoder\" } are not used.\n",
      "\n",
      "  warnings.warn(smsg, UserWarning)\n"
     ]
    },
    {
     "name": "stdout",
     "output_type": "stream",
     "text": [
      "[CV] END .................learning_rate=0.1, n_estimators=50; total time=   1.0s\n",
      "[CV] END ................learning_rate=0.01, n_estimators=50; total time=   1.1s\n",
      "[CV] END ................learning_rate=0.01, n_estimators=50; total time=   1.1s\n",
      "[CV] END ................learning_rate=0.01, n_estimators=50; total time=   1.2s\n",
      "[CV] END ................learning_rate=0.01, n_estimators=50; total time=   1.2s\n",
      "[CV] END ................learning_rate=0.01, n_estimators=50; total time=   1.2s\n"
     ]
    },
    {
     "name": "stderr",
     "output_type": "stream",
     "text": [
      "/home/yousinator/.cache/pypoetry/virtualenvs/c2-detection-TvTzD0kY-py3.10/lib/python3.10/site-packages/xgboost/core.py:158: UserWarning: [20:41:39] WARNING: /workspace/src/learner.cc:740: \n",
      "Parameters: { \"use_label_encoder\" } are not used.\n",
      "\n",
      "  warnings.warn(smsg, UserWarning)\n",
      "/home/yousinator/.cache/pypoetry/virtualenvs/c2-detection-TvTzD0kY-py3.10/lib/python3.10/site-packages/xgboost/core.py:158: UserWarning: [20:41:39] WARNING: /workspace/src/learner.cc:740: \n",
      "Parameters: { \"use_label_encoder\" } are not used.\n",
      "\n",
      "  warnings.warn(smsg, UserWarning)\n",
      "/home/yousinator/.cache/pypoetry/virtualenvs/c2-detection-TvTzD0kY-py3.10/lib/python3.10/site-packages/xgboost/core.py:158: UserWarning: [20:41:40] WARNING: /workspace/src/learner.cc:740: \n",
      "Parameters: { \"use_label_encoder\" } are not used.\n",
      "\n",
      "  warnings.warn(smsg, UserWarning)\n",
      "/home/yousinator/.cache/pypoetry/virtualenvs/c2-detection-TvTzD0kY-py3.10/lib/python3.10/site-packages/xgboost/core.py:158: UserWarning: [20:41:40] WARNING: /workspace/src/learner.cc:740: \n",
      "Parameters: { \"use_label_encoder\" } are not used.\n",
      "\n",
      "  warnings.warn(smsg, UserWarning)\n",
      "/home/yousinator/.cache/pypoetry/virtualenvs/c2-detection-TvTzD0kY-py3.10/lib/python3.10/site-packages/xgboost/core.py:158: UserWarning: [20:41:40] WARNING: /workspace/src/learner.cc:740: \n",
      "Parameters: { \"use_label_encoder\" } are not used.\n",
      "\n",
      "  warnings.warn(smsg, UserWarning)\n"
     ]
    },
    {
     "name": "stdout",
     "output_type": "stream",
     "text": [
      "[CV] END ...............learning_rate=0.01, n_estimators=100; total time=   1.7s\n",
      "[CV] END ...............learning_rate=0.01, n_estimators=100; total time=   1.8s\n"
     ]
    },
    {
     "name": "stderr",
     "output_type": "stream",
     "text": [
      "/home/yousinator/.cache/pypoetry/virtualenvs/c2-detection-TvTzD0kY-py3.10/lib/python3.10/site-packages/xgboost/core.py:158: UserWarning: [20:41:40] WARNING: /workspace/src/learner.cc:740: \n",
      "Parameters: { \"use_label_encoder\" } are not used.\n",
      "\n",
      "  warnings.warn(smsg, UserWarning)\n"
     ]
    },
    {
     "name": "stdout",
     "output_type": "stream",
     "text": [
      "[CV] END ...............learning_rate=0.01, n_estimators=100; total time=   2.0s\n",
      "[CV] END ...............learning_rate=0.01, n_estimators=100; total time=   2.0s\n",
      "[CV] END ...............learning_rate=0.01, n_estimators=100; total time=   2.0s\n",
      "[CV] END .................learning_rate=0.1, n_estimators=50; total time=   1.0s\n",
      "[CV] END .................learning_rate=0.1, n_estimators=50; total time=   1.0s\n"
     ]
    },
    {
     "name": "stderr",
     "output_type": "stream",
     "text": [
      "/home/yousinator/.cache/pypoetry/virtualenvs/c2-detection-TvTzD0kY-py3.10/lib/python3.10/site-packages/xgboost/core.py:158: UserWarning: [20:41:40] WARNING: /workspace/src/learner.cc:740: \n",
      "Parameters: { \"use_label_encoder\" } are not used.\n",
      "\n",
      "  warnings.warn(smsg, UserWarning)\n",
      "/home/yousinator/.cache/pypoetry/virtualenvs/c2-detection-TvTzD0kY-py3.10/lib/python3.10/site-packages/xgboost/core.py:158: UserWarning: [20:41:40] WARNING: /workspace/src/learner.cc:740: \n",
      "Parameters: { \"use_label_encoder\" } are not used.\n",
      "\n",
      "  warnings.warn(smsg, UserWarning)\n"
     ]
    },
    {
     "name": "stdout",
     "output_type": "stream",
     "text": [
      "[CV] END .................learning_rate=0.1, n_estimators=50; total time=   1.1s\n"
     ]
    },
    {
     "name": "stderr",
     "output_type": "stream",
     "text": [
      "/home/yousinator/.cache/pypoetry/virtualenvs/c2-detection-TvTzD0kY-py3.10/lib/python3.10/site-packages/xgboost/core.py:158: UserWarning: [20:41:41] WARNING: /workspace/src/learner.cc:740: \n",
      "Parameters: { \"use_label_encoder\" } are not used.\n",
      "\n",
      "  warnings.warn(smsg, UserWarning)\n",
      "/home/yousinator/.cache/pypoetry/virtualenvs/c2-detection-TvTzD0kY-py3.10/lib/python3.10/site-packages/xgboost/core.py:158: UserWarning: [20:41:41] WARNING: /workspace/src/learner.cc:740: \n",
      "Parameters: { \"use_label_encoder\" } are not used.\n",
      "\n",
      "  warnings.warn(smsg, UserWarning)\n",
      "/home/yousinator/.cache/pypoetry/virtualenvs/c2-detection-TvTzD0kY-py3.10/lib/python3.10/site-packages/xgboost/core.py:158: UserWarning: [20:41:41] WARNING: /workspace/src/learner.cc:740: \n",
      "Parameters: { \"use_label_encoder\" } are not used.\n",
      "\n",
      "  warnings.warn(smsg, UserWarning)\n",
      "/home/yousinator/.cache/pypoetry/virtualenvs/c2-detection-TvTzD0kY-py3.10/lib/python3.10/site-packages/xgboost/core.py:158: UserWarning: [20:41:41] WARNING: /workspace/src/learner.cc:740: \n",
      "Parameters: { \"use_label_encoder\" } are not used.\n",
      "\n",
      "  warnings.warn(smsg, UserWarning)\n",
      "/home/yousinator/.cache/pypoetry/virtualenvs/c2-detection-TvTzD0kY-py3.10/lib/python3.10/site-packages/xgboost/core.py:158: UserWarning: [20:41:41] WARNING: /workspace/src/learner.cc:740: \n",
      "Parameters: { \"use_label_encoder\" } are not used.\n",
      "\n",
      "  warnings.warn(smsg, UserWarning)\n",
      "/home/yousinator/.cache/pypoetry/virtualenvs/c2-detection-TvTzD0kY-py3.10/lib/python3.10/site-packages/xgboost/core.py:158: UserWarning: [20:41:41] WARNING: /workspace/src/learner.cc:740: \n",
      "Parameters: { \"use_label_encoder\" } are not used.\n",
      "\n",
      "  warnings.warn(smsg, UserWarning)\n"
     ]
    },
    {
     "name": "stdout",
     "output_type": "stream",
     "text": [
      "[CV] END .................learning_rate=0.1, n_estimators=50; total time=   1.8s\n",
      "[CV] END ................learning_rate=0.1, n_estimators=100; total time=   1.7s\n",
      "[CV] END ................learning_rate=0.1, n_estimators=100; total time=   1.8s\n",
      "[CV] END ................learning_rate=0.1, n_estimators=100; total time=   1.7s\n"
     ]
    },
    {
     "name": "stderr",
     "output_type": "stream",
     "text": [
      "/home/yousinator/.cache/pypoetry/virtualenvs/c2-detection-TvTzD0kY-py3.10/lib/python3.10/site-packages/xgboost/core.py:158: UserWarning: [20:41:42] WARNING: /workspace/src/learner.cc:740: \n",
      "Parameters: { \"use_label_encoder\" } are not used.\n",
      "\n",
      "  warnings.warn(smsg, UserWarning)\n",
      "/home/yousinator/.cache/pypoetry/virtualenvs/c2-detection-TvTzD0kY-py3.10/lib/python3.10/site-packages/xgboost/core.py:158: UserWarning: [20:41:42] WARNING: /workspace/src/learner.cc:740: \n",
      "Parameters: { \"use_label_encoder\" } are not used.\n",
      "\n",
      "  warnings.warn(smsg, UserWarning)\n",
      "/home/yousinator/.cache/pypoetry/virtualenvs/c2-detection-TvTzD0kY-py3.10/lib/python3.10/site-packages/xgboost/core.py:158: UserWarning: [20:41:42] WARNING: /workspace/src/learner.cc:740: \n",
      "Parameters: { \"use_label_encoder\" } are not used.\n",
      "\n",
      "  warnings.warn(smsg, UserWarning)\n"
     ]
    },
    {
     "name": "stdout",
     "output_type": "stream",
     "text": [
      "[CV] END ...............learning_rate=0.01, n_estimators=200; total time=   3.6s\n",
      "[CV] END ...............learning_rate=0.01, n_estimators=200; total time=   3.7s\n",
      "[CV] END ...............learning_rate=0.01, n_estimators=200; total time=   3.7s\n",
      "[CV] END ................learning_rate=0.1, n_estimators=100; total time=   2.0s\n"
     ]
    },
    {
     "name": "stderr",
     "output_type": "stream",
     "text": [
      "/home/yousinator/.cache/pypoetry/virtualenvs/c2-detection-TvTzD0kY-py3.10/lib/python3.10/site-packages/xgboost/core.py:158: UserWarning: [20:41:42] WARNING: /workspace/src/learner.cc:740: \n",
      "Parameters: { \"use_label_encoder\" } are not used.\n",
      "\n",
      "  warnings.warn(smsg, UserWarning)\n"
     ]
    },
    {
     "name": "stdout",
     "output_type": "stream",
     "text": [
      "[CV] END ...............learning_rate=0.01, n_estimators=200; total time=   3.8s\n"
     ]
    },
    {
     "name": "stderr",
     "output_type": "stream",
     "text": [
      "/home/yousinator/.cache/pypoetry/virtualenvs/c2-detection-TvTzD0kY-py3.10/lib/python3.10/site-packages/xgboost/core.py:158: UserWarning: [20:41:42] WARNING: /workspace/src/learner.cc:740: \n",
      "Parameters: { \"use_label_encoder\" } are not used.\n",
      "\n",
      "  warnings.warn(smsg, UserWarning)\n",
      "/home/yousinator/.cache/pypoetry/virtualenvs/c2-detection-TvTzD0kY-py3.10/lib/python3.10/site-packages/xgboost/core.py:158: UserWarning: [20:41:42] WARNING: /workspace/src/learner.cc:740: \n",
      "Parameters: { \"use_label_encoder\" } are not used.\n",
      "\n",
      "  warnings.warn(smsg, UserWarning)\n",
      "/home/yousinator/.cache/pypoetry/virtualenvs/c2-detection-TvTzD0kY-py3.10/lib/python3.10/site-packages/xgboost/core.py:158: UserWarning: [20:41:42] WARNING: /workspace/src/learner.cc:740: \n",
      "Parameters: { \"use_label_encoder\" } are not used.\n",
      "\n",
      "  warnings.warn(smsg, UserWarning)\n"
     ]
    },
    {
     "name": "stdout",
     "output_type": "stream",
     "text": [
      "[CV] END .................learning_rate=0.2, n_estimators=50; total time=   1.2s\n",
      "[CV] END ................learning_rate=0.1, n_estimators=100; total time=   2.2s\n",
      "[CV] END ...............learning_rate=0.01, n_estimators=200; total time=   4.2s\n",
      "[CV] END .................learning_rate=0.2, n_estimators=50; total time=   1.3s\n",
      "[CV] END .................learning_rate=0.2, n_estimators=50; total time=   1.0s\n"
     ]
    },
    {
     "name": "stderr",
     "output_type": "stream",
     "text": [
      "/home/yousinator/.cache/pypoetry/virtualenvs/c2-detection-TvTzD0kY-py3.10/lib/python3.10/site-packages/xgboost/core.py:158: UserWarning: [20:41:42] WARNING: /workspace/src/learner.cc:740: \n",
      "Parameters: { \"use_label_encoder\" } are not used.\n",
      "\n",
      "  warnings.warn(smsg, UserWarning)\n",
      "/home/yousinator/.cache/pypoetry/virtualenvs/c2-detection-TvTzD0kY-py3.10/lib/python3.10/site-packages/xgboost/core.py:158: UserWarning: [20:41:42] WARNING: /workspace/src/learner.cc:740: \n",
      "Parameters: { \"use_label_encoder\" } are not used.\n",
      "\n",
      "  warnings.warn(smsg, UserWarning)\n"
     ]
    },
    {
     "name": "stdout",
     "output_type": "stream",
     "text": [
      "[CV] END .................learning_rate=0.2, n_estimators=50; total time=   1.4s\n"
     ]
    },
    {
     "name": "stderr",
     "output_type": "stream",
     "text": [
      "/home/yousinator/.cache/pypoetry/virtualenvs/c2-detection-TvTzD0kY-py3.10/lib/python3.10/site-packages/xgboost/core.py:158: UserWarning: [20:41:43] WARNING: /workspace/src/learner.cc:740: \n",
      "Parameters: { \"use_label_encoder\" } are not used.\n",
      "\n",
      "  warnings.warn(smsg, UserWarning)\n",
      "/home/yousinator/.cache/pypoetry/virtualenvs/c2-detection-TvTzD0kY-py3.10/lib/python3.10/site-packages/xgboost/core.py:158: UserWarning: [20:41:43] WARNING: /workspace/src/learner.cc:740: \n",
      "Parameters: { \"use_label_encoder\" } are not used.\n",
      "\n",
      "  warnings.warn(smsg, UserWarning)\n",
      "/home/yousinator/.cache/pypoetry/virtualenvs/c2-detection-TvTzD0kY-py3.10/lib/python3.10/site-packages/xgboost/core.py:158: UserWarning: [20:41:43] WARNING: /workspace/src/learner.cc:740: \n",
      "Parameters: { \"use_label_encoder\" } are not used.\n",
      "\n",
      "  warnings.warn(smsg, UserWarning)\n",
      "/home/yousinator/.cache/pypoetry/virtualenvs/c2-detection-TvTzD0kY-py3.10/lib/python3.10/site-packages/xgboost/core.py:158: UserWarning: [20:41:43] WARNING: /workspace/src/learner.cc:740: \n",
      "Parameters: { \"use_label_encoder\" } are not used.\n",
      "\n",
      "  warnings.warn(smsg, UserWarning)\n",
      "/home/yousinator/.cache/pypoetry/virtualenvs/c2-detection-TvTzD0kY-py3.10/lib/python3.10/site-packages/xgboost/core.py:158: UserWarning: [20:41:43] WARNING: /workspace/src/learner.cc:740: \n",
      "Parameters: { \"use_label_encoder\" } are not used.\n",
      "\n",
      "  warnings.warn(smsg, UserWarning)\n",
      "/home/yousinator/.cache/pypoetry/virtualenvs/c2-detection-TvTzD0kY-py3.10/lib/python3.10/site-packages/xgboost/core.py:158: UserWarning: [20:41:43] WARNING: /workspace/src/learner.cc:740: \n",
      "Parameters: { \"use_label_encoder\" } are not used.\n",
      "\n",
      "  warnings.warn(smsg, UserWarning)\n"
     ]
    },
    {
     "name": "stdout",
     "output_type": "stream",
     "text": [
      "[CV] END ................learning_rate=0.1, n_estimators=200; total time=   2.7s\n",
      "[CV] END ................learning_rate=0.1, n_estimators=200; total time=   2.6s\n",
      "[CV] END .................learning_rate=0.2, n_estimators=50; total time=   1.2s\n",
      "[CV] END ................learning_rate=0.1, n_estimators=200; total time=   2.9s\n",
      "[CV] END ................learning_rate=0.1, n_estimators=200; total time=   2.9s\n",
      "[CV] END ................learning_rate=0.2, n_estimators=100; total time=   1.5s\n",
      "[CV] END ................learning_rate=0.2, n_estimators=100; total time=   1.5s\n",
      "[CV] END ................learning_rate=0.2, n_estimators=100; total time=   1.5s\n",
      "[CV] END ................learning_rate=0.1, n_estimators=200; total time=   3.1s\n",
      "[CV] END ................learning_rate=0.2, n_estimators=100; total time=   1.7s\n",
      "[CV] END ................learning_rate=0.2, n_estimators=100; total time=   1.4s\n",
      "[CV] END ................learning_rate=0.2, n_estimators=200; total time=   1.8s\n",
      "[CV] END ................learning_rate=0.2, n_estimators=200; total time=   1.7s\n",
      "[CV] END ................learning_rate=0.2, n_estimators=200; total time=   1.7s\n",
      "[CV] END ................learning_rate=0.2, n_estimators=200; total time=   1.8s\n",
      "[CV] END ................learning_rate=0.2, n_estimators=200; total time=   1.7s\n"
     ]
    },
    {
     "name": "stderr",
     "output_type": "stream",
     "text": [
      "/home/yousinator/.cache/pypoetry/virtualenvs/c2-detection-TvTzD0kY-py3.10/lib/python3.10/site-packages/xgboost/core.py:158: UserWarning: [20:41:44] WARNING: /workspace/src/learner.cc:740: \n",
      "Parameters: { \"use_label_encoder\" } are not used.\n",
      "\n",
      "  warnings.warn(smsg, UserWarning)\n"
     ]
    },
    {
     "name": "stdout",
     "output_type": "stream",
     "text": [
      "Best Parameters for XGBoost: {'learning_rate': 0.2, 'n_estimators': 100}\n"
     ]
    }
   ],
   "source": [
    "\n",
    "# Define the model\n",
    "xgb_model = XGBClassifier(\n",
    "    use_label_encoder=False, eval_metric=\"logloss\", random_state=42\n",
    ")\n",
    "\n",
    "# Define hyperparameter grid\n",
    "param_grid = {\n",
    "    \"n_estimators\": [50, 100, 200],\n",
    "    \"learning_rate\": [0.01, 0.1, 0.2],\n",
    "}\n",
    "\n",
    "# Perform Grid Search\n",
    "grid_xgb = GridSearchCV(\n",
    "    estimator=xgb_model,\n",
    "    param_grid=param_grid,\n",
    "    scoring=\"f1\",\n",
    "    cv=5,\n",
    "    n_jobs=-1,\n",
    "    verbose=2,\n",
    ")\n",
    "grid_xgb.fit(X_train, y_train)\n",
    "\n",
    "# Best parameters\n",
    "print(\"Best Parameters for XGBoost:\", grid_xgb.best_params_)"
   ]
  },
  {
   "cell_type": "markdown",
   "metadata": {},
   "source": [
    "### Random Forest"
   ]
  },
  {
   "cell_type": "code",
   "execution_count": 32,
   "metadata": {},
   "outputs": [
    {
     "name": "stdout",
     "output_type": "stream",
     "text": [
      "Fitting 5 folds for each of 9 candidates, totalling 45 fits\n",
      "[CV] END ......................max_depth=10, n_estimators=50; total time=   3.3s\n",
      "[CV] END ......................max_depth=10, n_estimators=50; total time=   3.4s\n",
      "[CV] END ......................max_depth=10, n_estimators=50; total time=   3.4s\n",
      "[CV] END ......................max_depth=10, n_estimators=50; total time=   3.6s\n",
      "[CV] END ......................max_depth=10, n_estimators=50; total time=   3.6s\n",
      "[CV] END ......................max_depth=20, n_estimators=50; total time=   4.0s\n",
      "[CV] END .....................max_depth=10, n_estimators=100; total time=   6.7s\n",
      "[CV] END .....................max_depth=10, n_estimators=100; total time=   6.9s\n",
      "[CV] END .....................max_depth=10, n_estimators=100; total time=   7.1s\n",
      "[CV] END .....................max_depth=10, n_estimators=100; total time=   7.2s\n",
      "[CV] END ......................max_depth=20, n_estimators=50; total time=   4.1s\n",
      "[CV] END ......................max_depth=20, n_estimators=50; total time=   4.3s\n",
      "[CV] END ......................max_depth=20, n_estimators=50; total time=   4.3s\n",
      "[CV] END .....................max_depth=10, n_estimators=100; total time=   8.3s\n",
      "[CV] END ......................max_depth=20, n_estimators=50; total time=   4.8s\n",
      "[CV] END .....................max_depth=20, n_estimators=100; total time=   7.9s\n",
      "[CV] END .....................max_depth=20, n_estimators=100; total time=   8.4s\n",
      "[CV] END ....................max_depth=None, n_estimators=50; total time=   4.1s\n",
      "[CV] END .....................max_depth=10, n_estimators=200; total time=  13.3s\n",
      "[CV] END .....................max_depth=10, n_estimators=200; total time=  13.5s\n",
      "[CV] END .....................max_depth=20, n_estimators=100; total time=   8.1s\n",
      "[CV] END .....................max_depth=20, n_estimators=100; total time=   8.4s\n",
      "[CV] END .....................max_depth=10, n_estimators=200; total time=  15.4s\n",
      "[CV] END .....................max_depth=10, n_estimators=200; total time=  15.5s\n",
      "[CV] END .....................max_depth=10, n_estimators=200; total time=  15.6s\n",
      "[CV] END ....................max_depth=None, n_estimators=50; total time=   4.1s\n",
      "[CV] END .....................max_depth=20, n_estimators=100; total time=   9.0s\n",
      "[CV] END ....................max_depth=None, n_estimators=50; total time=   4.3s\n",
      "[CV] END ....................max_depth=None, n_estimators=50; total time=   4.6s\n",
      "[CV] END ....................max_depth=None, n_estimators=50; total time=   4.4s\n",
      "[CV] END ...................max_depth=None, n_estimators=100; total time=   8.0s\n",
      "[CV] END ...................max_depth=None, n_estimators=100; total time=   7.8s\n",
      "[CV] END .....................max_depth=20, n_estimators=200; total time=  15.4s\n",
      "[CV] END .....................max_depth=20, n_estimators=200; total time=  15.5s\n",
      "[CV] END .....................max_depth=20, n_estimators=200; total time=  15.9s\n",
      "[CV] END ...................max_depth=None, n_estimators=100; total time=   7.9s\n",
      "[CV] END .....................max_depth=20, n_estimators=200; total time=  15.8s\n",
      "[CV] END ...................max_depth=None, n_estimators=100; total time=   8.3s\n",
      "[CV] END ...................max_depth=None, n_estimators=100; total time=   8.2s\n",
      "[CV] END .....................max_depth=20, n_estimators=200; total time=  16.6s\n",
      "[CV] END ...................max_depth=None, n_estimators=200; total time=  12.1s\n",
      "[CV] END ...................max_depth=None, n_estimators=200; total time=  11.9s\n",
      "[CV] END ...................max_depth=None, n_estimators=200; total time=  12.0s\n",
      "[CV] END ...................max_depth=None, n_estimators=200; total time=  12.0s\n",
      "[CV] END ...................max_depth=None, n_estimators=200; total time=  11.8s\n",
      "Best Parameters for Random Forest: {'max_depth': 20, 'n_estimators': 100}\n"
     ]
    }
   ],
   "source": [
    "\n",
    "\n",
    "rf_model = RandomForestClassifier(random_state=42)\n",
    "\n",
    "# Define hyperparameter grid\n",
    "param_grid = {\n",
    "    \"n_estimators\": [50, 100, 200],\n",
    "    \"max_depth\": [10, 20, None],\n",
    "}\n",
    "\n",
    "# Perform Grid Search\n",
    "grid_rf = GridSearchCV(\n",
    "    estimator=rf_model,\n",
    "    param_grid=param_grid,\n",
    "    scoring=\"f1\",\n",
    "    cv=5,\n",
    "    n_jobs=-1,\n",
    "    verbose=2,\n",
    ")\n",
    "grid_rf.fit(X_train, y_train)\n",
    "\n",
    "# Best parameters\n",
    "print(\"Best Parameters for Random Forest:\", grid_rf.best_params_)"
   ]
  },
  {
   "cell_type": "markdown",
   "metadata": {},
   "source": [
    "### Logistic Regression"
   ]
  },
  {
   "cell_type": "code",
   "execution_count": 33,
   "metadata": {},
   "outputs": [
    {
     "name": "stdout",
     "output_type": "stream",
     "text": [
      "Fitting 5 folds for each of 8 candidates, totalling 40 fits\n",
      "[CV] END .................................C=0.01, penalty=l2; total time=   3.8s\n",
      "[CV] END .................................C=0.01, penalty=l2; total time=   4.5s\n",
      "[CV] END .................................C=0.01, penalty=l2; total time=   4.7s\n",
      "[CV] END .................................C=0.01, penalty=l2; total time=   4.7s\n",
      "[CV] END .................................C=0.01, penalty=l2; total time=   4.8s\n",
      "[CV] END .................................C=0.01, penalty=l1; total time=   7.7s\n",
      "[CV] END ..................................C=0.1, penalty=l2; total time=   7.5s\n",
      "[CV] END .................................C=0.01, penalty=l1; total time=   8.0s\n",
      "[CV] END .................................C=0.01, penalty=l1; total time=   9.7s\n",
      "[CV] END .................................C=0.01, penalty=l1; total time=  10.2s\n",
      "[CV] END ..................................C=0.1, penalty=l2; total time=   6.6s\n",
      "[CV] END .................................C=0.01, penalty=l1; total time=  11.9s\n",
      "[CV] END ..................................C=0.1, penalty=l2; total time=   7.5s\n",
      "[CV] END ..................................C=0.1, penalty=l2; total time=   7.8s\n",
      "[CV] END ..................................C=0.1, penalty=l2; total time=   8.3s\n",
      "[CV] END ..................................C=0.1, penalty=l1; total time=  19.2s\n",
      "[CV] END ..................................C=0.1, penalty=l1; total time=  20.5s\n",
      "[CV] END ....................................C=1, penalty=l2; total time=  12.2s\n",
      "[CV] END ..................................C=0.1, penalty=l1; total time=  24.6s\n",
      "[CV] END ....................................C=1, penalty=l2; total time=  12.9s\n",
      "[CV] END ....................................C=1, penalty=l2; total time=  15.1s\n",
      "[CV] END ..................................C=0.1, penalty=l1; total time=  27.9s\n",
      "[CV] END ....................................C=1, penalty=l2; total time=  16.8s\n",
      "[CV] END ....................................C=1, penalty=l2; total time=  17.6s\n",
      "[CV] END ..................................C=0.1, penalty=l1; total time=  39.2s\n",
      "[CV] END ...................................C=10, penalty=l2; total time=  19.4s\n",
      "[CV] END ...................................C=10, penalty=l2; total time=  25.3s\n",
      "[CV] END ...................................C=10, penalty=l2; total time=  25.6s\n",
      "[CV] END ...................................C=10, penalty=l2; total time=  22.3s\n",
      "[CV] END ...................................C=10, penalty=l2; total time=  23.3s\n",
      "[CV] END ....................................C=1, penalty=l1; total time= 4.1min\n",
      "[CV] END ....................................C=1, penalty=l1; total time= 4.2min\n",
      "[CV] END ....................................C=1, penalty=l1; total time= 4.3min\n",
      "[CV] END ....................................C=1, penalty=l1; total time= 4.6min\n",
      "[CV] END ....................................C=1, penalty=l1; total time= 4.6min\n"
     ]
    },
    {
     "name": "stderr",
     "output_type": "stream",
     "text": [
      "/home/yousinator/.cache/pypoetry/virtualenvs/c2-detection-TvTzD0kY-py3.10/lib/python3.10/site-packages/sklearn/svm/_base.py:1235: ConvergenceWarning: Liblinear failed to converge, increase the number of iterations.\n",
      "  warnings.warn(\n"
     ]
    },
    {
     "name": "stdout",
     "output_type": "stream",
     "text": [
      "[CV] END ...................................C=10, penalty=l1; total time= 4.6min\n",
      "[CV] END ...................................C=10, penalty=l1; total time= 4.5min\n"
     ]
    },
    {
     "name": "stderr",
     "output_type": "stream",
     "text": [
      "/home/yousinator/.cache/pypoetry/virtualenvs/c2-detection-TvTzD0kY-py3.10/lib/python3.10/site-packages/sklearn/svm/_base.py:1235: ConvergenceWarning: Liblinear failed to converge, increase the number of iterations.\n",
      "  warnings.warn(\n"
     ]
    },
    {
     "name": "stdout",
     "output_type": "stream",
     "text": [
      "[CV] END ...................................C=10, penalty=l1; total time= 4.7min\n",
      "[CV] END ...................................C=10, penalty=l1; total time= 4.6min\n",
      "[CV] END ...................................C=10, penalty=l1; total time= 4.8min\n",
      "Best Parameters for Logistic Regression: {'C': 1, 'penalty': 'l2'}\n"
     ]
    }
   ],
   "source": [
    "\n",
    "# Define the model\n",
    "log_reg_model = LogisticRegression(solver=\"liblinear\", random_state=42)\n",
    "\n",
    "# Define hyperparameter grid\n",
    "param_grid = {\n",
    "    \"penalty\": [\"l1\", \"l2\"],\n",
    "    \"C\": [0.01, 0.1, 1, 10],\n",
    "}\n",
    "\n",
    "# Perform Grid Search\n",
    "grid_log_reg = GridSearchCV(\n",
    "    estimator=log_reg_model,\n",
    "    param_grid=param_grid,\n",
    "    scoring=\"f1\",\n",
    "    cv=5,\n",
    "    n_jobs=-1,\n",
    "    verbose=2,\n",
    ")\n",
    "grid_log_reg.fit(X_train, y_train)\n",
    "\n",
    "# Best parameters\n",
    "print(\"Best Parameters for Logistic Regression:\", grid_log_reg.best_params_)"
   ]
  },
  {
   "cell_type": "markdown",
   "metadata": {},
   "source": [
    "### Model Evaluation"
   ]
  },
  {
   "cell_type": "code",
   "execution_count": 50,
   "metadata": {},
   "outputs": [],
   "source": [
    "# Create a function for evaluation\n",
    "def evaluate_model(model, X_val, y_val, X_test, y_test, model_name):\n",
    "    y_val_pred = model.predict(X_val)\n",
    "    y_test_pred = model.predict(X_test)\n",
    "\n",
    "    # Log metrics\n",
    "    val_metrics = classification_report(y_val, y_val_pred, output_dict=True)\n",
    "    print(val_metrics)\n",
    "    print(model.get_params())\n",
    "    test_metrics = classification_report(y_test, y_test_pred, output_dict=True)\n",
    "    roc_auc_val = roc_auc_score(y_val, model.predict_proba(X_val)[:, 1])\n",
    "    roc_auc_test = roc_auc_score(y_test, model.predict_proba(X_test)[:, 1])\n",
    "\n",
    "    # Log with MLflow\n",
    "    with mlflow.start_run(run_name=model_name):\n",
    "        mlflow.log_params(model.get_params())\n",
    "        mlflow.log_metric(\"Accuracy_Validation\", val_metrics[\"accuracy\"])\n",
    "        mlflow.log_metric(\"Precision_Validation\", val_metrics[\"1.0\"][\"precision\"])\n",
    "        mlflow.log_metric(\"Recall_Validation\", val_metrics[\"1.0\"][\"recall\"])\n",
    "        mlflow.log_metric(\"F1-Score Validation\", val_metrics[\"1.0\"][\"f1-score\"])\n",
    "        mlflow.log_metric(\"ROC-AUC Validation\", roc_auc_val)\n",
    "\n",
    "        mlflow.log_metric(\"Accuracy_Test\", test_metrics[\"accuracy\"])\n",
    "        mlflow.log_metric(\"Precision_Test\", test_metrics[\"1.0\"][\"precision\"])\n",
    "        mlflow.log_metric(\"Recall_Test\", test_metrics[\"1.0\"][\"recall\"])\n",
    "        mlflow.log_metric(\"F1-Score_Test\", test_metrics[\"1.0\"][\"f1-score\"])\n",
    "        mlflow.log_metric(\"ROC-AUC_Test\", roc_auc_test)\n",
    "\n",
    "        mlflow.sklearn.log_model(model, f\"{model_name}_model\")\n",
    "\n",
    "    # Print metrics\n",
    "    print(f\"Validation Metrics for {model_name}:\")\n",
    "    print(classification_report(y_val, y_val_pred))\n",
    "    print(f\"ROC-AUC (Validation): {roc_auc_val}\\n\")\n",
    "\n",
    "    print(f\"Test Metrics for {model_name}:\")\n",
    "    print(classification_report(y_test, y_test_pred))\n",
    "    print(f\"ROC-AUC (Test): {roc_auc_test}\\n\")"
   ]
  },
  {
   "cell_type": "code",
   "execution_count": 52,
   "metadata": {},
   "outputs": [
    {
     "name": "stdout",
     "output_type": "stream",
     "text": [
      "{'0.0': {'precision': 0.8604538870111057, 'recall': 0.8308983525023313, 'f1-score': 0.8454178856645845, 'support': 6434.0}, '1.0': {'precision': 0.8101552957599023, 'recall': 0.8426497277676951, 'f1-score': 0.8260830886931768, 'support': 5510.0}, 'accuracy': 0.8363194909578031, 'macro avg': {'precision': 0.835304591385504, 'recall': 0.8367740401350132, 'f1-score': 0.8357504871788807, 'support': 11944.0}, 'weighted avg': {'precision': 0.8372501664992059, 'recall': 0.8363194909578031, 'f1-score': 0.8364983669679622, 'support': 11944.0}}\n",
      "{'C': 1, 'class_weight': None, 'dual': False, 'fit_intercept': True, 'intercept_scaling': 1, 'l1_ratio': None, 'max_iter': 100, 'multi_class': 'deprecated', 'n_jobs': None, 'penalty': 'l2', 'random_state': 42, 'solver': 'liblinear', 'tol': 0.0001, 'verbose': 0, 'warm_start': False}\n"
     ]
    },
    {
     "name": "stderr",
     "output_type": "stream",
     "text": [
      "\u001b[31m2025/01/15 20:59:19 WARNING mlflow.models.model: Model logged without a signature and input example. Please set `input_example` parameter when logging the model to auto infer the model signature.\u001b[0m\n"
     ]
    },
    {
     "name": "stdout",
     "output_type": "stream",
     "text": [
      "Validation Metrics for Logistic Regression:\n",
      "              precision    recall  f1-score   support\n",
      "\n",
      "         0.0       0.86      0.83      0.85      6434\n",
      "         1.0       0.81      0.84      0.83      5510\n",
      "\n",
      "    accuracy                           0.84     11944\n",
      "   macro avg       0.84      0.84      0.84     11944\n",
      "weighted avg       0.84      0.84      0.84     11944\n",
      "\n",
      "ROC-AUC (Validation): 0.8887465184672848\n",
      "\n",
      "Test Metrics for Logistic Regression:\n",
      "              precision    recall  f1-score   support\n",
      "\n",
      "         0.0       0.86      0.82      0.84      6435\n",
      "         1.0       0.80      0.84      0.82      5509\n",
      "\n",
      "    accuracy                           0.83     11944\n",
      "   macro avg       0.83      0.83      0.83     11944\n",
      "weighted avg       0.83      0.83      0.83     11944\n",
      "\n",
      "ROC-AUC (Test): 0.8775316452571852\n",
      "\n",
      "{'0.0': {'precision': 0.9114426281542612, 'recall': 0.892601802921977, 'f1-score': 0.9019238319591677, 'support': 6434.0}, '1.0': {'precision': 0.8775474038631933, 'recall': 0.8987295825771325, 'f1-score': 0.8880121940285125, 'support': 5510.0}, 'accuracy': 0.8954286671131949, 'macro avg': {'precision': 0.8944950160087273, 'recall': 0.8956656927495548, 'f1-score': 0.8949680129938401, 'support': 11944.0}, 'weighted avg': {'precision': 0.8958061005384053, 'recall': 0.8954286671131949, 'f1-score': 0.8955061222306085, 'support': 11944.0}}\n",
      "{'algorithm': 'auto', 'leaf_size': 30, 'metric': 'manhattan', 'metric_params': None, 'n_jobs': None, 'n_neighbors': 7, 'p': 2, 'weights': 'uniform'}\n"
     ]
    },
    {
     "name": "stderr",
     "output_type": "stream",
     "text": [
      "\u001b[31m2025/01/15 20:59:31 WARNING mlflow.models.model: Model logged without a signature and input example. Please set `input_example` parameter when logging the model to auto infer the model signature.\u001b[0m\n"
     ]
    },
    {
     "name": "stdout",
     "output_type": "stream",
     "text": [
      "Validation Metrics for knn:\n",
      "              precision    recall  f1-score   support\n",
      "\n",
      "         0.0       0.91      0.89      0.90      6434\n",
      "         1.0       0.88      0.90      0.89      5510\n",
      "\n",
      "    accuracy                           0.90     11944\n",
      "   macro avg       0.89      0.90      0.89     11944\n",
      "weighted avg       0.90      0.90      0.90     11944\n",
      "\n",
      "ROC-AUC (Validation): 0.9478114931621766\n",
      "\n",
      "Test Metrics for knn:\n",
      "              precision    recall  f1-score   support\n",
      "\n",
      "         0.0       0.91      0.89      0.90      6435\n",
      "         1.0       0.87      0.90      0.89      5509\n",
      "\n",
      "    accuracy                           0.89     11944\n",
      "   macro avg       0.89      0.89      0.89     11944\n",
      "weighted avg       0.89      0.89      0.89     11944\n",
      "\n",
      "ROC-AUC (Test): 0.9464711061915638\n",
      "\n",
      "{'0.0': {'precision': 0.9399321814952366, 'recall': 0.9047248989741996, 'f1-score': 0.9219925556347509, 'support': 6434.0}, '1.0': {'precision': 0.8934098417666493, 'recall': 0.932486388384755, 'f1-score': 0.9125299706953202, 'support': 5510.0}, 'accuracy': 0.9175318151373074, 'macro avg': {'precision': 0.9166710116309429, 'recall': 0.9186056436794773, 'f1-score': 0.9172612631650355, 'support': 11944.0}, 'weighted avg': {'precision': 0.9184705194134788, 'recall': 0.9175318151373074, 'f1-score': 0.9176272807673478, 'support': 11944.0}}\n",
      "{'objective': 'binary:logistic', 'base_score': None, 'booster': None, 'callbacks': None, 'colsample_bylevel': None, 'colsample_bynode': None, 'colsample_bytree': None, 'device': None, 'early_stopping_rounds': None, 'enable_categorical': False, 'eval_metric': 'logloss', 'feature_types': None, 'gamma': None, 'grow_policy': None, 'importance_type': None, 'interaction_constraints': None, 'learning_rate': 0.2, 'max_bin': None, 'max_cat_threshold': None, 'max_cat_to_onehot': None, 'max_delta_step': None, 'max_depth': None, 'max_leaves': None, 'min_child_weight': None, 'missing': nan, 'monotone_constraints': None, 'multi_strategy': None, 'n_estimators': 100, 'n_jobs': None, 'num_parallel_tree': None, 'random_state': 42, 'reg_alpha': None, 'reg_lambda': None, 'sampling_method': None, 'scale_pos_weight': None, 'subsample': None, 'tree_method': None, 'validate_parameters': None, 'verbosity': None, 'use_label_encoder': False}\n"
     ]
    },
    {
     "name": "stderr",
     "output_type": "stream",
     "text": [
      "\u001b[31m2025/01/15 20:59:34 WARNING mlflow.models.model: Model logged without a signature and input example. Please set `input_example` parameter when logging the model to auto infer the model signature.\u001b[0m\n"
     ]
    },
    {
     "name": "stdout",
     "output_type": "stream",
     "text": [
      "Validation Metrics for XGBoost:\n",
      "              precision    recall  f1-score   support\n",
      "\n",
      "         0.0       0.94      0.90      0.92      6434\n",
      "         1.0       0.89      0.93      0.91      5510\n",
      "\n",
      "    accuracy                           0.92     11944\n",
      "   macro avg       0.92      0.92      0.92     11944\n",
      "weighted avg       0.92      0.92      0.92     11944\n",
      "\n",
      "ROC-AUC (Validation): 0.9706650580767893\n",
      "\n",
      "Test Metrics for XGBoost:\n",
      "              precision    recall  f1-score   support\n",
      "\n",
      "         0.0       0.94      0.90      0.92      6435\n",
      "         1.0       0.89      0.93      0.91      5509\n",
      "\n",
      "    accuracy                           0.92     11944\n",
      "   macro avg       0.91      0.92      0.92     11944\n",
      "weighted avg       0.92      0.92      0.92     11944\n",
      "\n",
      "ROC-AUC (Test): 0.9695540658691866\n",
      "\n",
      "{'0.0': {'precision': 0.936955820702999, 'recall': 0.9031706558905813, 'f1-score': 0.9197530864197531, 'support': 6434.0}, '1.0': {'precision': 0.891501219087426, 'recall': 0.929038112522686, 'f1-score': 0.9098826875222182, 'support': 5510.0}, 'accuracy': 0.9151038178164769, 'macro avg': {'precision': 0.9142285198952125, 'recall': 0.9161043842066336, 'f1-score': 0.9148178869709856, 'support': 11944.0}, 'weighted avg': {'precision': 0.9159867270240131, 'recall': 0.9151038178164769, 'f1-score': 0.9151996790247918, 'support': 11944.0}}\n",
      "{'bootstrap': True, 'ccp_alpha': 0.0, 'class_weight': None, 'criterion': 'gini', 'max_depth': 20, 'max_features': 'sqrt', 'max_leaf_nodes': None, 'max_samples': None, 'min_impurity_decrease': 0.0, 'min_samples_leaf': 1, 'min_samples_split': 2, 'min_weight_fraction_leaf': 0.0, 'monotonic_cst': None, 'n_estimators': 100, 'n_jobs': None, 'oob_score': False, 'random_state': 42, 'verbose': 0, 'warm_start': False}\n"
     ]
    },
    {
     "name": "stderr",
     "output_type": "stream",
     "text": [
      "\u001b[31m2025/01/15 20:59:36 WARNING mlflow.models.model: Model logged without a signature and input example. Please set `input_example` parameter when logging the model to auto infer the model signature.\u001b[0m\n"
     ]
    },
    {
     "name": "stdout",
     "output_type": "stream",
     "text": [
      "Validation Metrics for Random Forest:\n",
      "              precision    recall  f1-score   support\n",
      "\n",
      "         0.0       0.94      0.90      0.92      6434\n",
      "         1.0       0.89      0.93      0.91      5510\n",
      "\n",
      "    accuracy                           0.92     11944\n",
      "   macro avg       0.91      0.92      0.91     11944\n",
      "weighted avg       0.92      0.92      0.92     11944\n",
      "\n",
      "ROC-AUC (Validation): 0.9627777116464428\n",
      "\n",
      "Test Metrics for Random Forest:\n",
      "              precision    recall  f1-score   support\n",
      "\n",
      "         0.0       0.93      0.90      0.92      6435\n",
      "         1.0       0.89      0.92      0.91      5509\n",
      "\n",
      "    accuracy                           0.91     11944\n",
      "   macro avg       0.91      0.91      0.91     11944\n",
      "weighted avg       0.91      0.91      0.91     11944\n",
      "\n",
      "ROC-AUC (Test): 0.9626948936987056\n",
      "\n"
     ]
    }
   ],
   "source": [
    "mlflow.set_experiment(\"Standard Scaler\")\n",
    "evaluate_model(\n",
    "    grid_log_reg.best_estimator_, X_val, y_val, X_test, y_test, \"Logistic Regression\"\n",
    ")\n",
    "evaluate_model(grid_knn.best_estimator_, X_val, y_val, X_test, y_test, \"knn\")\n",
    "evaluate_model(grid_xgb.best_estimator_, X_val, y_val, X_test, y_test, \"XGBoost\")\n",
    "evaluate_model(grid_rf.best_estimator_, X_val, y_val, X_test, y_test, \"Random Forest\")"
   ]
  },
  {
   "cell_type": "code",
   "execution_count": 51,
   "metadata": {},
   "outputs": [],
   "source": [
    "mlflow.end_run()"
   ]
  },
  {
   "cell_type": "markdown",
   "metadata": {},
   "source": [
    "## Validation"
   ]
  },
  {
   "cell_type": "code",
   "execution_count": 53,
   "metadata": {},
   "outputs": [
    {
     "data": {
      "image/png": "[encoded data removed]",
      "text/plain": [
       "<Figure size 800x600 with 1 Axes>"
      ]
     },
     "metadata": {},
     "output_type": "display_data"
    }
   ],
   "source": [
    "from sklearn.model_selection import learning_curve\n",
    "import numpy as np\n",
    "import matplotlib.pyplot as plt\n",
    "\n",
    "train_sizes, train_scores, val_scores = learning_curve(\n",
    "    grid_rf.best_estimator_, X_train, y_train, cv=5, scoring=\"f1\", n_jobs=-1\n",
    ")\n",
    "\n",
    "# Calculate means and standard deviations\n",
    "train_mean = np.mean(train_scores, axis=1)\n",
    "train_std = np.std(train_scores, axis=1)\n",
    "val_mean = np.mean(val_scores, axis=1)\n",
    "val_std = np.std(val_scores, axis=1)\n",
    "\n",
    "# Plot\n",
    "plt.figure(figsize=(8, 6))\n",
    "plt.plot(train_sizes, train_mean, label=\"Training Score\", color=\"blue\")\n",
    "plt.fill_between(\n",
    "    train_sizes, train_mean - train_std, train_mean + train_std, color=\"blue\", alpha=0.2\n",
    ")\n",
    "plt.plot(train_sizes, val_mean, label=\"Validation Score\", color=\"green\")\n",
    "plt.fill_between(\n",
    "    train_sizes, val_mean - val_std, val_mean + val_std, color=\"green\", alpha=0.2\n",
    ")\n",
    "plt.title(\"Learning Curve for Random Forest\")\n",
    "plt.xlabel(\"Training Set Size\")\n",
    "plt.ylabel(\"F1 Score\")\n",
    "plt.legend()\n",
    "plt.show()"
   ]
  },
  {
   "cell_type": "code",
   "execution_count": 57,
   "metadata": {},
   "outputs": [
    {
     "name": "stdout",
     "output_type": "stream",
     "text": [
      "Train Mean: [0.92813621 0.91646082 0.91367012 0.91250641 0.91137991]\n",
      "Validation Mean: [0.88818821 0.90220197 0.90426218 0.90512909 0.90714748]\n"
     ]
    }
   ],
   "source": [
    "print(\"Train Mean:\", train_mean)\n",
    "print(\"Validation Mean:\", val_mean)"
   ]
  },
  {
   "cell_type": "code",
   "execution_count": 54,
   "metadata": {},
   "outputs": [
    {
     "data": {
      "image/png": "[encoded data removed]",
      "text/plain": [
       "<Figure size 800x600 with 1 Axes>"
      ]
     },
     "metadata": {},
     "output_type": "display_data"
    }
   ],
   "source": [
    "from sklearn.model_selection import learning_curve\n",
    "import numpy as np\n",
    "import matplotlib.pyplot as plt\n",
    "\n",
    "train_sizes, train_scores, val_scores = learning_curve(\n",
    "    grid_log_reg.best_estimator_, X_train, y_train, cv=5, scoring=\"f1\", n_jobs=-1\n",
    ")\n",
    "\n",
    "# Calculate means and standard deviations\n",
    "train_mean = np.mean(train_scores, axis=1)\n",
    "train_std = np.std(train_scores, axis=1)\n",
    "val_mean = np.mean(val_scores, axis=1)\n",
    "val_std = np.std(val_scores, axis=1)\n",
    "\n",
    "# Plot\n",
    "plt.figure(figsize=(8, 6))\n",
    "plt.plot(train_sizes, train_mean, label=\"Training Score\", color=\"blue\")\n",
    "plt.fill_between(\n",
    "    train_sizes, train_mean - train_std, train_mean + train_std, color=\"blue\", alpha=0.2\n",
    ")\n",
    "plt.plot(train_sizes, val_mean, label=\"Validation Score\", color=\"green\")\n",
    "plt.fill_between(\n",
    "    train_sizes, val_mean - val_std, val_mean + val_std, color=\"green\", alpha=0.2\n",
    ")\n",
    "plt.title(\"Learning Curve for Logistic Regression\")\n",
    "plt.xlabel(\"Training Set Size\")\n",
    "plt.ylabel(\"F1 Score\")\n",
    "plt.legend()\n",
    "plt.show()"
   ]
  },
  {
   "cell_type": "code",
   "execution_count": 55,
   "metadata": {},
   "outputs": [
    {
     "data": {
      "image/png": "[encoded data removed]",
      "text/plain": [
       "<Figure size 800x600 with 1 Axes>"
      ]
     },
     "metadata": {},
     "output_type": "display_data"
    }
   ],
   "source": [
    "from sklearn.model_selection import learning_curve\n",
    "import numpy as np\n",
    "import matplotlib.pyplot as plt\n",
    "\n",
    "train_sizes, train_scores, val_scores = learning_curve(\n",
    "    grid_knn.best_estimator_, X_train, y_train, cv=5, scoring=\"f1\", n_jobs=-1\n",
    ")\n",
    "\n",
    "# Calculate means and standard deviations\n",
    "train_mean = np.mean(train_scores, axis=1)\n",
    "train_std = np.std(train_scores, axis=1)\n",
    "val_mean = np.mean(val_scores, axis=1)\n",
    "val_std = np.std(val_scores, axis=1)\n",
    "\n",
    "# Plot\n",
    "plt.figure(figsize=(8, 6))\n",
    "plt.plot(train_sizes, train_mean, label=\"Training Score\", color=\"blue\")\n",
    "plt.fill_between(\n",
    "    train_sizes, train_mean - train_std, train_mean + train_std, color=\"blue\", alpha=0.2\n",
    ")\n",
    "plt.plot(train_sizes, val_mean, label=\"Validation Score\", color=\"green\")\n",
    "plt.fill_between(\n",
    "    train_sizes, val_mean - val_std, val_mean + val_std, color=\"green\", alpha=0.2\n",
    ")\n",
    "plt.title(\"Learning Curve for SVM\")\n",
    "plt.xlabel(\"Training Set Size\")\n",
    "plt.ylabel(\"F1 Score\")\n",
    "plt.legend()\n",
    "plt.show()"
   ]
  },
  {
   "cell_type": "code",
   "execution_count": 56,
   "metadata": {},
   "outputs": [
    {
     "name": "stderr",
     "output_type": "stream",
     "text": [
      "/home/yousinator/.cache/pypoetry/virtualenvs/c2-detection-TvTzD0kY-py3.10/lib/python3.10/site-packages/xgboost/core.py:158: UserWarning: [21:02:05] WARNING: /workspace/src/learner.cc:740: \n",
      "Parameters: { \"use_label_encoder\" } are not used.\n",
      "\n",
      "  warnings.warn(smsg, UserWarning)\n",
      "/home/yousinator/.cache/pypoetry/virtualenvs/c2-detection-TvTzD0kY-py3.10/lib/python3.10/site-packages/xgboost/core.py:158: UserWarning: [21:02:05] WARNING: /workspace/src/learner.cc:740: \n",
      "Parameters: { \"use_label_encoder\" } are not used.\n",
      "\n",
      "  warnings.warn(smsg, UserWarning)\n",
      "/home/yousinator/.cache/pypoetry/virtualenvs/c2-detection-TvTzD0kY-py3.10/lib/python3.10/site-packages/xgboost/core.py:158: UserWarning: [21:02:05] WARNING: /workspace/src/learner.cc:740: \n",
      "Parameters: { \"use_label_encoder\" } are not used.\n",
      "\n",
      "  warnings.warn(smsg, UserWarning)\n",
      "/home/yousinator/.cache/pypoetry/virtualenvs/c2-detection-TvTzD0kY-py3.10/lib/python3.10/site-packages/xgboost/core.py:158: UserWarning: [21:02:05] WARNING: /workspace/src/learner.cc:740: \n",
      "Parameters: { \"use_label_encoder\" } are not used.\n",
      "\n",
      "  warnings.warn(smsg, UserWarning)\n",
      "/home/yousinator/.cache/pypoetry/virtualenvs/c2-detection-TvTzD0kY-py3.10/lib/python3.10/site-packages/xgboost/core.py:158: UserWarning: [21:02:05] WARNING: /workspace/src/learner.cc:740: \n",
      "Parameters: { \"use_label_encoder\" } are not used.\n",
      "\n",
      "  warnings.warn(smsg, UserWarning)\n",
      "/home/yousinator/.cache/pypoetry/virtualenvs/c2-detection-TvTzD0kY-py3.10/lib/python3.10/site-packages/xgboost/core.py:158: UserWarning: [21:02:05] WARNING: /workspace/src/learner.cc:740: \n",
      "Parameters: { \"use_label_encoder\" } are not used.\n",
      "\n",
      "  warnings.warn(smsg, UserWarning)\n",
      "/home/yousinator/.cache/pypoetry/virtualenvs/c2-detection-TvTzD0kY-py3.10/lib/python3.10/site-packages/xgboost/core.py:158: UserWarning: [21:02:05] WARNING: /workspace/src/learner.cc:740: \n",
      "Parameters: { \"use_label_encoder\" } are not used.\n",
      "\n",
      "  warnings.warn(smsg, UserWarning)\n",
      "/home/yousinator/.cache/pypoetry/virtualenvs/c2-detection-TvTzD0kY-py3.10/lib/python3.10/site-packages/xgboost/core.py:158: UserWarning: [21:02:05] WARNING: /workspace/src/learner.cc:740: \n",
      "Parameters: { \"use_label_encoder\" } are not used.\n",
      "\n",
      "  warnings.warn(smsg, UserWarning)\n",
      "/home/yousinator/.cache/pypoetry/virtualenvs/c2-detection-TvTzD0kY-py3.10/lib/python3.10/site-packages/xgboost/core.py:158: UserWarning: [21:02:05] WARNING: /workspace/src/learner.cc:740: \n",
      "Parameters: { \"use_label_encoder\" } are not used.\n",
      "\n",
      "  warnings.warn(smsg, UserWarning)\n",
      "/home/yousinator/.cache/pypoetry/virtualenvs/c2-detection-TvTzD0kY-py3.10/lib/python3.10/site-packages/xgboost/core.py:158: UserWarning: [21:02:05] WARNING: /workspace/src/learner.cc:740: \n",
      "Parameters: { \"use_label_encoder\" } are not used.\n",
      "\n",
      "  warnings.warn(smsg, UserWarning)\n",
      "/home/yousinator/.cache/pypoetry/virtualenvs/c2-detection-TvTzD0kY-py3.10/lib/python3.10/site-packages/xgboost/core.py:158: UserWarning: [21:02:06] WARNING: /workspace/src/learner.cc:740: \n",
      "Parameters: { \"use_label_encoder\" } are not used.\n",
      "\n",
      "  warnings.warn(smsg, UserWarning)\n",
      "/home/yousinator/.cache/pypoetry/virtualenvs/c2-detection-TvTzD0kY-py3.10/lib/python3.10/site-packages/xgboost/core.py:158: UserWarning: [21:02:06] WARNING: /workspace/src/learner.cc:740: \n",
      "Parameters: { \"use_label_encoder\" } are not used.\n",
      "\n",
      "  warnings.warn(smsg, UserWarning)\n",
      "/home/yousinator/.cache/pypoetry/virtualenvs/c2-detection-TvTzD0kY-py3.10/lib/python3.10/site-packages/xgboost/core.py:158: UserWarning: [21:02:06] WARNING: /workspace/src/learner.cc:740: \n",
      "Parameters: { \"use_label_encoder\" } are not used.\n",
      "\n",
      "  warnings.warn(smsg, UserWarning)\n",
      "/home/yousinator/.cache/pypoetry/virtualenvs/c2-detection-TvTzD0kY-py3.10/lib/python3.10/site-packages/xgboost/core.py:158: UserWarning: [21:02:06] WARNING: /workspace/src/learner.cc:740: \n",
      "Parameters: { \"use_label_encoder\" } are not used.\n",
      "\n",
      "  warnings.warn(smsg, UserWarning)\n",
      "/home/yousinator/.cache/pypoetry/virtualenvs/c2-detection-TvTzD0kY-py3.10/lib/python3.10/site-packages/xgboost/core.py:158: UserWarning: [21:02:06] WARNING: /workspace/src/learner.cc:740: \n",
      "Parameters: { \"use_label_encoder\" } are not used.\n",
      "\n",
      "  warnings.warn(smsg, UserWarning)\n",
      "/home/yousinator/.cache/pypoetry/virtualenvs/c2-detection-TvTzD0kY-py3.10/lib/python3.10/site-packages/xgboost/core.py:158: UserWarning: [21:02:06] WARNING: /workspace/src/learner.cc:740: \n",
      "Parameters: { \"use_label_encoder\" } are not used.\n",
      "\n",
      "  warnings.warn(smsg, UserWarning)\n",
      "/home/yousinator/.cache/pypoetry/virtualenvs/c2-detection-TvTzD0kY-py3.10/lib/python3.10/site-packages/xgboost/core.py:158: UserWarning: [21:02:06] WARNING: /workspace/src/learner.cc:740: \n",
      "Parameters: { \"use_label_encoder\" } are not used.\n",
      "\n",
      "  warnings.warn(smsg, UserWarning)\n",
      "/home/yousinator/.cache/pypoetry/virtualenvs/c2-detection-TvTzD0kY-py3.10/lib/python3.10/site-packages/xgboost/core.py:158: UserWarning: [21:02:06] WARNING: /workspace/src/learner.cc:740: \n",
      "Parameters: { \"use_label_encoder\" } are not used.\n",
      "\n",
      "  warnings.warn(smsg, UserWarning)\n",
      "/home/yousinator/.cache/pypoetry/virtualenvs/c2-detection-TvTzD0kY-py3.10/lib/python3.10/site-packages/xgboost/core.py:158: UserWarning: [21:02:06] WARNING: /workspace/src/learner.cc:740: \n",
      "Parameters: { \"use_label_encoder\" } are not used.\n",
      "\n",
      "  warnings.warn(smsg, UserWarning)\n",
      "/home/yousinator/.cache/pypoetry/virtualenvs/c2-detection-TvTzD0kY-py3.10/lib/python3.10/site-packages/xgboost/core.py:158: UserWarning: [21:02:06] WARNING: /workspace/src/learner.cc:740: \n",
      "Parameters: { \"use_label_encoder\" } are not used.\n",
      "\n",
      "  warnings.warn(smsg, UserWarning)\n",
      "/home/yousinator/.cache/pypoetry/virtualenvs/c2-detection-TvTzD0kY-py3.10/lib/python3.10/site-packages/xgboost/core.py:158: UserWarning: [21:02:06] WARNING: /workspace/src/learner.cc:740: \n",
      "Parameters: { \"use_label_encoder\" } are not used.\n",
      "\n",
      "  warnings.warn(smsg, UserWarning)\n",
      "/home/yousinator/.cache/pypoetry/virtualenvs/c2-detection-TvTzD0kY-py3.10/lib/python3.10/site-packages/xgboost/core.py:158: UserWarning: [21:02:06] WARNING: /workspace/src/learner.cc:740: \n",
      "Parameters: { \"use_label_encoder\" } are not used.\n",
      "\n",
      "  warnings.warn(smsg, UserWarning)\n",
      "/home/yousinator/.cache/pypoetry/virtualenvs/c2-detection-TvTzD0kY-py3.10/lib/python3.10/site-packages/xgboost/core.py:158: UserWarning: [21:02:06] WARNING: /workspace/src/learner.cc:740: \n",
      "Parameters: { \"use_label_encoder\" } are not used.\n",
      "\n",
      "  warnings.warn(smsg, UserWarning)\n",
      "/home/yousinator/.cache/pypoetry/virtualenvs/c2-detection-TvTzD0kY-py3.10/lib/python3.10/site-packages/xgboost/core.py:158: UserWarning: [21:02:07] WARNING: /workspace/src/learner.cc:740: \n",
      "Parameters: { \"use_label_encoder\" } are not used.\n",
      "\n",
      "  warnings.warn(smsg, UserWarning)\n",
      "/home/yousinator/.cache/pypoetry/virtualenvs/c2-detection-TvTzD0kY-py3.10/lib/python3.10/site-packages/xgboost/core.py:158: UserWarning: [21:02:07] WARNING: /workspace/src/learner.cc:740: \n",
      "Parameters: { \"use_label_encoder\" } are not used.\n",
      "\n",
      "  warnings.warn(smsg, UserWarning)\n"
     ]
    },
    {
     "data": {
      "image/png": "[encoded data removed]",
      "text/plain": [
       "<Figure size 800x600 with 1 Axes>"
      ]
     },
     "metadata": {},
     "output_type": "display_data"
    }
   ],
   "source": [
    "train_sizes, train_scores, val_scores = learning_curve(\n",
    "    grid_xgb.best_estimator_, X_train, y_train, cv=5, scoring=\"f1\", n_jobs=-1\n",
    ")\n",
    "\n",
    "# Calculate means and standard deviations\n",
    "train_mean = np.mean(train_scores, axis=1)\n",
    "train_std = np.std(train_scores, axis=1)\n",
    "val_mean = np.mean(val_scores, axis=1)\n",
    "val_std = np.std(val_scores, axis=1)\n",
    "\n",
    "# Plot\n",
    "plt.figure(figsize=(8, 6))\n",
    "plt.plot(train_sizes, train_mean, label=\"Training Score\", color=\"blue\")\n",
    "plt.fill_between(\n",
    "    train_sizes, train_mean - train_std, train_mean + train_std, color=\"blue\", alpha=0.2\n",
    ")\n",
    "plt.plot(train_sizes, val_mean, label=\"Validation Score\", color=\"green\")\n",
    "plt.fill_between(\n",
    "    train_sizes, val_mean - val_std, val_mean + val_std, color=\"green\", alpha=0.2\n",
    ")\n",
    "plt.title(\"Learning Curve for XGB\")\n",
    "plt.xlabel(\"Training Set Size\")\n",
    "plt.ylabel(\"F1 Score\")\n",
    "plt.legend()\n",
    "plt.show()"
   ]
  },
  {
   "cell_type": "code",
   "execution_count": null,
   "metadata": {},
   "outputs": [],
   "source": []
  }
 ],
 "metadata": {
  "kernelspec": {
   "display_name": "c2-detection-TvTzD0kY-py3.10",
   "language": "python",
   "name": "python3"
  },
  "language_info": {
   "codemirror_mode": {
    "name": "ipython",
    "version": 3
   },
   "file_extension": ".py",
   "mimetype": "text/x-python",
   "name": "python",
   "nbconvert_exporter": "python",
   "pygments_lexer": "ipython3",
   "version": "3.10.12"
  }
 },
 "nbformat": 4,
 "nbformat_minor": 2
}
