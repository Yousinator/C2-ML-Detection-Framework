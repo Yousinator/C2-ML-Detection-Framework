{
 "cells": [
  {
   "cell_type": "code",
   "execution_count": 98,
   "metadata": {},
   "outputs": [],
   "source": [
    "import pandas as pd\n",
    "import prisma_ml as prisma\n",
    "import numpy as np\n",
    "from sklearn.preprocessing import LabelEncoder, StandardScaler, MinMaxScaler\n",
    "from sklearn.neighbors import KNeighborsClassifier\n",
    "from sklearn.ensemble import RandomForestClassifier\n",
    "from sklearn.linear_model import LogisticRegression\n",
    "import pickle"
   ]
  },
  {
   "cell_type": "code",
   "execution_count": 99,
   "metadata": {},
   "outputs": [],
   "source": [
    "df = pd.read_csv(r\"../../data/processed/emotet_static.csv\")\n",
    "\n",
    "df.drop(\"Is Encrypted Traffic\", axis=1, inplace=True)"
   ]
  },
  {
   "cell_type": "markdown",
   "metadata": {},
   "source": [
    "## EDA"
   ]
  },
  {
   "cell_type": "code",
   "execution_count": 100,
   "metadata": {},
   "outputs": [
    {
     "data": {
      "text/markdown": [
       "### Shape:"
      ],
      "text/plain": [
       "<IPython.core.display.Markdown object>"
      ]
     },
     "metadata": {},
     "output_type": "display_data"
    },
    {
     "data": {
      "text/plain": [
       "(79646, 31)"
      ]
     },
     "metadata": {},
     "output_type": "display_data"
    },
    {
     "data": {
      "text/markdown": [
       "### Columns and Metadata:"
      ],
      "text/plain": [
       "<IPython.core.display.Markdown object>"
      ]
     },
     "metadata": {},
     "output_type": "display_data"
    },
    {
     "data": {
      "text/html": [
       "<style type=\"text/css\">\n",
       "#T_cc79e th {\n",
       "  text-align: left;\n",
       "}\n",
       "#T_cc79e_row0_col0, #T_cc79e_row0_col1, #T_cc79e_row0_col2, #T_cc79e_row1_col0, #T_cc79e_row1_col1, #T_cc79e_row1_col2, #T_cc79e_row2_col0, #T_cc79e_row2_col1, #T_cc79e_row2_col2, #T_cc79e_row3_col0, #T_cc79e_row3_col1, #T_cc79e_row3_col2, #T_cc79e_row4_col0, #T_cc79e_row4_col1, #T_cc79e_row4_col2, #T_cc79e_row5_col0, #T_cc79e_row5_col1, #T_cc79e_row5_col2, #T_cc79e_row6_col0, #T_cc79e_row6_col1, #T_cc79e_row6_col2, #T_cc79e_row7_col0, #T_cc79e_row7_col1, #T_cc79e_row7_col2, #T_cc79e_row8_col0, #T_cc79e_row8_col1, #T_cc79e_row8_col2, #T_cc79e_row9_col0, #T_cc79e_row9_col1, #T_cc79e_row9_col2, #T_cc79e_row10_col0, #T_cc79e_row10_col1, #T_cc79e_row10_col2, #T_cc79e_row11_col0, #T_cc79e_row11_col1, #T_cc79e_row11_col2, #T_cc79e_row12_col0, #T_cc79e_row12_col1, #T_cc79e_row12_col2, #T_cc79e_row13_col0, #T_cc79e_row13_col1, #T_cc79e_row13_col2, #T_cc79e_row14_col0, #T_cc79e_row14_col1, #T_cc79e_row14_col2, #T_cc79e_row15_col0, #T_cc79e_row15_col1, #T_cc79e_row15_col2, #T_cc79e_row16_col0, #T_cc79e_row16_col1, #T_cc79e_row16_col2, #T_cc79e_row17_col0, #T_cc79e_row17_col1, #T_cc79e_row17_col2, #T_cc79e_row18_col0, #T_cc79e_row18_col1, #T_cc79e_row18_col2, #T_cc79e_row19_col0, #T_cc79e_row19_col1, #T_cc79e_row19_col2, #T_cc79e_row20_col0, #T_cc79e_row20_col1, #T_cc79e_row20_col2, #T_cc79e_row21_col0, #T_cc79e_row21_col1, #T_cc79e_row21_col2, #T_cc79e_row22_col0, #T_cc79e_row22_col1, #T_cc79e_row22_col2, #T_cc79e_row23_col0, #T_cc79e_row23_col1, #T_cc79e_row23_col2, #T_cc79e_row24_col0, #T_cc79e_row24_col1, #T_cc79e_row24_col2, #T_cc79e_row25_col0, #T_cc79e_row25_col1, #T_cc79e_row25_col2, #T_cc79e_row26_col0, #T_cc79e_row26_col1, #T_cc79e_row26_col2, #T_cc79e_row27_col0, #T_cc79e_row27_col1, #T_cc79e_row27_col2, #T_cc79e_row28_col0, #T_cc79e_row28_col1, #T_cc79e_row28_col2, #T_cc79e_row29_col0, #T_cc79e_row29_col1, #T_cc79e_row29_col2, #T_cc79e_row30_col0, #T_cc79e_row30_col1, #T_cc79e_row30_col2 {\n",
       "  text-align: left;\n",
       "}\n",
       "</style>\n",
       "<table id=\"T_cc79e\">\n",
       "  <thead>\n",
       "    <tr>\n",
       "      <th class=\"blank level0\" >&nbsp;</th>\n",
       "      <th id=\"T_cc79e_level0_col0\" class=\"col_heading level0 col0\" >Data Type</th>\n",
       "      <th id=\"T_cc79e_level0_col1\" class=\"col_heading level0 col1\" >Null Values</th>\n",
       "      <th id=\"T_cc79e_level0_col2\" class=\"col_heading level0 col2\" >Percentage of Nulls</th>\n",
       "    </tr>\n",
       "  </thead>\n",
       "  <tbody>\n",
       "    <tr>\n",
       "      <th id=\"T_cc79e_level0_row0\" class=\"row_heading level0 row0\" >Duration</th>\n",
       "      <td id=\"T_cc79e_row0_col0\" class=\"data row0 col0\" >float64</td>\n",
       "      <td id=\"T_cc79e_row0_col1\" class=\"data row0 col1\" >0</td>\n",
       "      <td id=\"T_cc79e_row0_col2\" class=\"data row0 col2\" >0.0</td>\n",
       "    </tr>\n",
       "    <tr>\n",
       "      <th id=\"T_cc79e_level0_row1\" class=\"row_heading level0 row1\" >Source Port</th>\n",
       "      <td id=\"T_cc79e_row1_col0\" class=\"data row1 col0\" >int64</td>\n",
       "      <td id=\"T_cc79e_row1_col1\" class=\"data row1 col1\" >0</td>\n",
       "      <td id=\"T_cc79e_row1_col2\" class=\"data row1 col2\" >0.0</td>\n",
       "    </tr>\n",
       "    <tr>\n",
       "      <th id=\"T_cc79e_level0_row2\" class=\"row_heading level0 row2\" >Destination Port</th>\n",
       "      <td id=\"T_cc79e_row2_col0\" class=\"data row2 col0\" >int64</td>\n",
       "      <td id=\"T_cc79e_row2_col1\" class=\"data row2 col1\" >0</td>\n",
       "      <td id=\"T_cc79e_row2_col2\" class=\"data row2 col2\" >0.0</td>\n",
       "    </tr>\n",
       "    <tr>\n",
       "      <th id=\"T_cc79e_level0_row3\" class=\"row_heading level0 row3\" >Protocol</th>\n",
       "      <td id=\"T_cc79e_row3_col0\" class=\"data row3 col0\" >object</td>\n",
       "      <td id=\"T_cc79e_row3_col1\" class=\"data row3 col1\" >0</td>\n",
       "      <td id=\"T_cc79e_row3_col2\" class=\"data row3 col2\" >0.0</td>\n",
       "    </tr>\n",
       "    <tr>\n",
       "      <th id=\"T_cc79e_level0_row4\" class=\"row_heading level0 row4\" >Flags</th>\n",
       "      <td id=\"T_cc79e_row4_col0\" class=\"data row4 col0\" >object</td>\n",
       "      <td id=\"T_cc79e_row4_col1\" class=\"data row4 col1\" >0</td>\n",
       "      <td id=\"T_cc79e_row4_col2\" class=\"data row4 col2\" >0.0</td>\n",
       "    </tr>\n",
       "    <tr>\n",
       "      <th id=\"T_cc79e_level0_row5\" class=\"row_heading level0 row5\" >Packets</th>\n",
       "      <td id=\"T_cc79e_row5_col0\" class=\"data row5 col0\" >int64</td>\n",
       "      <td id=\"T_cc79e_row5_col1\" class=\"data row5 col1\" >0</td>\n",
       "      <td id=\"T_cc79e_row5_col2\" class=\"data row5 col2\" >0.0</td>\n",
       "    </tr>\n",
       "    <tr>\n",
       "      <th id=\"T_cc79e_level0_row6\" class=\"row_heading level0 row6\" >Bytes</th>\n",
       "      <td id=\"T_cc79e_row6_col0\" class=\"data row6 col0\" >int64</td>\n",
       "      <td id=\"T_cc79e_row6_col1\" class=\"data row6 col1\" >0</td>\n",
       "      <td id=\"T_cc79e_row6_col2\" class=\"data row6 col2\" >0.0</td>\n",
       "    </tr>\n",
       "    <tr>\n",
       "      <th id=\"T_cc79e_level0_row7\" class=\"row_heading level0 row7\" >Mean Payload Size</th>\n",
       "      <td id=\"T_cc79e_row7_col0\" class=\"data row7 col0\" >float64</td>\n",
       "      <td id=\"T_cc79e_row7_col1\" class=\"data row7 col1\" >0</td>\n",
       "      <td id=\"T_cc79e_row7_col2\" class=\"data row7 col2\" >0.0</td>\n",
       "    </tr>\n",
       "    <tr>\n",
       "      <th id=\"T_cc79e_level0_row8\" class=\"row_heading level0 row8\" >Std Payload Size</th>\n",
       "      <td id=\"T_cc79e_row8_col0\" class=\"data row8 col0\" >float64</td>\n",
       "      <td id=\"T_cc79e_row8_col1\" class=\"data row8 col1\" >0</td>\n",
       "      <td id=\"T_cc79e_row8_col2\" class=\"data row8 col2\" >0.0</td>\n",
       "    </tr>\n",
       "    <tr>\n",
       "      <th id=\"T_cc79e_level0_row9\" class=\"row_heading level0 row9\" >Min Payload Size</th>\n",
       "      <td id=\"T_cc79e_row9_col0\" class=\"data row9 col0\" >int64</td>\n",
       "      <td id=\"T_cc79e_row9_col1\" class=\"data row9 col1\" >0</td>\n",
       "      <td id=\"T_cc79e_row9_col2\" class=\"data row9 col2\" >0.0</td>\n",
       "    </tr>\n",
       "    <tr>\n",
       "      <th id=\"T_cc79e_level0_row10\" class=\"row_heading level0 row10\" >Max Payload Size</th>\n",
       "      <td id=\"T_cc79e_row10_col0\" class=\"data row10 col0\" >int64</td>\n",
       "      <td id=\"T_cc79e_row10_col1\" class=\"data row10 col1\" >0</td>\n",
       "      <td id=\"T_cc79e_row10_col2\" class=\"data row10 col2\" >0.0</td>\n",
       "    </tr>\n",
       "    <tr>\n",
       "      <th id=\"T_cc79e_level0_row11\" class=\"row_heading level0 row11\" >Mean Entropy</th>\n",
       "      <td id=\"T_cc79e_row11_col0\" class=\"data row11 col0\" >float64</td>\n",
       "      <td id=\"T_cc79e_row11_col1\" class=\"data row11 col1\" >0</td>\n",
       "      <td id=\"T_cc79e_row11_col2\" class=\"data row11 col2\" >0.0</td>\n",
       "    </tr>\n",
       "    <tr>\n",
       "      <th id=\"T_cc79e_level0_row12\" class=\"row_heading level0 row12\" >Min Entropy</th>\n",
       "      <td id=\"T_cc79e_row12_col0\" class=\"data row12 col0\" >float64</td>\n",
       "      <td id=\"T_cc79e_row12_col1\" class=\"data row12 col1\" >0</td>\n",
       "      <td id=\"T_cc79e_row12_col2\" class=\"data row12 col2\" >0.0</td>\n",
       "    </tr>\n",
       "    <tr>\n",
       "      <th id=\"T_cc79e_level0_row13\" class=\"row_heading level0 row13\" >Max Entropy</th>\n",
       "      <td id=\"T_cc79e_row13_col0\" class=\"data row13 col0\" >float64</td>\n",
       "      <td id=\"T_cc79e_row13_col1\" class=\"data row13 col1\" >0</td>\n",
       "      <td id=\"T_cc79e_row13_col2\" class=\"data row13 col2\" >0.0</td>\n",
       "    </tr>\n",
       "    <tr>\n",
       "      <th id=\"T_cc79e_level0_row14\" class=\"row_heading level0 row14\" >Mean Inter-Packet Interval</th>\n",
       "      <td id=\"T_cc79e_row14_col0\" class=\"data row14 col0\" >float64</td>\n",
       "      <td id=\"T_cc79e_row14_col1\" class=\"data row14 col1\" >0</td>\n",
       "      <td id=\"T_cc79e_row14_col2\" class=\"data row14 col2\" >0.0</td>\n",
       "    </tr>\n",
       "    <tr>\n",
       "      <th id=\"T_cc79e_level0_row15\" class=\"row_heading level0 row15\" >Min Inter-Packet Interval</th>\n",
       "      <td id=\"T_cc79e_row15_col0\" class=\"data row15 col0\" >float64</td>\n",
       "      <td id=\"T_cc79e_row15_col1\" class=\"data row15 col1\" >0</td>\n",
       "      <td id=\"T_cc79e_row15_col2\" class=\"data row15 col2\" >0.0</td>\n",
       "    </tr>\n",
       "    <tr>\n",
       "      <th id=\"T_cc79e_level0_row16\" class=\"row_heading level0 row16\" >Max Inter-Packet Interval</th>\n",
       "      <td id=\"T_cc79e_row16_col0\" class=\"data row16 col0\" >float64</td>\n",
       "      <td id=\"T_cc79e_row16_col1\" class=\"data row16 col1\" >0</td>\n",
       "      <td id=\"T_cc79e_row16_col2\" class=\"data row16 col2\" >0.0</td>\n",
       "    </tr>\n",
       "    <tr>\n",
       "      <th id=\"T_cc79e_level0_row17\" class=\"row_heading level0 row17\" >Label</th>\n",
       "      <td id=\"T_cc79e_row17_col0\" class=\"data row17 col0\" >object</td>\n",
       "      <td id=\"T_cc79e_row17_col1\" class=\"data row17 col1\" >0</td>\n",
       "      <td id=\"T_cc79e_row17_col2\" class=\"data row17 col2\" >0.0</td>\n",
       "    </tr>\n",
       "    <tr>\n",
       "      <th id=\"T_cc79e_level0_row18\" class=\"row_heading level0 row18\" >Bytes per Packet</th>\n",
       "      <td id=\"T_cc79e_row18_col0\" class=\"data row18 col0\" >float64</td>\n",
       "      <td id=\"T_cc79e_row18_col1\" class=\"data row18 col1\" >0</td>\n",
       "      <td id=\"T_cc79e_row18_col2\" class=\"data row18 col2\" >0.0</td>\n",
       "    </tr>\n",
       "    <tr>\n",
       "      <th id=\"T_cc79e_level0_row19\" class=\"row_heading level0 row19\" >Packets per Second</th>\n",
       "      <td id=\"T_cc79e_row19_col0\" class=\"data row19 col0\" >float64</td>\n",
       "      <td id=\"T_cc79e_row19_col1\" class=\"data row19 col1\" >0</td>\n",
       "      <td id=\"T_cc79e_row19_col2\" class=\"data row19 col2\" >0.0</td>\n",
       "    </tr>\n",
       "    <tr>\n",
       "      <th id=\"T_cc79e_level0_row20\" class=\"row_heading level0 row20\" >Bytes per Second</th>\n",
       "      <td id=\"T_cc79e_row20_col0\" class=\"data row20 col0\" >float64</td>\n",
       "      <td id=\"T_cc79e_row20_col1\" class=\"data row20 col1\" >0</td>\n",
       "      <td id=\"T_cc79e_row20_col2\" class=\"data row20 col2\" >0.0</td>\n",
       "    </tr>\n",
       "    <tr>\n",
       "      <th id=\"T_cc79e_level0_row21\" class=\"row_heading level0 row21\" >Common Port Usage</th>\n",
       "      <td id=\"T_cc79e_row21_col0\" class=\"data row21 col0\" >int64</td>\n",
       "      <td id=\"T_cc79e_row21_col1\" class=\"data row21 col1\" >0</td>\n",
       "      <td id=\"T_cc79e_row21_col2\" class=\"data row21 col2\" >0.0</td>\n",
       "    </tr>\n",
       "    <tr>\n",
       "      <th id=\"T_cc79e_level0_row22\" class=\"row_heading level0 row22\" >flags_count</th>\n",
       "      <td id=\"T_cc79e_row22_col0\" class=\"data row22 col0\" >int64</td>\n",
       "      <td id=\"T_cc79e_row22_col1\" class=\"data row22 col1\" >0</td>\n",
       "      <td id=\"T_cc79e_row22_col2\" class=\"data row22 col2\" >0.0</td>\n",
       "    </tr>\n",
       "    <tr>\n",
       "      <th id=\"T_cc79e_level0_row23\" class=\"row_heading level0 row23\" >syn_count</th>\n",
       "      <td id=\"T_cc79e_row23_col0\" class=\"data row23 col0\" >int64</td>\n",
       "      <td id=\"T_cc79e_row23_col1\" class=\"data row23 col1\" >0</td>\n",
       "      <td id=\"T_cc79e_row23_col2\" class=\"data row23 col2\" >0.0</td>\n",
       "    </tr>\n",
       "    <tr>\n",
       "      <th id=\"T_cc79e_level0_row24\" class=\"row_heading level0 row24\" >ack_count</th>\n",
       "      <td id=\"T_cc79e_row24_col0\" class=\"data row24 col0\" >int64</td>\n",
       "      <td id=\"T_cc79e_row24_col1\" class=\"data row24 col1\" >0</td>\n",
       "      <td id=\"T_cc79e_row24_col2\" class=\"data row24 col2\" >0.0</td>\n",
       "    </tr>\n",
       "    <tr>\n",
       "      <th id=\"T_cc79e_level0_row25\" class=\"row_heading level0 row25\" >fin_count</th>\n",
       "      <td id=\"T_cc79e_row25_col0\" class=\"data row25 col0\" >int64</td>\n",
       "      <td id=\"T_cc79e_row25_col1\" class=\"data row25 col1\" >0</td>\n",
       "      <td id=\"T_cc79e_row25_col2\" class=\"data row25 col2\" >0.0</td>\n",
       "    </tr>\n",
       "    <tr>\n",
       "      <th id=\"T_cc79e_level0_row26\" class=\"row_heading level0 row26\" >is_http</th>\n",
       "      <td id=\"T_cc79e_row26_col0\" class=\"data row26 col0\" >int64</td>\n",
       "      <td id=\"T_cc79e_row26_col1\" class=\"data row26 col1\" >0</td>\n",
       "      <td id=\"T_cc79e_row26_col2\" class=\"data row26 col2\" >0.0</td>\n",
       "    </tr>\n",
       "    <tr>\n",
       "      <th id=\"T_cc79e_level0_row27\" class=\"row_heading level0 row27\" >is_internal_ip</th>\n",
       "      <td id=\"T_cc79e_row27_col0\" class=\"data row27 col0\" >int64</td>\n",
       "      <td id=\"T_cc79e_row27_col1\" class=\"data row27 col1\" >0</td>\n",
       "      <td id=\"T_cc79e_row27_col2\" class=\"data row27 col2\" >0.0</td>\n",
       "    </tr>\n",
       "    <tr>\n",
       "      <th id=\"T_cc79e_level0_row28\" class=\"row_heading level0 row28\" >direction</th>\n",
       "      <td id=\"T_cc79e_row28_col0\" class=\"data row28 col0\" >object</td>\n",
       "      <td id=\"T_cc79e_row28_col1\" class=\"data row28 col1\" >0</td>\n",
       "      <td id=\"T_cc79e_row28_col2\" class=\"data row28 col2\" >0.0</td>\n",
       "    </tr>\n",
       "    <tr>\n",
       "      <th id=\"T_cc79e_level0_row29\" class=\"row_heading level0 row29\" >short_duration</th>\n",
       "      <td id=\"T_cc79e_row29_col0\" class=\"data row29 col0\" >int64</td>\n",
       "      <td id=\"T_cc79e_row29_col1\" class=\"data row29 col1\" >0</td>\n",
       "      <td id=\"T_cc79e_row29_col2\" class=\"data row29 col2\" >0.0</td>\n",
       "    </tr>\n",
       "    <tr>\n",
       "      <th id=\"T_cc79e_level0_row30\" class=\"row_heading level0 row30\" >single_packet</th>\n",
       "      <td id=\"T_cc79e_row30_col0\" class=\"data row30 col0\" >int64</td>\n",
       "      <td id=\"T_cc79e_row30_col1\" class=\"data row30 col1\" >0</td>\n",
       "      <td id=\"T_cc79e_row30_col2\" class=\"data row30 col2\" >0.0</td>\n",
       "    </tr>\n",
       "  </tbody>\n",
       "</table>\n"
      ],
      "text/plain": [
       "<pandas.io.formats.style.Styler at 0x7f9010a31300>"
      ]
     },
     "metadata": {},
     "output_type": "display_data"
    },
    {
     "data": {
      "text/markdown": [
       "### Duplicated Rows:"
      ],
      "text/plain": [
       "<IPython.core.display.Markdown object>"
      ]
     },
     "metadata": {},
     "output_type": "display_data"
    },
    {
     "data": {
      "text/html": [
       "<div>\n",
       "<style scoped>\n",
       "    .dataframe tbody tr th:only-of-type {\n",
       "        vertical-align: middle;\n",
       "    }\n",
       "\n",
       "    .dataframe tbody tr th {\n",
       "        vertical-align: top;\n",
       "    }\n",
       "\n",
       "    .dataframe thead th {\n",
       "        text-align: right;\n",
       "    }\n",
       "</style>\n",
       "<table border=\"1\" class=\"dataframe\">\n",
       "  <thead>\n",
       "    <tr style=\"text-align: right;\">\n",
       "      <th></th>\n",
       "      <th>Duplicated Rows Count</th>\n",
       "    </tr>\n",
       "  </thead>\n",
       "  <tbody>\n",
       "    <tr>\n",
       "      <th>Total</th>\n",
       "      <td>0</td>\n",
       "    </tr>\n",
       "  </tbody>\n",
       "</table>\n",
       "</div>"
      ],
      "text/plain": [
       "       Duplicated Rows Count\n",
       "Total                      0"
      ]
     },
     "metadata": {},
     "output_type": "display_data"
    }
   ],
   "source": [
    "info = prisma.DatasetInformation(df)\n",
    "\n",
    "df.drop_duplicates(inplace=True)\n",
    "\n",
    "info.dataframe_summary()"
   ]
  },
  {
   "cell_type": "markdown",
   "metadata": {},
   "source": [
    "### Categorical"
   ]
  },
  {
   "cell_type": "code",
   "execution_count": 101,
   "metadata": {},
   "outputs": [
    {
     "data": {
      "text/plain": [
       "Index(['Duration', 'Source Port', 'Destination Port', 'Protocol', 'Flags',\n",
       "       'Packets', 'Bytes', 'Mean Payload Size', 'Std Payload Size',\n",
       "       'Min Payload Size', 'Max Payload Size', 'Mean Entropy', 'Min Entropy',\n",
       "       'Max Entropy', 'Mean Inter-Packet Interval',\n",
       "       'Min Inter-Packet Interval', 'Max Inter-Packet Interval', 'Label',\n",
       "       'Bytes per Packet', 'Packets per Second', 'Bytes per Second',\n",
       "       'Common Port Usage', 'flags_count', 'syn_count', 'ack_count',\n",
       "       'fin_count', 'is_http', 'is_internal_ip', 'direction', 'short_duration',\n",
       "       'single_packet'],\n",
       "      dtype='object')"
      ]
     },
     "execution_count": 101,
     "metadata": {},
     "output_type": "execute_result"
    }
   ],
   "source": [
    "df.columns"
   ]
  },
  {
   "cell_type": "code",
   "execution_count": 102,
   "metadata": {},
   "outputs": [
    {
     "data": {
      "text/markdown": [
       "### Categorical Columns Summary:"
      ],
      "text/plain": [
       "<IPython.core.display.Markdown object>"
      ]
     },
     "metadata": {},
     "output_type": "display_data"
    },
    {
     "data": {
      "text/html": [
       "<style type=\"text/css\">\n",
       "#T_162f0 th {\n",
       "  text-align: left;\n",
       "}\n",
       "#T_162f0_row0_col0, #T_162f0_row0_col1, #T_162f0_row0_col2, #T_162f0_row0_col3, #T_162f0_row1_col0, #T_162f0_row1_col1, #T_162f0_row1_col2, #T_162f0_row1_col3, #T_162f0_row2_col0, #T_162f0_row2_col1, #T_162f0_row2_col2, #T_162f0_row2_col3, #T_162f0_row3_col0, #T_162f0_row3_col1, #T_162f0_row3_col2, #T_162f0_row3_col3 {\n",
       "  text-align: left;\n",
       "}\n",
       "</style>\n",
       "<table id=\"T_162f0\">\n",
       "  <thead>\n",
       "    <tr>\n",
       "      <th class=\"blank level0\" >&nbsp;</th>\n",
       "      <th id=\"T_162f0_level0_col0\" class=\"col_heading level0 col0\" >Column</th>\n",
       "      <th id=\"T_162f0_level0_col1\" class=\"col_heading level0 col1\" >Unique Values Count</th>\n",
       "      <th id=\"T_162f0_level0_col2\" class=\"col_heading level0 col2\" >Top Value</th>\n",
       "      <th id=\"T_162f0_level0_col3\" class=\"col_heading level0 col3\" >Top Value Percentage</th>\n",
       "    </tr>\n",
       "  </thead>\n",
       "  <tbody>\n",
       "    <tr>\n",
       "      <th id=\"T_162f0_level0_row0\" class=\"row_heading level0 row0\" >0</th>\n",
       "      <td id=\"T_162f0_row0_col0\" class=\"data row0 col0\" >Protocol</td>\n",
       "      <td id=\"T_162f0_row0_col1\" class=\"data row0 col1\" >4</td>\n",
       "      <td id=\"T_162f0_row0_col2\" class=\"data row0 col2\" >TCP</td>\n",
       "      <td id=\"T_162f0_row0_col3\" class=\"data row0 col3\" >76.17%</td>\n",
       "    </tr>\n",
       "    <tr>\n",
       "      <th id=\"T_162f0_level0_row1\" class=\"row_heading level0 row1\" >1</th>\n",
       "      <td id=\"T_162f0_row1_col0\" class=\"data row1 col0\" >Flags</td>\n",
       "      <td id=\"T_162f0_row1_col1\" class=\"data row1 col1\" >14</td>\n",
       "      <td id=\"T_162f0_row1_col2\" class=\"data row1 col2\" >SYN</td>\n",
       "      <td id=\"T_162f0_row1_col3\" class=\"data row1 col3\" >51.50%</td>\n",
       "    </tr>\n",
       "    <tr>\n",
       "      <th id=\"T_162f0_level0_row2\" class=\"row_heading level0 row2\" >2</th>\n",
       "      <td id=\"T_162f0_row2_col0\" class=\"data row2 col0\" >Label</td>\n",
       "      <td id=\"T_162f0_row2_col1\" class=\"data row2 col1\" >2</td>\n",
       "      <td id=\"T_162f0_row2_col2\" class=\"data row2 col2\" >Benign</td>\n",
       "      <td id=\"T_162f0_row2_col3\" class=\"data row2 col3\" >53.87%</td>\n",
       "    </tr>\n",
       "    <tr>\n",
       "      <th id=\"T_162f0_level0_row3\" class=\"row_heading level0 row3\" >3</th>\n",
       "      <td id=\"T_162f0_row3_col0\" class=\"data row3 col0\" >direction</td>\n",
       "      <td id=\"T_162f0_row3_col1\" class=\"data row3 col1\" >1</td>\n",
       "      <td id=\"T_162f0_row3_col2\" class=\"data row3 col2\" >outbound</td>\n",
       "      <td id=\"T_162f0_row3_col3\" class=\"data row3 col3\" >100.00%</td>\n",
       "    </tr>\n",
       "  </tbody>\n",
       "</table>\n"
      ],
      "text/plain": [
       "<pandas.io.formats.style.Styler at 0x7f8fb4896c20>"
      ]
     },
     "metadata": {},
     "output_type": "display_data"
    },
    {
     "data": {
      "text/markdown": [
       "### Column: Protocol"
      ],
      "text/plain": [
       "<IPython.core.display.Markdown object>"
      ]
     },
     "metadata": {},
     "output_type": "display_data"
    },
    {
     "data": {
      "text/markdown": [
       "#### Value Counts and Percentage Distribution:"
      ],
      "text/plain": [
       "<IPython.core.display.Markdown object>"
      ]
     },
     "metadata": {},
     "output_type": "display_data"
    },
    {
     "data": {
      "text/html": [
       "<style type=\"text/css\">\n",
       "#T_5eced_row0_col0, #T_5eced_row0_col1, #T_5eced_row0_col2, #T_5eced_row1_col0, #T_5eced_row1_col1, #T_5eced_row1_col2, #T_5eced_row2_col0, #T_5eced_row2_col1, #T_5eced_row2_col2, #T_5eced_row3_col0, #T_5eced_row3_col1, #T_5eced_row3_col2 {\n",
       "  text-align: left;\n",
       "}\n",
       "</style>\n",
       "<table id=\"T_5eced\">\n",
       "  <thead>\n",
       "    <tr>\n",
       "      <th class=\"blank level0\" >&nbsp;</th>\n",
       "      <th id=\"T_5eced_level0_col0\" class=\"col_heading level0 col0\" >Value</th>\n",
       "      <th id=\"T_5eced_level0_col1\" class=\"col_heading level0 col1\" >Count</th>\n",
       "      <th id=\"T_5eced_level0_col2\" class=\"col_heading level0 col2\" >Percentage</th>\n",
       "    </tr>\n",
       "  </thead>\n",
       "  <tbody>\n",
       "    <tr>\n",
       "      <th id=\"T_5eced_level0_row0\" class=\"row_heading level0 row0\" >0</th>\n",
       "      <td id=\"T_5eced_row0_col0\" class=\"data row0 col0\" >TCP</td>\n",
       "      <td id=\"T_5eced_row0_col1\" class=\"data row0 col1\" >60663</td>\n",
       "      <td id=\"T_5eced_row0_col2\" class=\"data row0 col2\" >76.165784</td>\n",
       "    </tr>\n",
       "    <tr>\n",
       "      <th id=\"T_5eced_level0_row1\" class=\"row_heading level0 row1\" >1</th>\n",
       "      <td id=\"T_5eced_row1_col0\" class=\"data row1 col0\" >HTTP</td>\n",
       "      <td id=\"T_5eced_row1_col1\" class=\"data row1 col1\" >14216</td>\n",
       "      <td id=\"T_5eced_row1_col2\" class=\"data row1 col2\" >17.848982</td>\n",
       "    </tr>\n",
       "    <tr>\n",
       "      <th id=\"T_5eced_level0_row2\" class=\"row_heading level0 row2\" >2</th>\n",
       "      <td id=\"T_5eced_row2_col0\" class=\"data row2 col0\" >DATA-TEXT-LINES</td>\n",
       "      <td id=\"T_5eced_row2_col1\" class=\"data row2 col1\" >4743</td>\n",
       "      <td id=\"T_5eced_row2_col2\" class=\"data row2 col2\" >5.955101</td>\n",
       "    </tr>\n",
       "    <tr>\n",
       "      <th id=\"T_5eced_level0_row3\" class=\"row_heading level0 row3\" >3</th>\n",
       "      <td id=\"T_5eced_row3_col0\" class=\"data row3 col0\" >XML</td>\n",
       "      <td id=\"T_5eced_row3_col1\" class=\"data row3 col1\" >24</td>\n",
       "      <td id=\"T_5eced_row3_col2\" class=\"data row3 col2\" >0.030133</td>\n",
       "    </tr>\n",
       "  </tbody>\n",
       "</table>\n"
      ],
      "text/plain": [
       "<pandas.io.formats.style.Styler at 0x7f8fb4896c20>"
      ]
     },
     "metadata": {},
     "output_type": "display_data"
    },
    {
     "data": {
      "text/markdown": [
       "---"
      ],
      "text/plain": [
       "<IPython.core.display.Markdown object>"
      ]
     },
     "metadata": {},
     "output_type": "display_data"
    },
    {
     "data": {
      "text/markdown": [
       "### Column: Flags"
      ],
      "text/plain": [
       "<IPython.core.display.Markdown object>"
      ]
     },
     "metadata": {},
     "output_type": "display_data"
    },
    {
     "data": {
      "text/markdown": [
       "#### Value Counts and Percentage Distribution:"
      ],
      "text/plain": [
       "<IPython.core.display.Markdown object>"
      ]
     },
     "metadata": {},
     "output_type": "display_data"
    },
    {
     "data": {
      "text/html": [
       "<style type=\"text/css\">\n",
       "#T_ed705_row0_col0, #T_ed705_row0_col1, #T_ed705_row0_col2, #T_ed705_row1_col0, #T_ed705_row1_col1, #T_ed705_row1_col2, #T_ed705_row2_col0, #T_ed705_row2_col1, #T_ed705_row2_col2, #T_ed705_row3_col0, #T_ed705_row3_col1, #T_ed705_row3_col2, #T_ed705_row4_col0, #T_ed705_row4_col1, #T_ed705_row4_col2, #T_ed705_row5_col0, #T_ed705_row5_col1, #T_ed705_row5_col2, #T_ed705_row6_col0, #T_ed705_row6_col1, #T_ed705_row6_col2, #T_ed705_row7_col0, #T_ed705_row7_col1, #T_ed705_row7_col2, #T_ed705_row8_col0, #T_ed705_row8_col1, #T_ed705_row8_col2, #T_ed705_row9_col0, #T_ed705_row9_col1, #T_ed705_row9_col2, #T_ed705_row10_col0, #T_ed705_row10_col1, #T_ed705_row10_col2, #T_ed705_row11_col0, #T_ed705_row11_col1, #T_ed705_row11_col2, #T_ed705_row12_col0, #T_ed705_row12_col1, #T_ed705_row12_col2, #T_ed705_row13_col0, #T_ed705_row13_col1, #T_ed705_row13_col2 {\n",
       "  text-align: left;\n",
       "}\n",
       "</style>\n",
       "<table id=\"T_ed705\">\n",
       "  <thead>\n",
       "    <tr>\n",
       "      <th class=\"blank level0\" >&nbsp;</th>\n",
       "      <th id=\"T_ed705_level0_col0\" class=\"col_heading level0 col0\" >Value</th>\n",
       "      <th id=\"T_ed705_level0_col1\" class=\"col_heading level0 col1\" >Count</th>\n",
       "      <th id=\"T_ed705_level0_col2\" class=\"col_heading level0 col2\" >Percentage</th>\n",
       "    </tr>\n",
       "  </thead>\n",
       "  <tbody>\n",
       "    <tr>\n",
       "      <th id=\"T_ed705_level0_row0\" class=\"row_heading level0 row0\" >0</th>\n",
       "      <td id=\"T_ed705_row0_col0\" class=\"data row0 col0\" >SYN</td>\n",
       "      <td id=\"T_ed705_row0_col1\" class=\"data row0 col1\" >41015</td>\n",
       "      <td id=\"T_ed705_row0_col2\" class=\"data row0 col2\" >51.496623</td>\n",
       "    </tr>\n",
       "    <tr>\n",
       "      <th id=\"T_ed705_level0_row1\" class=\"row_heading level0 row1\" >1</th>\n",
       "      <td id=\"T_ed705_row1_col0\" class=\"data row1 col0\" >PSH,ACK</td>\n",
       "      <td id=\"T_ed705_row1_col1\" class=\"data row1 col1\" >18926</td>\n",
       "      <td id=\"T_ed705_row1_col2\" class=\"data row1 col2\" >23.762650</td>\n",
       "    </tr>\n",
       "    <tr>\n",
       "      <th id=\"T_ed705_level0_row2\" class=\"row_heading level0 row2\" >2</th>\n",
       "      <td id=\"T_ed705_row2_col0\" class=\"data row2 col0\" >FIN,SYN,ACK</td>\n",
       "      <td id=\"T_ed705_row2_col1\" class=\"data row2 col1\" >9294</td>\n",
       "      <td id=\"T_ed705_row2_col2\" class=\"data row2 col2\" >11.669136</td>\n",
       "    </tr>\n",
       "    <tr>\n",
       "      <th id=\"T_ed705_level0_row3\" class=\"row_heading level0 row3\" >3</th>\n",
       "      <td id=\"T_ed705_row3_col0\" class=\"data row3 col0\" >SYN,RST,ACK</td>\n",
       "      <td id=\"T_ed705_row3_col1\" class=\"data row3 col1\" >6277</td>\n",
       "      <td id=\"T_ed705_row3_col2\" class=\"data row3 col2\" >7.881124</td>\n",
       "    </tr>\n",
       "    <tr>\n",
       "      <th id=\"T_ed705_level0_row4\" class=\"row_heading level0 row4\" >4</th>\n",
       "      <td id=\"T_ed705_row4_col0\" class=\"data row4 col0\" >FIN,SYN,RST,ACK</td>\n",
       "      <td id=\"T_ed705_row4_col1\" class=\"data row4 col1\" >2958</td>\n",
       "      <td id=\"T_ed705_row4_col2\" class=\"data row4 col2\" >3.713934</td>\n",
       "    </tr>\n",
       "    <tr>\n",
       "      <th id=\"T_ed705_level0_row5\" class=\"row_heading level0 row5\" >5</th>\n",
       "      <td id=\"T_ed705_row5_col0\" class=\"data row5 col0\" >FIN,SYN,PSH,ACK</td>\n",
       "      <td id=\"T_ed705_row5_col1\" class=\"data row5 col1\" >556</td>\n",
       "      <td id=\"T_ed705_row5_col2\" class=\"data row5 col2\" >0.698089</td>\n",
       "    </tr>\n",
       "    <tr>\n",
       "      <th id=\"T_ed705_level0_row6\" class=\"row_heading level0 row6\" >6</th>\n",
       "      <td id=\"T_ed705_row6_col0\" class=\"data row6 col0\" >SYN,ACK</td>\n",
       "      <td id=\"T_ed705_row6_col1\" class=\"data row6 col1\" >289</td>\n",
       "      <td id=\"T_ed705_row6_col2\" class=\"data row6 col2\" >0.362856</td>\n",
       "    </tr>\n",
       "    <tr>\n",
       "      <th id=\"T_ed705_level0_row7\" class=\"row_heading level0 row7\" >7</th>\n",
       "      <td id=\"T_ed705_row7_col0\" class=\"data row7 col0\" >FIN,SYN,RST,PSH,ACK</td>\n",
       "      <td id=\"T_ed705_row7_col1\" class=\"data row7 col1\" >119</td>\n",
       "      <td id=\"T_ed705_row7_col2\" class=\"data row7 col2\" >0.149411</td>\n",
       "    </tr>\n",
       "    <tr>\n",
       "      <th id=\"T_ed705_level0_row8\" class=\"row_heading level0 row8\" >8</th>\n",
       "      <td id=\"T_ed705_row8_col0\" class=\"data row8 col0\" >SYN,RST</td>\n",
       "      <td id=\"T_ed705_row8_col1\" class=\"data row8 col1\" >64</td>\n",
       "      <td id=\"T_ed705_row8_col2\" class=\"data row8 col2\" >0.080356</td>\n",
       "    </tr>\n",
       "    <tr>\n",
       "      <th id=\"T_ed705_level0_row9\" class=\"row_heading level0 row9\" >9</th>\n",
       "      <td id=\"T_ed705_row9_col0\" class=\"data row9 col0\" >SYN,PSH,ACK</td>\n",
       "      <td id=\"T_ed705_row9_col1\" class=\"data row9 col1\" >53</td>\n",
       "      <td id=\"T_ed705_row9_col2\" class=\"data row9 col2\" >0.066544</td>\n",
       "    </tr>\n",
       "    <tr>\n",
       "      <th id=\"T_ed705_level0_row10\" class=\"row_heading level0 row10\" >10</th>\n",
       "      <td id=\"T_ed705_row10_col0\" class=\"data row10 col0\" >FIN,ACK</td>\n",
       "      <td id=\"T_ed705_row10_col1\" class=\"data row10 col1\" >49</td>\n",
       "      <td id=\"T_ed705_row10_col2\" class=\"data row10 col2\" >0.061522</td>\n",
       "    </tr>\n",
       "    <tr>\n",
       "      <th id=\"T_ed705_level0_row11\" class=\"row_heading level0 row11\" >11</th>\n",
       "      <td id=\"T_ed705_row11_col0\" class=\"data row11 col0\" >SYN,RST,PSH,ACK</td>\n",
       "      <td id=\"T_ed705_row11_col1\" class=\"data row11 col1\" >36</td>\n",
       "      <td id=\"T_ed705_row11_col2\" class=\"data row11 col2\" >0.045200</td>\n",
       "    </tr>\n",
       "    <tr>\n",
       "      <th id=\"T_ed705_level0_row12\" class=\"row_heading level0 row12\" >12</th>\n",
       "      <td id=\"T_ed705_row12_col0\" class=\"data row12 col0\" >FIN,PSH,ACK</td>\n",
       "      <td id=\"T_ed705_row12_col1\" class=\"data row12 col1\" >9</td>\n",
       "      <td id=\"T_ed705_row12_col2\" class=\"data row12 col2\" >0.011300</td>\n",
       "    </tr>\n",
       "    <tr>\n",
       "      <th id=\"T_ed705_level0_row13\" class=\"row_heading level0 row13\" >13</th>\n",
       "      <td id=\"T_ed705_row13_col0\" class=\"data row13 col0\" >RST</td>\n",
       "      <td id=\"T_ed705_row13_col1\" class=\"data row13 col1\" >1</td>\n",
       "      <td id=\"T_ed705_row13_col2\" class=\"data row13 col2\" >0.001256</td>\n",
       "    </tr>\n",
       "  </tbody>\n",
       "</table>\n"
      ],
      "text/plain": [
       "<pandas.io.formats.style.Styler at 0x7f90109f7df0>"
      ]
     },
     "metadata": {},
     "output_type": "display_data"
    },
    {
     "data": {
      "text/markdown": [
       "---"
      ],
      "text/plain": [
       "<IPython.core.display.Markdown object>"
      ]
     },
     "metadata": {},
     "output_type": "display_data"
    },
    {
     "data": {
      "text/markdown": [
       "### Column: Label"
      ],
      "text/plain": [
       "<IPython.core.display.Markdown object>"
      ]
     },
     "metadata": {},
     "output_type": "display_data"
    },
    {
     "data": {
      "text/markdown": [
       "#### Value Counts and Percentage Distribution:"
      ],
      "text/plain": [
       "<IPython.core.display.Markdown object>"
      ]
     },
     "metadata": {},
     "output_type": "display_data"
    },
    {
     "data": {
      "text/html": [
       "<style type=\"text/css\">\n",
       "#T_4b547_row0_col0, #T_4b547_row0_col1, #T_4b547_row0_col2, #T_4b547_row1_col0, #T_4b547_row1_col1, #T_4b547_row1_col2 {\n",
       "  text-align: left;\n",
       "}\n",
       "</style>\n",
       "<table id=\"T_4b547\">\n",
       "  <thead>\n",
       "    <tr>\n",
       "      <th class=\"blank level0\" >&nbsp;</th>\n",
       "      <th id=\"T_4b547_level0_col0\" class=\"col_heading level0 col0\" >Value</th>\n",
       "      <th id=\"T_4b547_level0_col1\" class=\"col_heading level0 col1\" >Count</th>\n",
       "      <th id=\"T_4b547_level0_col2\" class=\"col_heading level0 col2\" >Percentage</th>\n",
       "    </tr>\n",
       "  </thead>\n",
       "  <tbody>\n",
       "    <tr>\n",
       "      <th id=\"T_4b547_level0_row0\" class=\"row_heading level0 row0\" >0</th>\n",
       "      <td id=\"T_4b547_row0_col0\" class=\"data row0 col0\" >Benign</td>\n",
       "      <td id=\"T_4b547_row0_col1\" class=\"data row0 col1\" >42907</td>\n",
       "      <td id=\"T_4b547_row0_col2\" class=\"data row0 col2\" >53.872134</td>\n",
       "    </tr>\n",
       "    <tr>\n",
       "      <th id=\"T_4b547_level0_row1\" class=\"row_heading level0 row1\" >1</th>\n",
       "      <td id=\"T_4b547_row1_col0\" class=\"data row1 col0\" >Emotet</td>\n",
       "      <td id=\"T_4b547_row1_col1\" class=\"data row1 col1\" >36739</td>\n",
       "      <td id=\"T_4b547_row1_col2\" class=\"data row1 col2\" >46.127866</td>\n",
       "    </tr>\n",
       "  </tbody>\n",
       "</table>\n"
      ],
      "text/plain": [
       "<pandas.io.formats.style.Styler at 0x7f90109f7df0>"
      ]
     },
     "metadata": {},
     "output_type": "display_data"
    },
    {
     "data": {
      "text/markdown": [
       "---"
      ],
      "text/plain": [
       "<IPython.core.display.Markdown object>"
      ]
     },
     "metadata": {},
     "output_type": "display_data"
    },
    {
     "data": {
      "text/markdown": [
       "### Column: direction"
      ],
      "text/plain": [
       "<IPython.core.display.Markdown object>"
      ]
     },
     "metadata": {},
     "output_type": "display_data"
    },
    {
     "data": {
      "text/markdown": [
       "#### Value Counts and Percentage Distribution:"
      ],
      "text/plain": [
       "<IPython.core.display.Markdown object>"
      ]
     },
     "metadata": {},
     "output_type": "display_data"
    },
    {
     "data": {
      "text/html": [
       "<style type=\"text/css\">\n",
       "#T_7a2c2_row0_col0, #T_7a2c2_row0_col1, #T_7a2c2_row0_col2 {\n",
       "  text-align: left;\n",
       "}\n",
       "</style>\n",
       "<table id=\"T_7a2c2\">\n",
       "  <thead>\n",
       "    <tr>\n",
       "      <th class=\"blank level0\" >&nbsp;</th>\n",
       "      <th id=\"T_7a2c2_level0_col0\" class=\"col_heading level0 col0\" >Value</th>\n",
       "      <th id=\"T_7a2c2_level0_col1\" class=\"col_heading level0 col1\" >Count</th>\n",
       "      <th id=\"T_7a2c2_level0_col2\" class=\"col_heading level0 col2\" >Percentage</th>\n",
       "    </tr>\n",
       "  </thead>\n",
       "  <tbody>\n",
       "    <tr>\n",
       "      <th id=\"T_7a2c2_level0_row0\" class=\"row_heading level0 row0\" >0</th>\n",
       "      <td id=\"T_7a2c2_row0_col0\" class=\"data row0 col0\" >outbound</td>\n",
       "      <td id=\"T_7a2c2_row0_col1\" class=\"data row0 col1\" >79646</td>\n",
       "      <td id=\"T_7a2c2_row0_col2\" class=\"data row0 col2\" >100.000000</td>\n",
       "    </tr>\n",
       "  </tbody>\n",
       "</table>\n"
      ],
      "text/plain": [
       "<pandas.io.formats.style.Styler at 0x7f900e46b700>"
      ]
     },
     "metadata": {},
     "output_type": "display_data"
    },
    {
     "data": {
      "text/markdown": [
       "---"
      ],
      "text/plain": [
       "<IPython.core.display.Markdown object>"
      ]
     },
     "metadata": {},
     "output_type": "display_data"
    }
   ],
   "source": [
    "info = prisma.DatasetInformation(df)\n",
    "\n",
    "info.categorical_summary()"
   ]
  },
  {
   "cell_type": "code",
   "execution_count": null,
   "metadata": {},
   "outputs": [],
   "source": []
  },
  {
   "cell_type": "markdown",
   "metadata": {},
   "source": [
    "### Numerical"
   ]
  },
  {
   "cell_type": "code",
   "execution_count": 103,
   "metadata": {},
   "outputs": [],
   "source": [
    "# from sklearn.preprocessing import QuantileTransformer\n",
    "\n",
    "# # Create the transformer (default is uniform transformation)\n",
    "# quantile_transformer = QuantileTransformer(\n",
    "#     output_distribution=\"uniform\", random_state=42\n",
    "# )\n",
    "\n",
    "# # Ensure that only numeric columns are transformed\n",
    "# numeric_columns = df.select_dtypes(include=[np.number]).columns\n",
    "# df[numeric_columns] = quantile_transformer.fit_transform(df[numeric_columns])\n",
    "# info.numerical_summary()"
   ]
  },
  {
   "cell_type": "markdown",
   "metadata": {},
   "source": [
    "## Modeling"
   ]
  },
  {
   "cell_type": "markdown",
   "metadata": {},
   "source": [
    "### Final Data Prep"
   ]
  },
  {
   "cell_type": "code",
   "execution_count": 104,
   "metadata": {},
   "outputs": [],
   "source": [
    "def save_as_pickle(path, variable):\n",
    "    with open(path, \"wb\") as file:\n",
    "        pickle.dump(variable, file)"
   ]
  },
  {
   "cell_type": "markdown",
   "metadata": {},
   "source": [
    "#### Encoding"
   ]
  },
  {
   "cell_type": "code",
   "execution_count": 105,
   "metadata": {},
   "outputs": [],
   "source": [
    "encoder = LabelEncoder()\n",
    "\n",
    "# Columns to encode\n",
    "columns_to_encode = [\"Protocol\", \"Flags\", \"Label\", \"direction\"]\n",
    "\n",
    "# Apply label encoding to each column\n",
    "for column in columns_to_encode:\n",
    "    # Fit label encoder and return encoded labels\n",
    "    path = \"../../variables/emotet/static_no_pca\" + column + \"_Encoder.pkl\"\n",
    "    df[column] = encoder.fit_transform(df[column])\n",
    "    save_as_pickle(path, encoder)"
   ]
  },
  {
   "cell_type": "markdown",
   "metadata": {},
   "source": [
    "#### Type Casting"
   ]
  },
  {
   "cell_type": "code",
   "execution_count": 106,
   "metadata": {},
   "outputs": [],
   "source": [
    "df[\"Bytes\"] = df[\"Bytes\"].astype(\"float64\")\n",
    "df[\"Duration\"] = df[\"Duration\"].astype(\"float64\")\n",
    "df[\"Packets\"] = df[\"Packets\"].astype(\"float64\")\n",
    "df[\"flags_count\"] = df[\"flags_count\"].astype(\"float64\")"
   ]
  },
  {
   "cell_type": "code",
   "execution_count": 107,
   "metadata": {},
   "outputs": [],
   "source": [
    "df.drop([\"Source Port\",\"Destination Port\"], axis=1,inplace=True)"
   ]
  },
  {
   "cell_type": "markdown",
   "metadata": {},
   "source": [
    "### Data Splitting"
   ]
  },
  {
   "cell_type": "code",
   "execution_count": 108,
   "metadata": {},
   "outputs": [
    {
     "name": "stdout",
     "output_type": "stream",
     "text": [
      "Index(['Duration', 'Protocol', 'Flags', 'Packets', 'Bytes',\n",
      "       'Mean Payload Size', 'Std Payload Size', 'Min Payload Size',\n",
      "       'Max Payload Size', 'Mean Entropy', 'Min Entropy', 'Max Entropy',\n",
      "       'Mean Inter-Packet Interval', 'Min Inter-Packet Interval',\n",
      "       'Max Inter-Packet Interval', 'Bytes per Packet', 'Packets per Second',\n",
      "       'Bytes per Second', 'Common Port Usage', 'flags_count', 'syn_count',\n",
      "       'ack_count', 'fin_count', 'is_http', 'is_internal_ip', 'direction',\n",
      "       'short_duration', 'single_packet'],\n",
      "      dtype='object')\n"
     ]
    }
   ],
   "source": [
    "# # Separate the 'Status' column\n",
    "label_column = df[\"Label\"]\n",
    "dropped_df = df.drop(\"Label\", axis=1)\n",
    "\n",
    "# Initialize and apply MinMaxScaler to the dropped_df\n",
    "scaler = StandardScaler()\n",
    "scaled_dropped_df = scaler.fit_transform(dropped_df.to_numpy())\n",
    "print(dropped_df.columns)\n",
    "# Create a DataFrame from the scaled dropped_df\n",
    "df = pd.DataFrame(scaled_dropped_df, columns=dropped_df.columns)\n",
    "\n",
    "# Reattach the 'Status' column\n",
    "df[\"Label\"] = label_column\n",
    "\n",
    "df.to_csv(\"../../data/modelling/emotet.csv\")\n",
    "\n",
    "save_as_pickle(r\"../../variables/emotet/static_no_pca/scaler.pkl\", scaler)"
   ]
  },
  {
   "cell_type": "markdown",
   "metadata": {},
   "source": [
    "## Models"
   ]
  },
  {
   "cell_type": "markdown",
   "metadata": {},
   "source": [
    "### Model Creation and Parameters"
   ]
  },
  {
   "cell_type": "code",
   "execution_count": 109,
   "metadata": {},
   "outputs": [],
   "source": [
    "#! Model Evaluation\n",
    "test_size = 0.3\n",
    "iterations = 30\n",
    "\n",
    "#! KNN\n",
    "n_neighbors = 5\n",
    "knn_train_model = KNeighborsClassifier(n_neighbors=n_neighbors)\n",
    "\n",
    "#! Random Forest\n",
    "n_estimators = 100  # You can adjust this number as needed\n",
    "rf_train_model = RandomForestClassifier(n_estimators=n_estimators)\n",
    "\n",
    "#! Logistic Regression\n",
    "max_iter = 5000\n",
    "logreg_model = LogisticRegression(max_iter=max_iter)"
   ]
  },
  {
   "cell_type": "code",
   "execution_count": 110,
   "metadata": {},
   "outputs": [
    {
     "data": {
      "text/plain": [
       "Label\n",
       "False    79625\n",
       "True        21\n",
       "Name: count, dtype: int64"
      ]
     },
     "execution_count": 110,
     "metadata": {},
     "output_type": "execute_result"
    }
   ],
   "source": [
    "df[\"Label\"].isna().value_counts()"
   ]
  },
  {
   "cell_type": "markdown",
   "metadata": {},
   "source": [
    "### Splitting"
   ]
  },
  {
   "cell_type": "code",
   "execution_count": 111,
   "metadata": {},
   "outputs": [],
   "source": [
    "# Reset the index to convert it to a normal column (if needed)\n",
    "df.dropna(inplace=True)\n",
    "df_reset = df.reset_index(drop=True)  # This will drop the old index column\n",
    "X = df_reset.drop(\"Label\", axis=1)  # Now drop the Label\n",
    "if 'index' in X.columns:\n",
    "    X.drop('index', axis=1, inplace=True)\n",
    "y = df[\"Label\"]\n",
    "\n"
   ]
  },
  {
   "cell_type": "code",
   "execution_count": 113,
   "metadata": {},
   "outputs": [
    {
     "name": "stderr",
     "output_type": "stream",
     "text": [
      "/home/yousinator/.cache/pypoetry/virtualenvs/c2-detection-TvTzD0kY-py3.10/lib/python3.10/site-packages/keras/src/layers/rnn/rnn.py:200: UserWarning: Do not pass an `input_shape`/`input_dim` argument to a layer. When using Sequential models, prefer using an `Input(shape)` object as the first layer in the model instead.\n",
      "  super().__init__(**kwargs)\n"
     ]
    },
    {
     "name": "stdout",
     "output_type": "stream",
     "text": [
      "Epoch 1/20\n",
      "\u001b[1m996/996\u001b[0m \u001b[32m━━━━━━━━━━━━━━━━━━━━\u001b[0m\u001b[37m\u001b[0m \u001b[1m10s\u001b[0m 8ms/step - accuracy: 0.8163 - loss: 0.4498 - val_accuracy: 0.8513 - val_loss: 0.3739\n",
      "Epoch 2/20\n",
      "\u001b[1m996/996\u001b[0m \u001b[32m━━━━━━━━━━━━━━━━━━━━\u001b[0m\u001b[37m\u001b[0m \u001b[1m7s\u001b[0m 7ms/step - accuracy: 0.8461 - loss: 0.3807 - val_accuracy: 0.8522 - val_loss: 0.3663\n",
      "Epoch 3/20\n",
      "\u001b[1m996/996\u001b[0m \u001b[32m━━━━━━━━━━━━━━━━━━━━\u001b[0m\u001b[37m\u001b[0m \u001b[1m7s\u001b[0m 7ms/step - accuracy: 0.8483 - loss: 0.3740 - val_accuracy: 0.8522 - val_loss: 0.3543\n",
      "Epoch 4/20\n",
      "\u001b[1m996/996\u001b[0m \u001b[32m━━━━━━━━━━━━━━━━━━━━\u001b[0m\u001b[37m\u001b[0m \u001b[1m7s\u001b[0m 7ms/step - accuracy: 0.8490 - loss: 0.3628 - val_accuracy: 0.8485 - val_loss: 0.3531\n",
      "Epoch 5/20\n",
      "\u001b[1m996/996\u001b[0m \u001b[32m━━━━━━━━━━━━━━━━━━━━\u001b[0m\u001b[37m\u001b[0m \u001b[1m7s\u001b[0m 7ms/step - accuracy: 0.8524 - loss: 0.3604 - val_accuracy: 0.8596 - val_loss: 0.3486\n",
      "Epoch 6/20\n",
      "\u001b[1m996/996\u001b[0m \u001b[32m━━━━━━━━━━━━━━━━━━━━\u001b[0m\u001b[37m\u001b[0m \u001b[1m7s\u001b[0m 7ms/step - accuracy: 0.8545 - loss: 0.3565 - val_accuracy: 0.8602 - val_loss: 0.3470\n",
      "Epoch 7/20\n",
      "\u001b[1m996/996\u001b[0m \u001b[32m━━━━━━━━━━━━━━━━━━━━\u001b[0m\u001b[37m\u001b[0m \u001b[1m7s\u001b[0m 7ms/step - accuracy: 0.8534 - loss: 0.3567 - val_accuracy: 0.8600 - val_loss: 0.3475\n",
      "Epoch 8/20\n",
      "\u001b[1m996/996\u001b[0m \u001b[32m━━━━━━━━━━━━━━━━━━━━\u001b[0m\u001b[37m\u001b[0m \u001b[1m7s\u001b[0m 7ms/step - accuracy: 0.8520 - loss: 0.3584 - val_accuracy: 0.8602 - val_loss: 0.3475\n",
      "Epoch 9/20\n",
      "\u001b[1m996/996\u001b[0m \u001b[32m━━━━━━━━━━━━━━━━━━━━\u001b[0m\u001b[37m\u001b[0m \u001b[1m7s\u001b[0m 7ms/step - accuracy: 0.8553 - loss: 0.3529 - val_accuracy: 0.8602 - val_loss: 0.3450\n",
      "Epoch 10/20\n",
      "\u001b[1m996/996\u001b[0m \u001b[32m━━━━━━━━━━━━━━━━━━━━\u001b[0m\u001b[37m\u001b[0m \u001b[1m7s\u001b[0m 7ms/step - accuracy: 0.8557 - loss: 0.3541 - val_accuracy: 0.8602 - val_loss: 0.3448\n",
      "Epoch 11/20\n",
      "\u001b[1m996/996\u001b[0m \u001b[32m━━━━━━━━━━━━━━━━━━━━\u001b[0m\u001b[37m\u001b[0m \u001b[1m7s\u001b[0m 7ms/step - accuracy: 0.8573 - loss: 0.3504 - val_accuracy: 0.8600 - val_loss: 0.3448\n",
      "Epoch 12/20\n",
      "\u001b[1m996/996\u001b[0m \u001b[32m━━━━━━━━━━━━━━━━━━━━\u001b[0m\u001b[37m\u001b[0m \u001b[1m7s\u001b[0m 7ms/step - accuracy: 0.8534 - loss: 0.3556 - val_accuracy: 0.8602 - val_loss: 0.3438\n",
      "Epoch 13/20\n",
      "\u001b[1m996/996\u001b[0m \u001b[32m━━━━━━━━━━━━━━━━━━━━\u001b[0m\u001b[37m\u001b[0m \u001b[1m7s\u001b[0m 7ms/step - accuracy: 0.8547 - loss: 0.3539 - val_accuracy: 0.8600 - val_loss: 0.3457\n",
      "Epoch 14/20\n",
      "\u001b[1m996/996\u001b[0m \u001b[32m━━━━━━━━━━━━━━━━━━━━\u001b[0m\u001b[37m\u001b[0m \u001b[1m7s\u001b[0m 7ms/step - accuracy: 0.8546 - loss: 0.3555 - val_accuracy: 0.8602 - val_loss: 0.3441\n",
      "Epoch 15/20\n",
      "\u001b[1m996/996\u001b[0m \u001b[32m━━━━━━━━━━━━━━━━━━━━\u001b[0m\u001b[37m\u001b[0m \u001b[1m7s\u001b[0m 7ms/step - accuracy: 0.8556 - loss: 0.3500 - val_accuracy: 0.8603 - val_loss: 0.3433\n",
      "Epoch 16/20\n",
      "\u001b[1m996/996\u001b[0m \u001b[32m━━━━━━━━━━━━━━━━━━━━\u001b[0m\u001b[37m\u001b[0m \u001b[1m7s\u001b[0m 7ms/step - accuracy: 0.8556 - loss: 0.3506 - val_accuracy: 0.8602 - val_loss: 0.3452\n",
      "Epoch 17/20\n",
      "\u001b[1m996/996\u001b[0m \u001b[32m━━━━━━━━━━━━━━━━━━━━\u001b[0m\u001b[37m\u001b[0m \u001b[1m7s\u001b[0m 7ms/step - accuracy: 0.8569 - loss: 0.3525 - val_accuracy: 0.8597 - val_loss: 0.3440\n",
      "Epoch 18/20\n",
      "\u001b[1m996/996\u001b[0m \u001b[32m━━━━━━━━━━━━━━━━━━━━\u001b[0m\u001b[37m\u001b[0m \u001b[1m7s\u001b[0m 7ms/step - accuracy: 0.8553 - loss: 0.3533 - val_accuracy: 0.8598 - val_loss: 0.3450\n",
      "Epoch 19/20\n",
      "\u001b[1m996/996\u001b[0m \u001b[32m━━━━━━━━━━━━━━━━━━━━\u001b[0m\u001b[37m\u001b[0m \u001b[1m7s\u001b[0m 7ms/step - accuracy: 0.8536 - loss: 0.3561 - val_accuracy: 0.8603 - val_loss: 0.3434\n",
      "Epoch 20/20\n",
      "\u001b[1m996/996\u001b[0m \u001b[32m━━━━━━━━━━━━━━━━━━━━\u001b[0m\u001b[37m\u001b[0m \u001b[1m7s\u001b[0m 7ms/step - accuracy: 0.8554 - loss: 0.3504 - val_accuracy: 0.8597 - val_loss: 0.3448\n",
      "\u001b[1m498/498\u001b[0m \u001b[32m━━━━━━━━━━━━━━━━━━━━\u001b[0m\u001b[37m\u001b[0m \u001b[1m2s\u001b[0m 3ms/step - accuracy: 0.8601 - loss: 0.3477\n",
      "Test Loss: 0.3448, Test Accuracy: 0.8597\n"
     ]
    }
   ],
   "source": [
    "import numpy as np\n",
    "import pandas as pd\n",
    "from sklearn.model_selection import train_test_split\n",
    "from tensorflow.keras.models import Sequential\n",
    "from tensorflow.keras.layers import LSTM, Dense, Dropout\n",
    "from tensorflow.keras.utils import to_categorical\n",
    "\n",
    "X_lstm = np.expand_dims(X, axis=1)\n",
    "\n",
    "# Train-test split\n",
    "X_train_lstm, X_test_lstm, y_train_lstm, y_test_lstm = train_test_split(\n",
    "    X_lstm, y, test_size=0.2, random_state=42, stratify=y\n",
    ")\n",
    "\n",
    "# Build the LSTM model\n",
    "model = Sequential(\n",
    "    [\n",
    "        LSTM(\n",
    "            128, input_shape=(X_train_lstm.shape[1], X_train_lstm.shape[2]), return_sequences=True\n",
    "        ),\n",
    "        Dropout(0.2),\n",
    "        LSTM(64, return_sequences=False),\n",
    "        Dropout(0.2),\n",
    "        Dense(64, activation=\"relu\"),\n",
    "        Dropout(0.2),\n",
    "        Dense(\n",
    "            y.shape[1] if len(y.shape) > 1 else 1,\n",
    "            activation=\"sigmoid\",\n",
    "        ),\n",
    "    ]\n",
    ")\n",
    "\n",
    "# Compile the model\n",
    "model.compile(\n",
    "    optimizer=\"adam\",\n",
    "    loss= \"binary_crossentropy\",\n",
    "    metrics=[\"accuracy\"],\n",
    ")\n",
    "\n",
    "# Train the model\n",
    "history = model.fit(\n",
    "    X_train_lstm, y_train_lstm, validation_data=(X_test_lstm, y_test_lstm), epochs=20, batch_size=64\n",
    ")\n",
    "\n",
    "# Evaluate the model\n",
    "test_loss, test_accuracy = model.evaluate(X_test_lstm, y_test_lstm)\n",
    "print(f\"Test Loss: {test_loss:.4f}, Test Accuracy: {test_accuracy:.4f}\")"
   ]
  },
  {
   "cell_type": "markdown",
   "metadata": {},
   "source": [
    "### KNN"
   ]
  },
  {
   "cell_type": "code",
   "execution_count": null,
   "metadata": {},
   "outputs": [],
   "source": [
    "knn_normal = prisma.MachineLearning()\n",
    "knn_normal_metrics, avg_knn_normal_metrics, knn_normal_model = (\n",
    "    knn_normal.evaluate_model(X, y, test_size, iterations, knn_train_model)\n",
    ")"
   ]
  },
  {
   "cell_type": "markdown",
   "metadata": {},
   "source": [
    "### Random Forest"
   ]
  },
  {
   "cell_type": "code",
   "execution_count": null,
   "metadata": {},
   "outputs": [],
   "source": [
    "rf_normal = prisma.MachineLearning()\n",
    "(\n",
    "    rf_normal_metrics,\n",
    "    avg_rf_normal_metrics,\n",
    "    rf_normal_model,\n",
    ") = rf_normal.evaluate_model(X, y, test_size, iterations, rf_train_model)"
   ]
  },
  {
   "cell_type": "markdown",
   "metadata": {},
   "source": [
    "### Logistic Regression"
   ]
  },
  {
   "cell_type": "code",
   "execution_count": null,
   "metadata": {},
   "outputs": [],
   "source": [
    "\n",
    "\n",
    "logreg_normal = prisma.MachineLearning()\n",
    "(\n",
    "    logreg_normal_metrics,\n",
    "    avg_logreg_normal_metrics,\n",
    "    logreg_normal_model,\n",
    ") = logreg_normal.evaluate_model(X, y, test_size, iterations, logreg_model)"
   ]
  },
  {
   "cell_type": "markdown",
   "metadata": {},
   "source": [
    "### Model Evaluation"
   ]
  },
  {
   "cell_type": "code",
   "execution_count": null,
   "metadata": {},
   "outputs": [],
   "source": [
    "normal_metrics = {\"KNearestNeighbor\":avg_knn_normal_metrics, \"RandomForest\":avg_rf_normal_metrics, \"Logistic Regression\":avg_logreg_normal_metrics}\n",
    "plot = prisma.Plotting(df)\n",
    "\n",
    "plot.plot_algorithm_comparison(normal_metrics)"
   ]
  },
  {
   "cell_type": "code",
   "execution_count": null,
   "metadata": {},
   "outputs": [],
   "source": [
    "normal_metrics"
   ]
  },
  {
   "cell_type": "code",
   "execution_count": 20,
   "metadata": {},
   "outputs": [],
   "source": [
    "save_as_pickle(r\"../../models/Rbot_KNN.pkl\", knn_normal_model)"
   ]
  },
  {
   "cell_type": "code",
   "execution_count": null,
   "metadata": {},
   "outputs": [],
   "source": [
    "avg_logreg_normal_metrics\n"
   ]
  },
  {
   "cell_type": "code",
   "execution_count": null,
   "metadata": {},
   "outputs": [],
   "source": [
    "logreg_normal_metrics"
   ]
  },
  {
   "cell_type": "code",
   "execution_count": null,
   "metadata": {},
   "outputs": [],
   "source": [
    "import matplotlib.pyplot as plt\n",
    "import seaborn as sns\n",
    "\n",
    "correlation_matrix = df.corr()\n",
    "\n",
    "# Set up the matplotlib figure\n",
    "plt.figure(figsize=(10, 8))\n",
    "\n",
    "# Draw the heatmap with seaborn\n",
    "sns.heatmap(correlation_matrix, annot=True, cmap=\"coolwarm\", linewidths=0.5)\n",
    "\n",
    "# Display the heatmap\n",
    "plt.show()"
   ]
  },
  {
   "cell_type": "code",
   "execution_count": null,
   "metadata": {},
   "outputs": [],
   "source": []
  },
  {
   "cell_type": "code",
   "execution_count": 112,
   "metadata": {},
   "outputs": [
    {
     "name": "stdout",
     "output_type": "stream",
     "text": [
      "Accuracy:  0.8645344943067649\n",
      "Confusion Matrix:\n",
      " [[11104  1765]\n",
      " [ 1471  9548]]\n",
      "Classification Report:\n",
      "               precision    recall  f1-score   support\n",
      "\n",
      "         0.0       0.88      0.86      0.87     12869\n",
      "         1.0       0.84      0.87      0.86     11019\n",
      "\n",
      "    accuracy                           0.86     23888\n",
      "   macro avg       0.86      0.86      0.86     23888\n",
      "weighted avg       0.87      0.86      0.86     23888\n",
      "\n"
     ]
    }
   ],
   "source": [
    "import xgboost as xgb\n",
    "from sklearn.model_selection import train_test_split\n",
    "from sklearn.metrics import classification_report, accuracy_score, confusion_matrix\n",
    "\n",
    "# Split the dataset into train and test sets\n",
    "X_train, X_test, y_train, y_test = train_test_split(\n",
    "    X, y, test_size=0.3, random_state=0, stratify=y\n",
    ")\n",
    "\n",
    "# Define the XGBoost classifier with default settings\n",
    "xgb_model = xgb.XGBClassifier(\n",
    "    max_depth=3,\n",
    "    n_estimators=100,  # Control the number of trees\n",
    "    learning_rate=0.125,  # Decreased learning rate\n",
    "    random_state=23  # For reproducibility\n",
    ")\n",
    "#! 0.1, 0.11,\n",
    "# Fit the model on training data\n",
    "xgb_model.fit(X_train, y_train)\n",
    "\n",
    "# Make predictions on the test set\n",
    "y_pred = xgb_model.predict(X_test)\n",
    "\n",
    "# Evaluate the model\n",
    "print(\"Accuracy: \", accuracy_score(y_test, y_pred))\n",
    "print(\"Confusion Matrix:\\n\", confusion_matrix(y_test, y_pred))\n",
    "print(\"Classification Report:\\n\", classification_report(y_test, y_pred))"
   ]
  },
  {
   "cell_type": "code",
   "execution_count": null,
   "metadata": {},
   "outputs": [],
   "source": [
    "# Check the performance on the training data\n",
    "y_train_pred = xgb_model.predict(X_test)\n",
    "\n",
    "# Evaluate on training data\n",
    "train_accuracy = accuracy_score(y_test, y_train_pred)\n",
    "print(f\"Training Accuracy: {train_accuracy}\")\n"
   ]
  },
  {
   "cell_type": "code",
   "execution_count": null,
   "metadata": {},
   "outputs": [],
   "source": [
    "from sklearn.model_selection import cross_val_score\n",
    "\n",
    "# Perform k-fold cross-validation\n",
    "cv_scores = cross_val_score(xgb_model, X, y, cv=5)\n",
    "\n",
    "# Print the average accuracy across the folds\n",
    "print(f\"Cross-Validation Accuracy: {cv_scores.mean()}\")\n"
   ]
  },
  {
   "cell_type": "code",
   "execution_count": 114,
   "metadata": {},
   "outputs": [
    {
     "data": {
      "image/png": "[encoded data removed]",
      "text/plain": [
       "<Figure size 640x480 with 1 Axes>"
      ]
     },
     "metadata": {},
     "output_type": "display_data"
    }
   ],
   "source": [
    "import matplotlib.pyplot as plt\n",
    "from sklearn.model_selection import learning_curve\n",
    "\n",
    "# Generate learning curve data\n",
    "train_sizes, train_scores, test_scores = learning_curve(\n",
    "    xgb_model, X, y, cv=5, n_jobs=-1, train_sizes=np.linspace(0.1, 1.0, 5)\n",
    ")\n",
    "\n",
    "# Calculate mean and standard deviation for training and test scores\n",
    "train_mean = np.mean(train_scores, axis=1)\n",
    "train_std = np.std(train_scores, axis=1)\n",
    "test_mean = np.mean(test_scores, axis=1)\n",
    "test_std = np.std(test_scores, axis=1)\n",
    "\n",
    "# Plot learning curves\n",
    "plt.plot(train_sizes, train_mean, 'o-', color=\"r\", label=\"Training score\")\n",
    "plt.plot(train_sizes, test_mean, 'o-', color=\"g\", label=\"Cross-validation score\")\n",
    "\n",
    "plt.fill_between(train_sizes, train_mean - train_std, train_mean + train_std, alpha=0.1, color=\"r\")\n",
    "plt.fill_between(train_sizes, test_mean - test_std, test_mean + test_std, alpha=0.1, color=\"g\")\n",
    "\n",
    "plt.xlabel(\"Training Size\")\n",
    "plt.ylabel(\"Score\")\n",
    "plt.title(\"Learning Curves\")\n",
    "plt.legend(loc=\"best\")\n",
    "plt.show()\n"
   ]
  },
  {
   "cell_type": "code",
   "execution_count": null,
   "metadata": {},
   "outputs": [],
   "source": [
    "import matplotlib.pyplot as plt\n",
    "xgb.plot_importance(xgb_model)\n",
    "plt.show()\n"
   ]
  },
  {
   "cell_type": "code",
   "execution_count": null,
   "metadata": {},
   "outputs": [],
   "source": [
    "import matplotlib.pyplot as plt\n",
    "from sklearn.model_selection import learning_curve\n",
    "\n",
    "# Generate learning curve data\n",
    "train_sizes, train_scores, test_scores = learning_curve(\n",
    "    logreg_normal_model, X, y, cv=5, n_jobs=-1, train_sizes=np.linspace(0.1, 1.0, 5)\n",
    ")\n",
    "\n",
    "# Calculate mean and standard deviation for training and test scores\n",
    "train_mean = np.mean(train_scores, axis=1)\n",
    "train_std = np.std(train_scores, axis=1)\n",
    "test_mean = np.mean(test_scores, axis=1)\n",
    "test_std = np.std(test_scores, axis=1)\n",
    "\n",
    "# Plot learning curves\n",
    "plt.plot(train_sizes, train_mean, \"o-\", color=\"r\", label=\"Training score\")\n",
    "plt.plot(train_sizes, test_mean, \"o-\", color=\"g\", label=\"Cross-validation score\")\n",
    "\n",
    "plt.fill_between(\n",
    "    train_sizes, train_mean - train_std, train_mean + train_std, alpha=0.1, color=\"r\"\n",
    ")\n",
    "plt.fill_between(\n",
    "    train_sizes, test_mean - test_std, test_mean + test_std, alpha=0.1, color=\"g\"\n",
    ")\n",
    "\n",
    "plt.xlabel(\"Training Size\")\n",
    "plt.ylabel(\"Score\")\n",
    "plt.title(\"Learning Curves\")\n",
    "plt.legend(loc=\"best\")\n",
    "plt.show()"
   ]
  },
  {
   "cell_type": "code",
   "execution_count": null,
   "metadata": {},
   "outputs": [],
   "source": [
    "import matplotlib.pyplot as plt\n",
    "from sklearn.model_selection import learning_curve\n",
    "\n",
    "# Generate learning curve data\n",
    "train_sizes, train_scores, test_scores = learning_curve(\n",
    "    knn_normal_model, X, y, cv=5, n_jobs=-1, train_sizes=np.linspace(0.1, 1.0, 5)\n",
    ")\n",
    "\n",
    "# Calculate mean and standard deviation for training and test scores\n",
    "train_mean = np.mean(train_scores, axis=1)\n",
    "train_std = np.std(train_scores, axis=1)\n",
    "test_mean = np.mean(test_scores, axis=1)\n",
    "test_std = np.std(test_scores, axis=1)\n",
    "\n",
    "# Plot learning curves\n",
    "plt.plot(train_sizes, train_mean, \"o-\", color=\"r\", label=\"Training score\")\n",
    "plt.plot(train_sizes, test_mean, \"o-\", color=\"g\", label=\"Cross-validation score\")\n",
    "\n",
    "plt.fill_between(\n",
    "    train_sizes, train_mean - train_std, train_mean + train_std, alpha=0.1, color=\"r\"\n",
    ")\n",
    "plt.fill_between(\n",
    "    train_sizes, test_mean - test_std, test_mean + test_std, alpha=0.1, color=\"g\"\n",
    ")\n",
    "\n",
    "plt.xlabel(\"Training Size\")\n",
    "plt.ylabel(\"Score\")\n",
    "plt.title(\"Learning Curves\")\n",
    "plt.legend(loc=\"best\")\n",
    "plt.show()"
   ]
  },
  {
   "cell_type": "code",
   "execution_count": null,
   "metadata": {},
   "outputs": [],
   "source": [
    "import matplotlib.pyplot as plt\n",
    "from sklearn.model_selection import learning_curve\n",
    "\n",
    "# Generate learning curve data\n",
    "train_sizes, train_scores, test_scores = learning_curve(\n",
    "    rf_normal_model, X, y, cv=5, n_jobs=-1, train_sizes=np.linspace(0.1, 1.0, 5)\n",
    ")\n",
    "\n",
    "# Calculate mean and standard deviation for training and test scores\n",
    "train_mean = np.mean(train_scores, axis=1)\n",
    "train_std = np.std(train_scores, axis=1)\n",
    "test_mean = np.mean(test_scores, axis=1)\n",
    "test_std = np.std(test_scores, axis=1)\n",
    "\n",
    "# Plot learning curves\n",
    "plt.plot(train_sizes, train_mean, \"o-\", color=\"r\", label=\"Training score\")\n",
    "plt.plot(train_sizes, test_mean, \"o-\", color=\"g\", label=\"Cross-validation score\")\n",
    "\n",
    "plt.fill_between(\n",
    "    train_sizes, train_mean - train_std, train_mean + train_std, alpha=0.1, color=\"r\"\n",
    ")\n",
    "plt.fill_between(\n",
    "    train_sizes, test_mean - test_std, test_mean + test_std, alpha=0.1, color=\"g\"\n",
    ")\n",
    "\n",
    "plt.xlabel(\"Training Size\")\n",
    "plt.ylabel(\"Score\")\n",
    "plt.title(\"Learning Curves\")\n",
    "plt.legend(loc=\"best\")\n",
    "plt.show()"
   ]
  },
  {
   "cell_type": "code",
   "execution_count": 32,
   "metadata": {},
   "outputs": [],
   "source": [
    "save_as_pickle(r\"../../models/emotet/logreg.pkl\", logreg_normal_model)"
   ]
  },
  {
   "cell_type": "code",
   "execution_count": null,
   "metadata": {},
   "outputs": [],
   "source": [
    "y_pred = logreg_normal_model.predict(X_test)\n",
    "\n",
    "# Evaluate the model\n",
    "print(\"Accuracy: \", accuracy_score(y_test, y_pred))\n",
    "print(\"Confusion Matrix:\\n\", confusion_matrix(y_test, y_pred))\n",
    "print(\"Classification Report:\\n\", classification_report(y_test, y_pred))"
   ]
  },
  {
   "cell_type": "code",
   "execution_count": null,
   "metadata": {},
   "outputs": [],
   "source": [
    "import matplotlib.pyplot as plt\n",
    "import seaborn as sns\n",
    "\n",
    "sns.displot(df[\"Max Entropy\"])\n",
    "\n",
    "plt.show()"
   ]
  },
  {
   "cell_type": "code",
   "execution_count": null,
   "metadata": {},
   "outputs": [],
   "source": []
  }
 ],
 "metadata": {
  "kernelspec": {
   "display_name": "c2-detection-TvTzD0kY-py3.10",
   "language": "python",
   "name": "python3"
  },
  "language_info": {
   "codemirror_mode": {
    "name": "ipython",
    "version": 3
   },
   "file_extension": ".py",
   "mimetype": "text/x-python",
   "name": "python",
   "nbconvert_exporter": "python",
   "pygments_lexer": "ipython3",
   "version": "3.10.12"
  }
 },
 "nbformat": 4,
 "nbformat_minor": 2
}
