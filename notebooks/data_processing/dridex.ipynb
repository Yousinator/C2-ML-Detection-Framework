{
 "cells": [
  {
   "cell_type": "markdown",
   "metadata": {},
   "source": [
    "# Dridex\n",
    "- **Probable Name**: `Dridex`\n",
    "- **MD5**: 3635ac6099baedae893b3991f730652c\n",
    "- **SHA1**: cd08cc349459f99be7d00c046f6b9e5203c0f110\n",
    "- **SHA256**: 326d9bf458c589d7988886d111b6933db21efc950bfa1b44b1814c9dfdcb674b\n",
    "- [VirusTotal](https://www.virustotal.com/gui/file/326d9bf458c589d7988886d111b6933db21efc950bfa1b44b1814c9dfdcb674b/detection)<br>\n",
    "- [Source Link](https://mcfp.felk.cvut.cz/publicDatasets/CTU-Malware-Capture-Botnet-246-1/)"
   ]
  },
  {
   "cell_type": "code",
   "execution_count": 1,
   "metadata": {},
   "outputs": [],
   "source": [
    "import pandas as pd"
   ]
  },
  {
   "cell_type": "markdown",
   "metadata": {},
   "source": [
    "## Data Preparation"
   ]
  },
  {
   "cell_type": "markdown",
   "metadata": {},
   "source": [
    "### Data Loading"
   ]
  },
  {
   "cell_type": "code",
   "execution_count": null,
   "metadata": {},
   "outputs": [
    {
     "data": {
      "text/html": [
       "<div>\n",
       "<style scoped>\n",
       "    .dataframe tbody tr th:only-of-type {\n",
       "        vertical-align: middle;\n",
       "    }\n",
       "\n",
       "    .dataframe tbody tr th {\n",
       "        vertical-align: top;\n",
       "    }\n",
       "\n",
       "    .dataframe thead th {\n",
       "        text-align: right;\n",
       "    }\n",
       "</style>\n",
       "<table border=\"1\" class=\"dataframe\">\n",
       "  <thead>\n",
       "    <tr style=\"text-align: right;\">\n",
       "      <th></th>\n",
       "      <th>Duration</th>\n",
       "      <th>Source IP</th>\n",
       "      <th>Destination IP</th>\n",
       "      <th>Source Port</th>\n",
       "      <th>Destination Port</th>\n",
       "      <th>Protocol</th>\n",
       "      <th>Flags</th>\n",
       "      <th>Packets</th>\n",
       "      <th>Bytes</th>\n",
       "      <th>Mean Payload Size</th>\n",
       "      <th>Std Payload Size</th>\n",
       "      <th>Min Payload Size</th>\n",
       "      <th>Max Payload Size</th>\n",
       "      <th>Mean Entropy</th>\n",
       "      <th>Min Entropy</th>\n",
       "      <th>Max Entropy</th>\n",
       "      <th>Mean Inter-Packet Interval</th>\n",
       "      <th>Min Inter-Packet Interval</th>\n",
       "      <th>Max Inter-Packet Interval</th>\n",
       "      <th>Label</th>\n",
       "    </tr>\n",
       "  </thead>\n",
       "  <tbody>\n",
       "    <tr>\n",
       "      <th>0</th>\n",
       "      <td>0.000000</td>\n",
       "      <td>216.218.185.162</td>\n",
       "      <td>192.168.1.110</td>\n",
       "      <td>80</td>\n",
       "      <td>49194</td>\n",
       "      <td>TCP</td>\n",
       "      <td>FIN,ACK</td>\n",
       "      <td>1</td>\n",
       "      <td>34</td>\n",
       "      <td>34.0</td>\n",
       "      <td>0.000000</td>\n",
       "      <td>34</td>\n",
       "      <td>34</td>\n",
       "      <td>0.000000</td>\n",
       "      <td>0.00000</td>\n",
       "      <td>0.000000</td>\n",
       "      <td>0.000000</td>\n",
       "      <td>0.000000</td>\n",
       "      <td>0.000000</td>\n",
       "      <td>Benign</td>\n",
       "    </tr>\n",
       "    <tr>\n",
       "      <th>1</th>\n",
       "      <td>0.000000</td>\n",
       "      <td>192.168.1.110</td>\n",
       "      <td>216.218.185.162</td>\n",
       "      <td>49194</td>\n",
       "      <td>80</td>\n",
       "      <td>TCP</td>\n",
       "      <td>RST</td>\n",
       "      <td>1</td>\n",
       "      <td>34</td>\n",
       "      <td>34.0</td>\n",
       "      <td>0.000000</td>\n",
       "      <td>34</td>\n",
       "      <td>34</td>\n",
       "      <td>0.000000</td>\n",
       "      <td>0.00000</td>\n",
       "      <td>0.000000</td>\n",
       "      <td>0.000000</td>\n",
       "      <td>0.000000</td>\n",
       "      <td>0.000000</td>\n",
       "      <td>Benign</td>\n",
       "    </tr>\n",
       "    <tr>\n",
       "      <th>2</th>\n",
       "      <td>8.473776</td>\n",
       "      <td>192.168.1.110</td>\n",
       "      <td>203.153.165.21</td>\n",
       "      <td>49191</td>\n",
       "      <td>8343</td>\n",
       "      <td>TCP</td>\n",
       "      <td>FIN,SYN,ACK</td>\n",
       "      <td>5</td>\n",
       "      <td>182</td>\n",
       "      <td>36.4</td>\n",
       "      <td>4.800000</td>\n",
       "      <td>34</td>\n",
       "      <td>46</td>\n",
       "      <td>0.000000</td>\n",
       "      <td>0.00000</td>\n",
       "      <td>0.000000</td>\n",
       "      <td>2.118444</td>\n",
       "      <td>0.016947</td>\n",
       "      <td>7.054314</td>\n",
       "      <td>Benign</td>\n",
       "    </tr>\n",
       "    <tr>\n",
       "      <th>3</th>\n",
       "      <td>8.473635</td>\n",
       "      <td>203.153.165.21</td>\n",
       "      <td>192.168.1.110</td>\n",
       "      <td>8343</td>\n",
       "      <td>49191</td>\n",
       "      <td>TCP</td>\n",
       "      <td>FIN,SYN,ACK</td>\n",
       "      <td>5</td>\n",
       "      <td>206</td>\n",
       "      <td>41.2</td>\n",
       "      <td>2.400000</td>\n",
       "      <td>40</td>\n",
       "      <td>46</td>\n",
       "      <td>0.000000</td>\n",
       "      <td>0.00000</td>\n",
       "      <td>0.000000</td>\n",
       "      <td>2.118409</td>\n",
       "      <td>0.396701</td>\n",
       "      <td>4.874338</td>\n",
       "      <td>Benign</td>\n",
       "    </tr>\n",
       "    <tr>\n",
       "      <th>4</th>\n",
       "      <td>4.833665</td>\n",
       "      <td>192.168.1.110</td>\n",
       "      <td>203.153.165.21</td>\n",
       "      <td>49191</td>\n",
       "      <td>8343</td>\n",
       "      <td>TLS</td>\n",
       "      <td>PSH,ACK</td>\n",
       "      <td>3</td>\n",
       "      <td>1233</td>\n",
       "      <td>411.0</td>\n",
       "      <td>227.011013</td>\n",
       "      <td>162</td>\n",
       "      <td>711</td>\n",
       "      <td>3.377385</td>\n",
       "      <td>2.98776</td>\n",
       "      <td>3.584673</td>\n",
       "      <td>2.416832</td>\n",
       "      <td>0.389016</td>\n",
       "      <td>4.444649</td>\n",
       "      <td>Benign</td>\n",
       "    </tr>\n",
       "  </tbody>\n",
       "</table>\n",
       "</div>"
      ],
      "text/plain": [
       "   Duration        Source IP   Destination IP  Source Port  Destination Port  \\\n",
       "0  0.000000  216.218.185.162    192.168.1.110           80             49194   \n",
       "1  0.000000    192.168.1.110  216.218.185.162        49194                80   \n",
       "2  8.473776    192.168.1.110   203.153.165.21        49191              8343   \n",
       "3  8.473635   203.153.165.21    192.168.1.110         8343             49191   \n",
       "4  4.833665    192.168.1.110   203.153.165.21        49191              8343   \n",
       "\n",
       "  Protocol        Flags  Packets  Bytes  Mean Payload Size  Std Payload Size  \\\n",
       "0      TCP      FIN,ACK        1     34               34.0          0.000000   \n",
       "1      TCP          RST        1     34               34.0          0.000000   \n",
       "2      TCP  FIN,SYN,ACK        5    182               36.4          4.800000   \n",
       "3      TCP  FIN,SYN,ACK        5    206               41.2          2.400000   \n",
       "4      TLS      PSH,ACK        3   1233              411.0        227.011013   \n",
       "\n",
       "   Min Payload Size  Max Payload Size  Mean Entropy  Min Entropy  Max Entropy  \\\n",
       "0                34                34      0.000000      0.00000     0.000000   \n",
       "1                34                34      0.000000      0.00000     0.000000   \n",
       "2                34                46      0.000000      0.00000     0.000000   \n",
       "3                40                46      0.000000      0.00000     0.000000   \n",
       "4               162               711      3.377385      2.98776     3.584673   \n",
       "\n",
       "   Mean Inter-Packet Interval  Min Inter-Packet Interval  \\\n",
       "0                    0.000000                   0.000000   \n",
       "1                    0.000000                   0.000000   \n",
       "2                    2.118444                   0.016947   \n",
       "3                    2.118409                   0.396701   \n",
       "4                    2.416832                   0.389016   \n",
       "\n",
       "   Max Inter-Packet Interval   Label  \n",
       "0                   0.000000  Benign  \n",
       "1                   0.000000  Benign  \n",
       "2                   7.054314  Benign  \n",
       "3                   4.874338  Benign  \n",
       "4                   4.444649  Benign  "
      ]
     },
     "execution_count": 2,
     "metadata": {},
     "output_type": "execute_result"
    }
   ],
   "source": [
    "file_path = r\"../../data/labelled/dridex_data.csv\"\n",
    "\n",
    "df = pd.read_csv(file_path)\n",
    "df.head()"
   ]
  },
  {
   "cell_type": "markdown",
   "metadata": {},
   "source": [
    "### Data Balancaing"
   ]
  },
  {
   "cell_type": "code",
   "execution_count": 3,
   "metadata": {},
   "outputs": [
    {
     "data": {
      "text/plain": [
       "Label\n",
       "Benign    30130\n",
       "Dridex    30117\n",
       "Name: count, dtype: int64"
      ]
     },
     "execution_count": 3,
     "metadata": {},
     "output_type": "execute_result"
    }
   ],
   "source": [
    "df[\"Label\"].value_counts()\n",
    "\n",
    "#! No need for data balancing"
   ]
  },
  {
   "cell_type": "markdown",
   "metadata": {},
   "source": [
    "## Filling Null"
   ]
  },
  {
   "cell_type": "code",
   "execution_count": 4,
   "metadata": {},
   "outputs": [],
   "source": [
    "df[\"Flags\"] = df[\"Flags\"].fillna(\"UNK\")"
   ]
  },
  {
   "cell_type": "markdown",
   "metadata": {},
   "source": [
    "## Data Engineering"
   ]
  },
  {
   "cell_type": "code",
   "execution_count": 5,
   "metadata": {},
   "outputs": [],
   "source": [
    "engineering_df = df.copy()"
   ]
  },
  {
   "cell_type": "code",
   "execution_count": 7,
   "metadata": {},
   "outputs": [],
   "source": [
    "engineering_df[\"Duration\"] = engineering_df[\"Duration\"].replace(0.000, 0.000001)\n",
    "\n",
    "\n",
    "engineering_df[\"Bytes per Packet\"] = engineering_df.apply(\n",
    "    lambda row: row[\"Bytes\"] / row[\"Packets\"] if row[\"Packets\"] > 0 else 0, axis=1\n",
    ")\n",
    "\n",
    "# Calculate 'Packets per Second' and 'Bytes per Second' if duration is not zero\n",
    "engineering_df[\"Packets per Second\"] = engineering_df.apply(\n",
    "    lambda row: row[\"Packets\"] / row[\"Duration\"] if row[\"Duration\"] > 0 else 0, axis=1\n",
    ")\n",
    "\n",
    "engineering_df[\"Bytes per Second\"] = engineering_df.apply(\n",
    "    lambda row: row[\"Bytes\"] / row[\"Duration\"] if row[\"Duration\"] > 0 else 0, axis=1\n",
    ")"
   ]
  },
  {
   "cell_type": "code",
   "execution_count": 8,
   "metadata": {},
   "outputs": [],
   "source": [
    "def clean_port(port):\n",
    "    try:\n",
    "        # Attempt to convert port to integer\n",
    "        return int(port)\n",
    "    except ValueError:\n",
    "        # If conversion fails, return 0\n",
    "        return 0\n",
    "\n",
    "\n",
    "# Clean the 'Destination Port' data\n",
    "engineering_df[\"Destination Port\"] = engineering_df[\"Destination Port\"].apply(\n",
    "    clean_port\n",
    ")\n",
    "\n",
    "engineering_df[\"Source Port\"] = engineering_df[\"Source Port\"].apply(clean_port)\n",
    "\n",
    "\n",
    "def is_encrypted_protocol(port):\n",
    "    encrypted_ports = {443, 22, 993, 995, 465, 587, 636, 989, 990, 992, 1194, 500}\n",
    "    return 1 if port in encrypted_ports else 0\n",
    "\n",
    "\n",
    "def is_common_port(port, df = engineering_df):\n",
    "    common_ports = {80, 443, 21, 22, 25, 110, 143, 3306, 3389, 5900, 53, 23}\n",
    "    return 1 if port in common_ports else 0\n",
    "\n",
    "\n",
    "engineering_df[\"Destination Port\"] = engineering_df[\"Destination Port\"].astype(int)\n",
    "engineering_df[\"Source Port\"] = engineering_df[\"Source Port\"].astype(int)\n",
    "\n",
    "engineering_df[\"Destination Common Port Usage\"] = engineering_df[\"Destination Port\"].apply(\n",
    "    is_common_port\n",
    ")"
   ]
  },
  {
   "cell_type": "code",
   "execution_count": null,
   "metadata": {},
   "outputs": [],
   "source": [
    "def further_feature_engineering(df):\n",
    "    # Flags Count (specific flags)\n",
    "    df['Flags Count'] = df['Flags'].apply(lambda x: x.split(',') if x else [])\n",
    "    df['SYN Count'] = df['Flags Count'].apply(lambda x: x.count('SYN'))\n",
    "    df['ACK Count'] = df['Flags Count'].apply(lambda x: x.count('ACK'))\n",
    "    df['FIN Count'] = df['Flags Count'].apply(lambda x: x.count('FIN'))\n",
    "    df['Flags Count'] = df['Flags Count'].apply(lambda x: len(x))\n",
    "\n",
    "    # Is HTTP Protocol\n",
    "    df['Is HTTP'] = (df['Protocol'] == 'HTTP').astype(int)\n",
    "\n",
    "    # Internal IP Check\n",
    "    df['Is Internal IP'] = df['Source IP'].apply(lambda x: 1 if x.startswith('10.') or x.startswith('172.') or x.startswith('192.') else 0)\n",
    "\n",
    "    # Packet Direction (assumed local device IP is 10.0.2.102 for example)\n",
    "    local_device_ip = \"192.168.1.110\"\n",
    "    df['Direction'] = df['Destination IP'].apply(lambda x: 'inbound' if x == local_device_ip else 'outbound')\n",
    "\n",
    "    # Short Duration Check\n",
    "    threshold_duration = 0.1\n",
    "    df['Short Duration'] = (df['Duration'] < threshold_duration).astype(int)\n",
    "\n",
    "    # Single Packet Check\n",
    "    df['Single Packet'] = (df['Packets'] == 1).astype(int)\n",
    "\n",
    "    return df\n",
    "\n",
    "engineering_df = further_feature_engineering(engineering_df)"
   ]
  },
  {
   "cell_type": "code",
   "execution_count": 10,
   "metadata": {},
   "outputs": [],
   "source": [
    "engineering_df.drop([\"Destination IP\", \"Source IP\"], axis=1, inplace=True)"
   ]
  },
  {
   "cell_type": "code",
   "execution_count": 11,
   "metadata": {},
   "outputs": [],
   "source": [
    "df = engineering_df.copy()\n",
    "\n",
    "\n",
    "df.to_csv(r\"../../data/processed/dridex.csv\", index=False)"
   ]
  }
 ],
 "metadata": {
  "kernelspec": {
   "display_name": "c2-detection-TvTzD0kY-py3.10",
   "language": "python",
   "name": "python3"
  },
  "language_info": {
   "codemirror_mode": {
    "name": "ipython",
    "version": 3
   },
   "file_extension": ".py",
   "mimetype": "text/x-python",
   "name": "python",
   "nbconvert_exporter": "python",
   "pygments_lexer": "ipython3",
   "version": "3.10.12"
  }
 },
 "nbformat": 4,
 "nbformat_minor": 2
}
