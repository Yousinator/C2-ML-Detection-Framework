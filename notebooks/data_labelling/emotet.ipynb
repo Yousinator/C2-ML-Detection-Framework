{
 "cells": [
  {
   "cell_type": "markdown",
   "metadata": {},
   "source": [
    "# Emotet\n",
    "- Probably Emotet\n",
    "- MD5 8baa9b809b591a11af423824f4d9726a\n",
    "- [VirusTotal](https://www.virustotal.com/gui/file/6393fe8dd4721190f240e22feeb769675b6194a70cabd5a415c2364686a9089c/detection)\n",
    "- [Malware Link](https://mcfp.felk.cvut.cz/publicDatasets/CTU-Malware-Capture-Botnet-114-3/)"
   ]
  },
  {
   "cell_type": "markdown",
   "metadata": {},
   "source": [
    "## Imports and DF"
   ]
  },
  {
   "cell_type": "code",
   "execution_count": 1,
   "metadata": {},
   "outputs": [],
   "source": [
    "import pandas as pd"
   ]
  },
  {
   "cell_type": "code",
   "execution_count": 2,
   "metadata": {},
   "outputs": [],
   "source": [
    "emotet = pd.read_csv(r\"../../data/raw/csv/emotet.csv\")"
   ]
  },
  {
   "cell_type": "markdown",
   "metadata": {},
   "source": [
    "## Labelling"
   ]
  },
  {
   "cell_type": "code",
   "execution_count": 5,
   "metadata": {},
   "outputs": [],
   "source": [
    "ip_list = [\n",
    "    \"103.228.200.37\", \"103.245.153.70\", \"119.59.124.163\", \"13.107.39.203\", \"13.107.42.23\",\n",
    "    \"162.144.46.185\", \"178.23.244.51\", \"188.126.72.179\", \"192.163.239.60\", \"192.168.0.1\",\n",
    "    \"192.168.0.18\", \"192.168.0.65\", \"192.229.211.108\", \"195.219.57.34\", \"20.22.113.133\",\n",
    "    \"20.99.132.105\", \"20.99.133.109\", \"20.99.184.37\", \"20.99.185.48\", \"20.99.186.246\",\n",
    "    \"200.159.128.132\", \"202.44.54.4\", \"23.202.154.36\", \"23.209.116.25\", \"23.216.147.64\",\n",
    "    \"23.216.147.76\", \"23.56.238.72\", \"40.125.120.53\", \"64.207.134.54\", \"96.16.108.70\"\n",
    "]\n",
    "\n",
    "# Update the \"Label\" column where \"Destination IP\" or \"Source IP\" is in the list\n",
    "emotet.loc[\n",
    "    (emotet['Destination IP'].isin(ip_list)) | (emotet['Source IP'].isin(ip_list)),\n",
    "    'Label'\n",
    "] = 'Emotet'\n",
    "\n",
    "emotet.fillna(\"Benign\", inplace=True)"
   ]
  },
  {
   "cell_type": "code",
   "execution_count": 6,
   "metadata": {},
   "outputs": [
    {
     "data": {
      "text/plain": [
       "Label\n",
       "Benign    42922\n",
       "Emotet    36745\n",
       "Name: count, dtype: int64"
      ]
     },
     "execution_count": 6,
     "metadata": {},
     "output_type": "execute_result"
    }
   ],
   "source": [
    "emotet[\"Label\"].value_counts()"
   ]
  },
  {
   "cell_type": "markdown",
   "metadata": {},
   "source": [
    "## Flag Formatting"
   ]
  },
  {
   "cell_type": "code",
   "execution_count": 7,
   "metadata": {},
   "outputs": [],
   "source": [
    "# List of TCP flags\n",
    "tcp_flag_mapping = [\n",
    "    'FIN',\n",
    "    'SYN',\n",
    "    'RST',\n",
    "    'PSH',\n",
    "    'ACK',\n",
    "    'URG',\n",
    "    'ECE',\n",
    "    'CWR',\n",
    "    'NS',\n",
    "]\n",
    "\n",
    "# Function to format the flags\n",
    "def format_flags(flags_str):\n",
    "    # Capitalize the flags string first\n",
    "    flags_str = flags_str.upper()\n",
    "\n",
    "    # Initialize an empty list to store found flags\n",
    "    formatted_flags = []\n",
    "\n",
    "    # Check each individual flag from the mapping\n",
    "    for flag in tcp_flag_mapping:\n",
    "        if flag in flags_str:\n",
    "            formatted_flags.append(flag)\n",
    "\n",
    "    # Join the found flags with commas\n",
    "    return ','.join(formatted_flags)\n",
    "\n",
    "# Apply the format_flags function to the \"flags\" column\n",
    "emotet['Flags'] = emotet['Flags'].apply(format_flags)"
   ]
  },
  {
   "cell_type": "markdown",
   "metadata": {},
   "source": [
    "## Saving to CSV"
   ]
  },
  {
   "cell_type": "code",
   "execution_count": 10,
   "metadata": {},
   "outputs": [],
   "source": [
    "emotet.to_csv('../../data/labelled/static/emotet_static.csv', index=False)"
   ]
  }
 ],
 "metadata": {
  "kernelspec": {
   "display_name": "c2-detection-TvTzD0kY-py3.10",
   "language": "python",
   "name": "python3"
  },
  "language_info": {
   "codemirror_mode": {
    "name": "ipython",
    "version": 3
   },
   "file_extension": ".py",
   "mimetype": "text/x-python",
   "name": "python",
   "nbconvert_exporter": "python",
   "pygments_lexer": "ipython3",
   "version": "3.10.12"
  }
 },
 "nbformat": 4,
 "nbformat_minor": 2
}
