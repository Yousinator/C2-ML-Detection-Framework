{
 "cells": [
  {
   "cell_type": "markdown",
   "metadata": {},
   "source": [
    "# Cridex\n",
    "- Infected with Cridex\n",
    "- MD5: 5fce64eb222aa41e4fb967e9d8fb6a22\n",
    "- [VirusTotal](https://www.virustotal.com/gui/file/bc77bf0cc6b1efd3f10458f398719b7db5a93ba78ea61bbe9e3831a423e6aa2d/relations)\n",
    "- [Malware Link](https://mcfp.felk.cvut.cz/publicDatasets/CTU-Malware-Capture-Botnet-109-1/)"
   ]
  },
  {
   "cell_type": "markdown",
   "metadata": {},
   "source": [
    "## Imports and DF"
   ]
  },
  {
   "cell_type": "code",
   "execution_count": 1,
   "metadata": {},
   "outputs": [],
   "source": [
    "import pandas as pd"
   ]
  },
  {
   "cell_type": "code",
   "execution_count": 15,
   "metadata": {},
   "outputs": [],
   "source": [
    "cridex = pd.read_csv(r\"../../data/raw/csv/cridex.csv\")"
   ]
  },
  {
   "cell_type": "markdown",
   "metadata": {},
   "source": [
    "## Labelling"
   ]
  },
  {
   "cell_type": "code",
   "execution_count": 16,
   "metadata": {},
   "outputs": [],
   "source": [
    "ip_list = [\"116.48.157.176\", \"62.75.184.70\", \"91.222.139.45\"]\n",
    "\n",
    "# Update the \"Label\" column where \"Destination IP\" or \"Source IP\" is in the list\n",
    "cridex.loc[\n",
    "    (cridex[\"Destination IP\"].isin(ip_list)) | (cridex[\"Source IP\"].isin(ip_list)),\n",
    "    \"Label\",\n",
    "] = \"Cridex\"\n",
    "\n",
    "cridex.loc[\n",
    "    (cridex[\"Destination IP\"] == 8080) | (cridex[\"Source IP\"] == 8080),\n",
    "    \"Label\",\n",
    "] = \"Cridex\"\n",
    "\n",
    "cridex.fillna(\"Benign\", inplace=True)"
   ]
  },
  {
   "cell_type": "code",
   "execution_count": 17,
   "metadata": {},
   "outputs": [
    {
     "data": {
      "text/plain": [
       "Label\n",
       "Benign    32756\n",
       "Cridex     8189\n",
       "Name: count, dtype: int64"
      ]
     },
     "execution_count": 17,
     "metadata": {},
     "output_type": "execute_result"
    }
   ],
   "source": [
    "cridex[\"Label\"].value_counts()"
   ]
  },
  {
   "cell_type": "markdown",
   "metadata": {},
   "source": [
    "## Flag Formatting"
   ]
  },
  {
   "cell_type": "code",
   "execution_count": 18,
   "metadata": {},
   "outputs": [],
   "source": [
    "# List of TCP flags\n",
    "tcp_flag_mapping = [\n",
    "    'FIN',\n",
    "    'SYN',\n",
    "    'RST',\n",
    "    'PSH',\n",
    "    'ACK',\n",
    "    'URG',\n",
    "    'ECE',\n",
    "    'CWR',\n",
    "    'NS',\n",
    "]\n",
    "\n",
    "# Function to format the flags\n",
    "def format_flags(flags_str):\n",
    "    # Capitalize the flags string first\n",
    "    flags_str = flags_str.upper()\n",
    "\n",
    "    # Initialize an empty list to store found flags\n",
    "    formatted_flags = []\n",
    "\n",
    "    # Check each individual flag from the mapping\n",
    "    for flag in tcp_flag_mapping:\n",
    "        if flag in flags_str:\n",
    "            formatted_flags.append(flag)\n",
    "\n",
    "    # Join the found flags with commas\n",
    "    return ','.join(formatted_flags)\n",
    "\n",
    "# Apply the format_flags function to the \"flags\" column\n",
    "cridex['Flags'] = cridex['Flags'].apply(format_flags)"
   ]
  },
  {
   "cell_type": "markdown",
   "metadata": {},
   "source": [
    "## Saving to CSV"
   ]
  },
  {
   "cell_type": "code",
   "execution_count": 12,
   "metadata": {},
   "outputs": [],
   "source": [
    "cridex.to_csv('../../data/labelled/static/cridext_static.csv', index=False)"
   ]
  },
  {
   "cell_type": "code",
   "execution_count": null,
   "metadata": {},
   "outputs": [],
   "source": []
  }
 ],
 "metadata": {
  "kernelspec": {
   "display_name": "c2-detection-TvTzD0kY-py3.10",
   "language": "python",
   "name": "python3"
  },
  "language_info": {
   "codemirror_mode": {
    "name": "ipython",
    "version": 3
   },
   "file_extension": ".py",
   "mimetype": "text/x-python",
   "name": "python",
   "nbconvert_exporter": "python",
   "pygments_lexer": "ipython3",
   "version": "3.10.12"
  }
 },
 "nbformat": 4,
 "nbformat_minor": 2
}
