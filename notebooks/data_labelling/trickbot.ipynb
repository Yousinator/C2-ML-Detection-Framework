{
 "cells": [
  {
   "cell_type": "markdown",
   "metadata": {},
   "source": [
    "# Emotet\n",
    "- Probably Emotet\n",
    "- MD5 8baa9b809b591a11af423824f4d9726a\n",
    "- [VirusTotal](https://www.virustotal.com/gui/file/6393fe8dd4721190f240e22feeb769675b6194a70cabd5a415c2364686a9089c/detection)\n",
    "- [Malware Link](https://mcfp.felk.cvut.cz/publicDatasets/CTU-Malware-Capture-Botnet-114-3/)"
   ]
  },
  {
   "cell_type": "markdown",
   "metadata": {},
   "source": [
    "## Imports and DF"
   ]
  },
  {
   "cell_type": "code",
   "execution_count": 1,
   "metadata": {},
   "outputs": [],
   "source": [
    "import pandas as pd"
   ]
  },
  {
   "cell_type": "code",
   "execution_count": 2,
   "metadata": {},
   "outputs": [],
   "source": [
    "trickbot = pd.read_csv(r\"../../data/raw/csv/trickbot.csv\")"
   ]
  },
  {
   "cell_type": "markdown",
   "metadata": {},
   "source": [
    "## Labelling"
   ]
  },
  {
   "cell_type": "code",
   "execution_count": 3,
   "metadata": {},
   "outputs": [],
   "source": [
    "ip_list = [\n",
    "    \"186.109.81.79\",\n",
    "    \"190.138.249.45\",\n",
    "    \"192.189.25.143\",\n",
    "    \"207.35.75.110\",\n",
    "    \"213.25.134.75\",\n",
    "    \"217.29.220.255\",\n",
    "    \"13.107.4.50\",\n",
    "    \"154.66.108.172\",\n",
    "    \"200.116.206.58\",\n",
    "    \"201.232.32.124\",\n",
    "    \"219.93.24.2\",\n",
    "    \"36.37.176.6\",\n",
    "    \"36.66.107.162\",\n",
    "    \"47.18.17.114\",\n",
    "    \"200.119.236.86\",\n",
    "    \"78.47.139.102\",\n",
    "    \"8.8.8.8\",\n",
    "]\n",
    "\n",
    "# Update the \"Label\" column where \"Destination IP\" or \"Source IP\" is in the list\n",
    "trickbot.loc[\n",
    "    (trickbot['Destination IP'].isin(ip_list)) | (trickbot['Source IP'].isin(ip_list)),\n",
    "    'Label'\n",
    "] = 'trickbot'\n",
    "\n",
    "trickbot.fillna(\"Benign\", inplace=True)"
   ]
  },
  {
   "cell_type": "code",
   "execution_count": 4,
   "metadata": {},
   "outputs": [
    {
     "data": {
      "text/plain": [
       "Label\n",
       "Benign      27018\n",
       "trickbot    17730\n",
       "Name: count, dtype: int64"
      ]
     },
     "execution_count": 4,
     "metadata": {},
     "output_type": "execute_result"
    }
   ],
   "source": [
    "trickbot[\"Label\"].value_counts()"
   ]
  },
  {
   "cell_type": "markdown",
   "metadata": {},
   "source": [
    "## Flag Formatting"
   ]
  },
  {
   "cell_type": "code",
   "execution_count": 5,
   "metadata": {},
   "outputs": [],
   "source": [
    "# List of TCP flags\n",
    "tcp_flag_mapping = [\n",
    "    'FIN',\n",
    "    'SYN',\n",
    "    'RST',\n",
    "    'PSH',\n",
    "    'ACK',\n",
    "    'URG',\n",
    "    'ECE',\n",
    "    'CWR',\n",
    "    'NS',\n",
    "]\n",
    "\n",
    "# Function to format the flags\n",
    "def format_flags(flags_str):\n",
    "    # Capitalize the flags string first\n",
    "    flags_str = flags_str.upper()\n",
    "\n",
    "    # Initialize an empty list to store found flags\n",
    "    formatted_flags = []\n",
    "\n",
    "    # Check each individual flag from the mapping\n",
    "    for flag in tcp_flag_mapping:\n",
    "        if flag in flags_str:\n",
    "            formatted_flags.append(flag)\n",
    "\n",
    "    # Join the found flags with commas\n",
    "    return ','.join(formatted_flags)\n",
    "\n",
    "# Apply the format_flags function to the \"flags\" column\n",
    "trickbot['Flags'] = trickbot['Flags'].apply(format_flags)"
   ]
  },
  {
   "cell_type": "markdown",
   "metadata": {},
   "source": [
    "## Saving to CSV"
   ]
  },
  {
   "cell_type": "code",
   "execution_count": 6,
   "metadata": {},
   "outputs": [],
   "source": [
    "trickbot.to_csv('../../data/labelled/static/trickbot_static.csv', index=False)"
   ]
  },
  {
   "cell_type": "code",
   "execution_count": null,
   "metadata": {},
   "outputs": [],
   "source": []
  }
 ],
 "metadata": {
  "kernelspec": {
   "display_name": "c2-detection-TvTzD0kY-py3.10",
   "language": "python",
   "name": "python3"
  },
  "language_info": {
   "codemirror_mode": {
    "name": "ipython",
    "version": 3
   },
   "file_extension": ".py",
   "mimetype": "text/x-python",
   "name": "python",
   "nbconvert_exporter": "python",
   "pygments_lexer": "ipython3",
   "version": "3.10.12"
  }
 },
 "nbformat": 4,
 "nbformat_minor": 2
}
